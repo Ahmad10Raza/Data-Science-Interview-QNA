{
 "cells": [
  {
   "cell_type": "markdown",
   "metadata": {},
   "source": [
    "# 1 What is regression analysis?"
   ]
  },
  {
   "cell_type": "markdown",
   "metadata": {},
   "source": [
    "Regression analysis is a form of predictive modelling technique which investigates the relationship between a dependent (target) and independent variable(s) (predictor). This technique is used for forecasting, time series modeling, and finding the causal effect relationship between the variables.\n",
    "\n",
    "There are multiple types of regression analysis, including:\n",
    "\n",
    "1. **Linear Regression**: Assumes a linear relationship between the dependent variable and the independent variables. It's used when the dependent variable is continuous.\n",
    "\n",
    "2. **Logistic Regression**: Used when the dependent variable is binary. It estimates the probability that an instance belongs to a particular class.\n",
    "\n",
    "3. **Polynomial Regression**: Used when the relationship between the dependent variable and the independent variables is non-linear. It transforms the original features into polynomial features of a given degree and then applies a linear regression on these features.\n",
    "\n",
    "4. **Ridge Regression**: A regularization method that adds a penalty equivalent to square of the magnitude of coefficients to the loss function, helping to prevent overfitting.\n",
    "\n",
    "5. **Lasso Regression**: Another regularization method that adds a penalty equivalent to absolute value of the magnitude of coefficients to the loss function. It can lead to sparse models where some feature coefficients can become zero, effectively excluding the features from the model.\n",
    "\n",
    "6. **Elastic Net Regression**: A middle ground between Ridge Regression and Lasso Regression. It has a regularization term that is a mix of both Ridge and Lasso's regularization terms.\n",
    "\n",
    "Regression analysis is widely used in machine learning and statistics to understand data and make predictions."
   ]
  },
  {
   "cell_type": "markdown",
   "metadata": {},
   "source": [
    "# 2 How does Regression belong to the Supervised Learning approach?"
   ]
  },
  {
   "cell_type": "markdown",
   "metadata": {},
   "source": [
    "Supervised learning is a type of machine learning where the model is trained on a labeled dataset. A labeled dataset is one where the target or outcome variable (the \"label\") is known. The model learns from this data, and then uses what it has learned to predict the outcome variable for new, unseen data.\n",
    "\n",
    "Regression is a type of supervised learning because it also involves predicting a target variable based on input features. However, in regression, the target variable is a continuous value (like a person's income or the price of a house), rather than a discrete class or category (like in classification tasks).\n",
    "\n",
    "In the training phase of a regression model, the model is given input features along with corresponding continuous target values. The model learns the relationship between the features and the target, and tries to minimize the difference (or \"error\") between its predictions and the actual target values. This is typically done by minimizing a loss function, such as Mean Squared Error (MSE).\n",
    "\n",
    "Once the model has been trained, it can be used to predict the target value for new, unseen data. This is why regression is considered a type of supervised learning."
   ]
  },
  {
   "cell_type": "markdown",
   "metadata": {},
   "source": [
    "# 3 Name few types of regressions you are familiar with"
   ]
  },
  {
   "cell_type": "markdown",
   "metadata": {},
   "source": [
    "There are several types of regression techniques used in machine learning and statistics. Here are a few:\n",
    "\n",
    "1. **Linear Regression**: This is the simplest form of regression. It assumes a linear relationship between the dependent and independent variables. It's used when the dependent variable is continuous.\n",
    "\n",
    "2. **Logistic Regression**: Despite its name, logistic regression is used for classification tasks, not regression tasks. It's used when the dependent variable is binary. It estimates the probability that an instance belongs to a particular class.\n",
    "\n",
    "3. **Polynomial Regression**: This is used when the relationship between the dependent and independent variables is non-linear. It transforms the original features into polynomial features of a given degree and then applies a linear regression on these features.\n",
    "\n",
    "4. **Ridge Regression**: This is a type of linear regression that includes a regularization term. The regularization term is a penalty equivalent to square of the magnitude of coefficients. This helps to prevent overfitting by discouraging the model from assigning too much importance to any one feature.\n",
    "\n",
    "5. **Lasso Regression**: This is another type of linear regression that includes a regularization term. However, in Lasso Regression, the regularization term is the absolute value of the magnitude of coefficients. This can lead to sparse models where some feature coefficients can become zero, effectively excluding the features from the model.\n",
    "\n",
    "6. **Elastic Net Regression**: This is a middle ground between Ridge Regression and Lasso Regression. It includes both types of regularization terms, and can be useful when there are multiple features which are correlated with one another.\n",
    "\n",
    "7. **Support Vector Regression (SVR)**: This is a type of Support Vector Machine (SVM) that can be used for regression tasks. It tries to fit the best line within a predefined or set error value. The model produced by SVR depends only on a subset of the training data, because the cost function for building the model ignores any training data close to the model prediction."
   ]
  },
  {
   "cell_type": "markdown",
   "metadata": {},
   "source": [
    "# 4 Explain the Bias-Variance trade-off."
   ]
  },
  {
   "cell_type": "markdown",
   "metadata": {},
   "source": [
    "The Bias-Variance trade-off is a fundamental concept in machine learning that refers to the balance that must be achieved between bias and variance, two sources of error in a model.\n",
    "\n",
    "1. **Bias**: Bias refers to the error introduced by approximating a real-world problem, which may be extremely complicated, by a much simpler model. For example, assuming data is linear when it actually has a more complex structure. High bias can cause an algorithm to miss relevant relations between features and target outputs (underfitting), leading to a low accuracy on both the training and test data.\n",
    "\n",
    "2. **Variance**: Variance, on the other hand, refers to the error introduced by an overly complex model. A model with high variance has learned the training data too well, to the point that it captures the noise in the data. This leads to poor performance on unseen data (overfitting), even if the accuracy on the training data is high.\n",
    "\n",
    "The Bias-Variance trade-off is the point where we are adding just enough complexity to the model that we minimize the total error. An optimal balance of bias and variance would never overfit or underfit the model.\n",
    "\n",
    "In essence, if a model is too simple, it may have high bias and low variance. If a model is too complex, it may have low bias and high variance. The goal is to find the right level of model complexity that achieves low bias and low variance, which is often a challenging task. Techniques like cross-validation, regularization, and ensemble methods can help manage the bias-variance trade-off."
   ]
  },
  {
   "cell_type": "markdown",
   "metadata": {},
   "source": [
    "# 5 What would you do if your model is suffering from low bias and high variance? And why?"
   ]
  },
  {
   "cell_type": "markdown",
   "metadata": {},
   "source": [
    "If your model is suffering from low bias and high variance, it means that your model is overfitting the training data. It's capturing the noise along with the underlying pattern in the data, which leads to poor performance on unseen data.\n",
    "\n",
    "Here are some strategies to address this issue:\n",
    "\n",
    "1. **Get More Training Data**: More data can help the model generalize better. However, this may not always be possible due to resource constraints.\n",
    "\n",
    "2. **Reduce Model Complexity**: If your model is too complex (e.g., a high-degree polynomial regression), you can reduce the complexity by choosing a simpler model or reducing the number of features.\n",
    "\n",
    "3. **Use Regularization**: Regularization techniques can be used to prevent overfitting by adding a penalty term to the loss function that increases with complexity. Examples include L1 (Lasso) and L2 (Ridge) regularization.\n",
    "\n",
    "4. **Use Ensemble Methods**: Techniques like bagging and boosting can help reduce variance. Bagging (Bootstrap Aggregating) involves creating multiple subsets of the original dataset, training a model on each, and then averaging the predictions. Boosting trains multiple weak models sequentially, each trying to correct the mistakes of the previous one.\n",
    "\n",
    "5. **Cross-Validation**: Use cross-validation techniques such as k-fold cross-validation to ensure that the model generalizes well to unseen data.\n",
    "\n",
    "6. **Early Stopping**: In gradient descent, stop training as soon as the validation error reaches a minimum.\n",
    "\n",
    "These strategies work by reducing the model's variance without significantly increasing its bias, helping to improve the model's performance on unseen data."
   ]
  },
  {
   "cell_type": "markdown",
   "metadata": {},
   "source": [
    "# 6 Can you think of a scenario where a learning algorithm with low bias and high variance may be suitable?"
   ]
  },
  {
   "cell_type": "markdown",
   "metadata": {},
   "source": [
    "A learning algorithm with low bias and high variance (typically an overfitting model) might be suitable in scenarios where:\n",
    "\n",
    "1. **The model's primary goal is to make accurate predictions on the training data**: In some cases, the model might be used to find patterns or make predictions on the training data itself, rather than on unseen data. For example, in data mining tasks where the goal is to discover unusual patterns or anomalies in the training data.\n",
    "\n",
    "2. **The noise in the data is minimal and the data is high quality**: If the data is very clean and well-prepared, and the noise is minimal, a high variance model might be able to capture complex patterns without being misled by noise.\n",
    "\n",
    "3. **The model is part of an ensemble**: High variance models can be useful as part of an ensemble of models, where the goal is to average out the predictions of many different models to reduce the overall variance. For example, in a random forest, many high-variance decision trees are averaged to create a model with lower variance.\n",
    "\n",
    "However, these scenarios are relatively rare, and in most cases, it's better to aim for a balance between bias and variance to ensure that the model generalizes well to unseen data."
   ]
  },
  {
   "cell_type": "markdown",
   "metadata": {},
   "source": [
    "# 7 What can you interpret from the coefficient estimates?"
   ]
  },
  {
   "cell_type": "markdown",
   "metadata": {},
   "source": [
    "In a regression model, the coefficient estimates represent the relationship between the independent variables and the dependent variable.\n",
    "\n",
    "Here's what you can interpret from the coefficient estimates:\n",
    "\n",
    "1. **Magnitude**: The magnitude of a coefficient estimate for a particular variable tells you the amount by which the dependent variable is expected to change if that independent variable changes by one unit, assuming all other variables are held constant. For example, in a simple linear regression model for predicting house prices based on size, a coefficient of 300 for size would mean that for every additional square foot, the house price increases by $300, all else being equal.\n",
    "\n",
    "2. **Sign**: The sign of the coefficient estimate tells you the direction of the relationship between the independent variable and the dependent variable. A positive coefficient indicates that as the independent variable increases, the dependent variable also increases. A negative coefficient indicates that as the independent variable increases, the dependent variable decreases.\n",
    "\n",
    "3. **Significance**: The statistical significance of a coefficient estimate (often determined using a t-test and resulting in a p-value) tells you whether or not changes in the independent variable are likely to have an effect on the dependent variable. A small p-value (typically ≤ 0.05) indicates strong evidence that the coefficient is different from zero, suggesting that changes in the predictor are related to changes in the response.\n",
    "\n",
    "Remember, these interpretations assume that the appropriate assumptions for the regression model have been met, such as linearity, independence, homoscedasticity, and normality."
   ]
  },
  {
   "cell_type": "code",
   "execution_count": 2,
   "metadata": {},
   "outputs": [
    {
     "name": "stdout",
     "output_type": "stream",
     "text": [
      "Model Coefficients are [1. 1.]\n",
      "Model Intercept is 0.0\n",
      "Model Coefficients are [1. 1.]\n",
      "Model Intercept is 0.0\n"
     ]
    }
   ],
   "source": [
    "from sklearn import linear_model\n",
    "import numpy as np\n",
    "# Let's use our same training dataset of sum of 2 integers.\n",
    "input_data = np.random.randint(50, size=(20, 2))\n",
    "input_sum = np.zeros(len(input_data))\n",
    "for row in range(len(input_data)):\n",
    "    input_sum[row] = input_data[row][0] + input_data[row][1]\n",
    "# Let's build a simple Linear Regression model\n",
    "regression_model = linear_model.LinearRegression()\n",
    "regression_model.fit(input_data, input_sum)\n",
    "# As you would expect, the coefficients of the inputs should be 1 and intercept 0.\n",
    "print(\"Model Coefficients are \" + str(regression_model.coef_))\n",
    "print(\"Model Intercept is \" + str(regression_model.intercept_))\n",
    "# Since, we had fit_intercept term as True in our model, we get a very small, close to 0 value\n",
    "# for it. Let's see what happens when we set it to False\n",
    "regression_model = linear_model.LinearRegression(fit_intercept=False)\n",
    "regression_model.fit(input_data, input_sum)\n",
    "print(\"Model Coefficients are \" + str(regression_model.coef_))\n",
    "print(\"Model Intercept is \" + str(regression_model.intercept_))"
   ]
  },
  {
   "cell_type": "markdown",
   "metadata": {},
   "source": [
    "# 8 What do you mean by overfitting a regression model? What are the ways to avoid it?"
   ]
  },
  {
   "cell_type": "markdown",
   "metadata": {},
   "source": [
    "Overfitting a regression model means the model performs well on the training data but poorly on unseen data (like validation or test data). This happens when the model learns not only the underlying pattern in the data, but also the noise. As a result, it becomes too complex and fails to generalize well to new data.\n",
    "\n",
    "Here are some ways to avoid overfitting:\n",
    "\n",
    "1. **Collect More Data**: More data can help the model generalize better. However, this may not always be possible due to resource constraints.\n",
    "\n",
    "2. **Simplify the Model**: If your model is too complex (e.g., a high-degree polynomial regression), you can reduce the complexity by choosing a simpler model or reducing the number of features.\n",
    "\n",
    "3. **Use Regularization**: Regularization techniques can be used to prevent overfitting by adding a penalty term to the loss function that increases with complexity. Examples include L1 (Lasso) and L2 (Ridge) regularization.\n",
    "\n",
    "4. **Cross-Validation**: Use cross-validation techniques such as k-fold cross-validation to ensure that the model generalizes well to unseen data.\n",
    "\n",
    "5. **Early Stopping**: In gradient descent, stop training as soon as the validation error reaches a minimum.\n",
    "\n",
    "6. **Pruning**: In decision trees, pruning can help to avoid overfitting by removing the branches that provide little power to classify instances.\n",
    "\n",
    "7. **Ensemble Methods**: Techniques like bagging and boosting can help reduce overfitting by averaging the predictions of multiple models.\n",
    "\n",
    "Remember, the goal is to build a model that generalizes well to unseen data, not one that performs perfectly on the training data."
   ]
  },
  {
   "cell_type": "markdown",
   "metadata": {},
   "source": [
    "# 9 What are the downfalls of using too many or too few variables for performing regression?"
   ]
  },
  {
   "cell_type": "markdown",
   "metadata": {},
   "source": [
    "Using too many or too few variables in a regression model can lead to problems:\n",
    "\n",
    "1. **Too Many Variables**: \n",
    "\n",
    "   - **Overfitting**: If there are too many variables, the model might fit the training data too well, capturing noise along with the underlying pattern. This leads to poor performance on unseen data.\n",
    "   \n",
    "   - **Multicollinearity**: This occurs when independent variables are highly correlated with each other, which can make the model unstable and the coefficients difficult to interpret.\n",
    "   \n",
    "   - **Diminishing Returns**: Adding more and more variables can lead to a point where the improvement in model performance is negligible.\n",
    "   \n",
    "   - **Increased Complexity**: More variables make the model more complex to understand and interpret.\n",
    "\n",
    "2. **Too Few Variables**:\n",
    "\n",
    "   - **Underfitting**: If there are too few variables, the model might not capture all the relevant information, leading to poor performance on both the training and unseen data.\n",
    "   \n",
    "   - **Bias**: The model might be overly simplified and may make assumptions that lead to errors in predictions.\n",
    "   \n",
    "   - **Poor Generalization**: If important predictors are missing, the model will not generalize well to unseen data.\n",
    "\n",
    "To avoid these issues, it's important to use techniques like feature selection to choose the right number of relevant variables. Regularization can also help by adding a penalty for complexity in the loss function, effectively reducing the number of variables by shrinking the coefficients of less important features towards zero."
   ]
  },
  {
   "cell_type": "markdown",
   "metadata": {},
   "source": [
    "# 10 What is linear regression? Why is it called linear?"
   ]
  },
  {
   "cell_type": "markdown",
   "metadata": {},
   "source": [
    "Linear regression is a statistical method that is used to study the relationship between two continuous variables. It's a type of predictive modelling technique which finds and establishes a relationship between two variables (one dependent variable and one independent variable) by fitting a linear equation to the observed data.\n",
    "\n",
    "The term \"linear\" refers to the type of relationship that the model assumes exists between the dependent and independent variables. In linear regression, it's assumed that the dependent variable can be accurately predicted from a linear combination of the independent variables.\n",
    "\n",
    "In its simplest form (simple linear regression), the equation of a linear regression model is:\n",
    "\n"
   ]
  },
  {
   "cell_type": "code",
   "execution_count": null,
   "metadata": {
    "vscode": {
     "languageId": ""
    }
   },
   "outputs": [],
   "source": [
    "y = a + bx + e"
   ]
  },
  {
   "cell_type": "markdown",
   "metadata": {},
   "source": [
    "\n",
    "\n",
    "where:\n",
    "- `y` is the dependent variable,\n",
    "- `x` is the independent variable,\n",
    "- `a` is the y-intercept,\n",
    "- `b` is the slope (also known as the regression coefficient), and\n",
    "- `e` is the error term.\n",
    "\n",
    "The slope `b` represents the average change in `y` for each one-unit change in `x`, while the y-intercept `a` represents the estimated value of `y` when `x` is zero.\n",
    "\n",
    "In multiple linear regression, where there are more than one independent variables, the model is still linear in the sense that the dependent variable is a linear combination of the coefficients and the independent variables. The equation of a multiple linear regression model is:\n",
    "\n"
   ]
  },
  {
   "cell_type": "code",
   "execution_count": null,
   "metadata": {
    "vscode": {
     "languageId": ""
    }
   },
   "outputs": [],
   "source": [
    "y = a + b1*x1 + b2*x2 + ... + bn*xn + e"
   ]
  },
  {
   "cell_type": "markdown",
   "metadata": {},
   "source": [
    "\n",
    "\n",
    "where `x1, x2, ..., xn` are the independent variables and `b1, b2, ..., bn` are their respective coefficients."
   ]
  },
  {
   "cell_type": "markdown",
   "metadata": {},
   "source": [
    "# 11 How can you check if the regression model fits the data well?"
   ]
  },
  {
   "cell_type": "markdown",
   "metadata": {},
   "source": [
    "There are several ways to check if a regression model fits the data well:\n",
    "\n",
    "1. **R-squared (Coefficient of Determination)**: This statistic indicates the proportion of the variance in the dependent variable that is predictable from the independent variables. It ranges from 0 to 1, with 1 indicating a perfect fit. A higher R-squared means a better fit.\n",
    "\n",
    "2. **Adjusted R-squared**: This is a modified version of R-squared that has been adjusted for the number of predictors in the model. It penalizes the addition of uninformative predictors.\n",
    "\n",
    "3. **F-Statistic**: The F-statistic is used for testing the overall significance of the model. The higher the F-statistic, the more likely it is that the variables in the model are significant.\n",
    "\n",
    "4. **Residual Analysis**: Analyzing the residuals (the difference between the observed and predicted values) can also provide information about the fit of the model. The residuals should be normally distributed and have constant variance (homoscedasticity). You can visualize this with a histogram or a Q-Q plot for normality, and a residual vs. fitted values plot for homoscedasticity.\n",
    "\n",
    "5. **Root Mean Squared Error (RMSE) or Mean Absolute Error (MAE)**: These are absolute measures of fit. They represent the average difference between the observed known values of the outcome and the predicted value by the model. Lower values indicate a better fit.\n",
    "\n",
    "6. **Cross-Validation**: This is a robust way to assess the performance of a model on an independent data set. K-Fold Cross validation is often used.\n",
    "\n",
    "7. **AIC and BIC**: These are information criteria for comparing models. They balance the goodness of fit of the model against the complexity of the model (the number of predictors). Lower values are better.\n",
    "\n",
    "8. **P-values**: The p-values for the coefficients indicate whether the variables are significant. A small p-value (typically ≤ 0.05) indicates strong evidence that the coefficient is different from zero.\n",
    "\n",
    "Remember, no single statistic can tell you everything about the fit of the model, so it's important to use these tools together."
   ]
  },
  {
   "cell_type": "markdown",
   "metadata": {},
   "source": [
    "# 12 What is a limitation of R-squared? How do you address it?"
   ]
  },
  {
   "cell_type": "markdown",
   "metadata": {},
   "source": [
    "R-squared, also known as the coefficient of determination, is a statistical measure that represents the proportion of the variance for a dependent variable that's explained by an independent variable or variables in a regression model. While it's a useful measure, it has some limitations:\n",
    "\n",
    "1. **It Can't Determine Whether the Coefficients and Predictions are Biased**: A high R-squared does not necessarily mean the model has a good fit. The model might be overfitting the data or the coefficients might be biased.\n",
    "\n",
    "2. **It Doesn't Indicate Whether a Regression Model is Adequate**: You can have a low R-squared value for a good model, or a high R-squared value for a model that does not fit the data!\n",
    "\n",
    "3. **It Only Increases or Stays the Same as You Add More Variables**: This can be misleading because adding more variables to the model may not necessarily improve the model, and can in fact make it more complex and less interpretable.\n",
    "\n",
    "To address these limitations, you can use the following:\n",
    "\n",
    "1. **Adjusted R-squared**: This is a modification of R-squared that adjusts for the number of predictors in the model. Unlike R-squared, it penalizes the addition of uninformative predictors.\n",
    "\n",
    "2. **Use Other Statistics**: Use other statistics like F-statistic, AIC, BIC, and cross-validation along with R-squared to assess the goodness of fit of the model.\n",
    "\n",
    "3. **Residual Analysis**: Analyze the residuals to check if the model assumptions are met. If the residuals show a pattern (they're not randomly distributed around zero), it's a sign that the model might not be a good fit to the data.\n",
    "\n",
    "4. **P-values**: Check the p-values of the coefficients to see if the variables are significant.\n",
    "\n",
    "Remember, no single statistic can tell you everything about the fit of the model, so it's important to use these tools together."
   ]
  },
  {
   "cell_type": "markdown",
   "metadata": {},
   "source": [
    "# 13 When would you use k-Nearest Neighbors for regression?"
   ]
  },
  {
   "cell_type": "markdown",
   "metadata": {},
   "source": [
    "The k-Nearest Neighbors (k-NN) algorithm can be used for both classification and regression tasks. In the context of regression, k-NN is used to predict a continuous output variable based on the average (or other aggregation) of the 'k' nearest points.\n",
    "\n",
    "You might choose to use k-NN for regression in the following scenarios:\n",
    "\n",
    "1. **Your Data is Numerical**: k-NN works well with numerical data because it uses distance metrics (like Euclidean or Manhattan distance) to find the nearest neighbors.\n",
    "\n",
    "2. **You Have a Small Dataset**: k-NN can be computationally expensive as it stores all the data points and calculates the distance to all points in the dataset to make a prediction. Therefore, it's more suitable for smaller datasets.\n",
    "\n",
    "3. **Your Data Doesn't Have Many Outliers**: k-NN can be sensitive to outliers as they can be chosen as nearest neighbors which can lead to less accurate predictions.\n",
    "\n",
    "4. **Your Data is Noise-Free**: k-NN can be sensitive to noise in the data. If your data is clean and well-prepared, k-NN can be a good choice.\n",
    "\n",
    "5. **You Need a Simple, Easy-to-Understand Model**: k-NN is a simple algorithm that's easy to understand and interpret, which can be an advantage in situations where interpretability is important.\n",
    "\n",
    "6. **You Don't Know the Underlying Distribution of Your Data**: k-NN is a non-parametric method, which means it doesn't make any assumptions about the underlying distribution of the data.\n",
    "\n",
    "Remember, as with any machine learning algorithm, it's important to validate your model using techniques like cross-validation to ensure it generalizes well to unseen data."
   ]
  },
  {
   "cell_type": "code",
   "execution_count": 3,
   "metadata": {},
   "outputs": [
    {
     "data": {
      "image/png": "[encoded data removed]",
      "text/plain": [
       "<Figure size 640x480 with 2 Axes>"
      ]
     },
     "metadata": {},
     "output_type": "display_data"
    }
   ],
   "source": [
    "from sklearn import neighbors\n",
    "import numpy as np\n",
    "import matplotlib.pyplot as plt\n",
    "# Let's create a small random dataset\n",
    "np.random.seed(0)\n",
    "X = 15 * np.random.rand(50, 1)\n",
    "y = 5 * np.random.rand(50, 1)\n",
    "X_test = [[1], [3], [5], [7], [9], [11], [13]]\n",
    "# We will use k=5 in our example and try different weights for our model.\n",
    "n_neighbors = 5\n",
    "weights = ['uniform', 'distance']\n",
    "for i, weight in enumerate(weights):\n",
    "    knn_regressor = neighbors.KNeighborsRegressor(n_neighbors=n_neighbors, weights=weight)\n",
    "    knn_regressor.fit(X, y)\n",
    "    y_pred = knn_regressor.predict(X_test)\n",
    "    plt.subplot(2, 1, i + 1)\n",
    "    plt.scatter(X, y, c='r', label='data')\n",
    "    plt.scatter(X_test, y_pred, c='g', label='prediction')\n",
    "    plt.legend()\n",
    "    plt.title(\"KNeighborsRegressor (k = %i, weights = '%s')\" % (n_neighbors,\n",
    "    weights[i]))\n",
    "plt.show()"
   ]
  },
  {
   "cell_type": "markdown",
   "metadata": {},
   "source": [
    "# 14 Do you always need the intercept term? When do you need it and when do you not?"
   ]
  },
  {
   "cell_type": "markdown",
   "metadata": {},
   "source": [
    "The intercept term in a regression model is the expected value of the dependent variable when all independent variables are zero. \n",
    "\n",
    "You don't always need the intercept term, but excluding it can have significant implications and should be done with caution. Here's when you might need it or not:\n",
    "\n",
    "**When You Need the Intercept:**\n",
    "\n",
    "1. **Intercept Provides a Baseline**: The intercept provides a baseline for the model. It's the expected value of the dependent variable when all predictors are zero. If zero is a possible value for your predictors within the scope of your data, then you should include an intercept.\n",
    "\n",
    "2. **Improves Model Fit**: In many cases, including an intercept can improve the fit of the model and the accuracy of predictions.\n",
    "\n",
    "3. **Prevents Bias**: If the true regression line (population line) does not pass through the origin and you force your model line to pass through the origin (by excluding the intercept), it can result in a biased model.\n",
    "\n",
    "**When You Might Not Need the Intercept:**\n",
    "\n",
    "1. **Theoretical Justification**: If there's a theoretical justification that the response variable should be zero when all predictors are zero, then you might consider a model without an intercept. For example, if you're modeling the height of a tree based on its age, it makes sense that the height would be zero when the age is zero.\n",
    "\n",
    "2. **Data Never Near Zero**: If your predictors are never near zero (within the scope of your data), and there's no reason to extrapolate to near zero, then you might consider a model without an intercept.\n",
    "\n",
    "Remember, excluding the intercept is not common and should be done with caution. It changes the interpretation of the model and can lead to biased results. Always check the assumptions and goodness-of-fit of your model whether you include the intercept or not."
   ]
  },
  {
   "cell_type": "markdown",
   "metadata": {},
   "source": [
    "# 15 What do you mean by collinearity?"
   ]
  },
  {
   "cell_type": "markdown",
   "metadata": {},
   "source": [
    "Collinearity, also known as multicollinearity, is a condition in which some of the independent variables in a multiple regression model are highly correlated with each other. This high correlation means that the variables have similar trends and changes in one are associated with changes in another.\n",
    "\n",
    "Collinearity can pose problems in the regression model, including:\n",
    "\n",
    "1. **Unstable Parameter Estimates**: Collinearity can result in unstable estimates of the regression coefficients. Small changes in the data can lead to large changes in the coefficient estimates.\n",
    "\n",
    "2. **Difficulty in Interpreting the Model**: When variables are highly correlated, it becomes difficult to determine the effect of each variable on the dependent variable. The coefficients become sensitive to the particular sample of data used.\n",
    "\n",
    "3. **Reduced Predictive Power**: Although the overall predictive power of the model might remain high, the model's ability to estimate the effect of individual variables can be compromised.\n",
    "\n",
    "To detect collinearity, you can use:\n",
    "\n",
    "1. **Correlation Matrix**: A correlation matrix can show the correlation between all pairs of variables. High correlation coefficients between pairs of variables may indicate collinearity.\n",
    "\n",
    "2. **Variance Inflation Factor (VIF)**: VIF measures the inflation in the variances of the regression coefficient estimates due to multicollinearity. A VIF value greater than 5 (or 10 in some cases) may indicate a multicollinearity problem.\n",
    "\n",
    "To address collinearity, you can:\n",
    "\n",
    "1. **Remove Some Variables**: If two variables are highly correlated, consider removing one of them.\n",
    "\n",
    "2. **Combine Variables**: Create a new variable that's a combination of the collinear variables.\n",
    "\n",
    "3. **Use Regularization Techniques**: Techniques like Ridge Regression or Lasso can help handle multicollinearity by adding a penalty term to the loss function that effectively reduces the coefficients of the collinear variables."
   ]
  },
  {
   "cell_type": "markdown",
   "metadata": {},
   "source": [
    "# 16 Explain multicollinearity."
   ]
  },
  {
   "cell_type": "markdown",
   "metadata": {},
   "source": [
    "Multicollinearity is a statistical phenomenon in which two or more independent variables in a multiple regression model are highly correlated. In other words, one independent variable can be linearly predicted from the others with a substantial degree of accuracy.\n",
    "\n",
    "Here are some key points about multicollinearity:\n",
    "\n",
    "1. **Impact on Coefficients**: Multicollinearity can lead to unstable estimates of the regression coefficients. This means that small changes in the data can lead to large changes in the model, making the interpretation of the coefficients difficult.\n",
    "\n",
    "2. **Impact on Significance Tests**: Multicollinearity can also affect the results of significance tests. It can cause the regression model to fail to find significant effects that actually exist, or overstate the importance of other variables.\n",
    "\n",
    "3. **Detection**: Multicollinearity can be detected using various methods, including correlation matrices (to see if any independent variables are highly correlated), Variance Inflation Factor (VIF), and tolerance values.\n",
    "\n",
    "4. **Remedies**: If multicollinearity is found in the data, it can be addressed in several ways, such as removing some of the highly correlated independent variables, combining the correlated variables into one, or using regularization methods.\n",
    "\n",
    "It's important to note that multicollinearity is a problem when a researcher wishes to understand the effect of individual independent variables on the dependent variable. It's less of a concern when the goal is to predict the dependent variable, as the overall predictive power of the model may remain high even in the presence of multicollinearity."
   ]
  },
  {
   "cell_type": "markdown",
   "metadata": {},
   "source": [
    "# 17 What are the assumptions that standard linear regression models with the standard estimation techniques make?"
   ]
  },
  {
   "cell_type": "markdown",
   "metadata": {},
   "source": [
    "Standard linear regression models, often estimated using Ordinary Least Squares (OLS), make several key assumptions:\n",
    "\n",
    "1. **Linearity**: The relationship between the independent and dependent variables is linear. This can be checked using scatter plots or residual plots.\n",
    "\n",
    "2. **Independence**: The observations are independent of each other. This is particularly important in time series data where this assumption can be violated.\n",
    "\n",
    "3. **Homoscedasticity**: The variance of the errors is constant across all levels of the independent variables. This can be checked using a residuals versus fitted values plot.\n",
    "\n",
    "4. **Normality**: The errors of the model are normally distributed. This can be checked using a Q-Q plot or statistical tests like the Shapiro-Wilk test.\n",
    "\n",
    "5. **No Multicollinearity**: The independent variables are not perfectly correlated with each other. This can be checked using a correlation matrix or Variance Inflation Factor (VIF).\n",
    "\n",
    "6. **Exogeneity**: The error term should not be correlated with the independent variables. This means that the model should capture all the relevant variables and the error term should only capture random noise.\n",
    "\n",
    "Violations of these assumptions can lead to problems like inefficient parameter estimates, incorrect standard errors, and incorrect inferences. If these assumptions are violated, you might need to use other modeling techniques or transformations that are more appropriate for your data."
   ]
  },
  {
   "cell_type": "markdown",
   "metadata": {},
   "source": [
    "# **Thank You!**"
   ]
  }
 ],
 "metadata": {
  "kernelspec": {
   "display_name": "Python 3",
   "language": "python",
   "name": "python3"
  },
  "language_info": {
   "codemirror_mode": {
    "name": "ipython",
    "version": 3
   },
   "file_extension": ".py",
   "mimetype": "text/x-python",
   "name": "python",
   "nbconvert_exporter": "python",
   "pygments_lexer": "ipython3",
   "version": "3.10.12"
  }
 },
 "nbformat": 4,
 "nbformat_minor": 2
}
