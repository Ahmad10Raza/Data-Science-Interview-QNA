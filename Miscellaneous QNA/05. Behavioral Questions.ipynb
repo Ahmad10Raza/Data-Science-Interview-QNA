{
 "cells": [
  {
   "cell_type": "markdown",
   "metadata": {},
   "source": [
    "**Behavioral Interview Questions**"
   ]
  },
  {
   "cell_type": "markdown",
   "metadata": {},
   "source": [
    "# Tell me about a moment when you were tasked with cleaning and\n",
    "organizing a large data collection.\n",
    "According to studies, Data Scientists spend most of their time on data\n",
    "preparation rather than data mining or modelling. As a result, if you've\n",
    "worked as a Data Scientist before, you've almost certainly cleaned and\n",
    "organized a large data collection. It's also true that this is a job that just a\n",
    "few individuals like. However, data cleaning is one of the most crucial\n",
    "processes. As a result, you should walk the hiring manager through your\n",
    "data preparation process, including deleting duplicate observations,\n",
    "correcting structural problems, filtering outliers, dealing with missing data,\n",
    "and validating data."
   ]
  },
  {
   "cell_type": "markdown",
   "metadata": {},
   "source": [
    "# Extras\n",
    "2. Tell me about a data project you worked on and met a difficulty. What\n",
    "was your reaction?\n",
    "3. Have you gone above and beyond your normal responsibilities? If so,\n",
    "how would you go about doing it?\n",
    "4. Tell me about a period when you were unsuccessful and what you learned\n",
    "from it.\n",
    "5. How have you used data to improve a customer's or stakeholder's\n",
    "experience?\n",
    "6. Give me an example of a goal you've attained and how you got there.\n",
    "7. Give an example of a goal you didn't achieve and how you dealt with it.\n",
    "8. What strategies did you use to meet a tight deadline?\n",
    "9. Tell me about an instance when you successfully settled a disagreement."
   ]
  },
  {
   "cell_type": "markdown",
   "metadata": {},
   "source": [
    "# Interview Questions Top Companies\n",
    "I collected data science interview questions from some of the biggest IT\n",
    "firms to give you an idea of what you could be asked in an interview.\n",
    "1. What's the difference between support vector machines and logistic\n",
    "regression? What is an example of when you would choose to use one over\n",
    "the other?\n",
    "2. What is the integral representation of a ROC area under the curve?\n",
    "3. A disc is spinning on a spindle, and you don’t know which direction the\n",
    "disc is spinning. A set of pins is given to you. How will you utilize the pins\n",
    "to show how the disc is spinning?\n",
    "3. What would you do if you discovered that eliminating missing values\n",
    "from a dataset resulted in bias?\n",
    "4. What metrics would you consider when addressing queries about a\n",
    "product's health, growth, or engagement?\n",
    "5. When attempting to address business difficulties with our product, what\n",
    "metrics would you consider?\n",
    "6. How would you know whether a product is performing well or not?\n",
    "7. What is the best way to tell if a new observation is an outlier? What is the\n",
    "difference between a bias-variance trade-off?\n",
    "8. Discuss how to randomly choose a sample of a product's users.\n",
    "9. Before using machine learning algorithms, explain the data wrangling\n",
    "and cleaning methods.\n",
    "10. How would you deal with a binary classification that isn't balanced?\n",
    "11. What makes a good data visualization different from a bad one?\n",
    "12. What's the best way to find percentiles? Write the code for it.\n",
    "13. Make a function that determines whether a word is a palindrome."
   ]
  },
  {
   "cell_type": "markdown",
   "metadata": {},
   "source": [
    "# **Thank You!**"
   ]
  }
 ],
 "metadata": {
  "language_info": {
   "name": "python"
  }
 },
 "nbformat": 4,
 "nbformat_minor": 2
}
