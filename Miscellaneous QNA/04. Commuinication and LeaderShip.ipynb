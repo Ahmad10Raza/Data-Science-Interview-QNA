{
 "cells": [
  {
   "cell_type": "markdown",
   "metadata": {},
   "source": [
    "**Interview Questions on Communication and Leadership**"
   ]
  },
  {
   "cell_type": "markdown",
   "metadata": {},
   "source": [
    "# 1. Tell me about a time when you were a multi-disciplinary team member.\n",
    "A Data Scientist works with a diverse group of people in technical and non-\n",
    "technical capacities. Working with developers, designers, product experts,\n",
    "data analysts, sales and marketing teams, and top-level executives, not to\n",
    "mention clients, is not unusual for a Data Scientist. So, in your response to\n",
    "this question, show that you're a team player who enjoys the opportunity to\n",
    "meet and interact with people from other departments. Choose a scenario in\n",
    "which you reported to the company's highest-ranking officials to\n",
    "demonstrate not just that you can communicate with anybody but also how\n",
    "important your data-driven insights have been in the past."
   ]
  },
  {
   "cell_type": "markdown",
   "metadata": {},
   "source": [
    "# Extras\n",
    "2. Could you tell me about a moment when you used your leadership skills\n",
    "on the job?\n",
    "3. What steps do you use to resolve a conflict?\n",
    "4. What method do you like to use to establish rapport with others?\n",
    "5. Discuss a successful presentation you delivered and why you believe it\n",
    "went well.\n",
    "6. How would you communicate a complex technical issue to a colleague or\n",
    "client who is less technical?\n",
    "7. Describe a situation in which you had to be cautious when discussing\n",
    "sensitive information. How did you pull it off?\n",
    "8. On a scale of 1 to 10, how good are your communication skills? Give\n",
    "instances of situations that prove the rating is correct."
   ]
  },
  {
   "cell_type": "markdown",
   "metadata": {},
   "source": [
    "# **Thank You!**"
   ]
  }
 ],
 "metadata": {
  "language_info": {
   "name": "python"
  }
 },
 "nbformat": 4,
 "nbformat_minor": 2
}
