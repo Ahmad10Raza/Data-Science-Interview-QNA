{
 "cells": [
  {
   "cell_type": "markdown",
   "metadata": {},
   "source": [
    "# Numpy Interview Questions"
   ]
  },
  {
   "cell_type": "markdown",
   "metadata": {},
   "source": [
    "# 1. What exactly is Numpy?"
   ]
  },
  {
   "cell_type": "markdown",
   "metadata": {},
   "source": [
    "NumPy, which stands for Numerical Python, is a fundamental package for scientific computing in Python. It provides support for arrays (including multidimensional arrays), along with a large collection of high-level mathematical functions to operate on these arrays.\n",
    "\n",
    "Key features of NumPy include:\n",
    "\n",
    "- **ndarray**: An efficient multidimensional array providing fast array-oriented arithmetic operations and flexible broadcasting capabilities.\n",
    "\n",
    "- **Mathematical functions**: A large set of mathematical functions for fast operations on entire arrays of data without having to write loops.\n",
    "\n",
    "- **Linear algebra, random number generation, and Fourier transform capabilities**.\n",
    "\n",
    "- **Tools for integrating code written in C, C++, and Fortran**.\n",
    "\n",
    "Because arrays in NumPy are more efficient than Python lists for certain operations, NumPy can be used to perform mathematical calculations on large amounts of data with better performance.\n",
    "\n",
    "Here's a simple example of using NumPy:\n",
    "\n"
   ]
  },
  {
   "cell_type": "code",
   "execution_count": 1,
   "metadata": {},
   "outputs": [
    {
     "name": "stdout",
     "output_type": "stream",
     "text": [
      "[3 4 5]\n"
     ]
    }
   ],
   "source": [
    "import numpy as np\n",
    "\n",
    "# Create a NumPy array\n",
    "a = np.array([1, 2, 3])\n",
    "\n",
    "# Perform a mathematical operation on the array\n",
    "b = a + 2\n",
    "\n",
    "print(b)  # Outputs: array([3, 4, 5])"
   ]
  },
  {
   "cell_type": "markdown",
   "metadata": {},
   "source": [
    "\n",
    "\n",
    "In this example, we first import the NumPy module. Then, we create a NumPy array `a` with the values 1, 2, 3. Finally, we add 2 to each element of the array using a single operation, demonstrating NumPy's ability to perform vectorized operations."
   ]
  },
  {
   "cell_type": "markdown",
   "metadata": {},
   "source": [
    "# 2. What is the purpose of NumPy in Python?"
   ]
  },
  {
   "cell_type": "markdown",
   "metadata": {},
   "source": [
    "NumPy, short for Numerical Python, serves several purposes in Python:\n",
    "\n",
    "1. **Efficient Numeric Operations**: NumPy provides the `ndarray` object for efficient storage and manipulation of dense data buffers in Python. The arrays are more efficient and performant than Python's built-in list data structure.\n",
    "\n",
    "2. **Mathematical Operations**: NumPy provides a comprehensive set of mathematical functions to perform operations on these arrays. These include arithmetic operations, statistical operations, linear algebra operations, and more.\n",
    "\n",
    "3. **Interoperability**: NumPy arrays can be used to interface with C/C++ and Fortran code, which is useful for integrating legacy code or utilizing high-performance libraries.\n",
    "\n",
    "4. **Broadcasting**: NumPy provides functionality to perform operations between arrays of different shapes, which is known as broadcasting. This makes it easier to perform matrix computations.\n",
    "\n",
    "5. **Base for Other Libraries**: NumPy serves as the foundational package for scientific computing in Python. Many other libraries in the scientific Python ecosystem, such as pandas, matplotlib, and scikit-learn, are built on top of NumPy and rely on its array and mathematical functionality.\n",
    "\n",
    "\n"
   ]
  },
  {
   "cell_type": "markdown",
   "metadata": {},
   "source": [
    "# 3. What does Python's NumPy stand for?"
   ]
  },
  {
   "cell_type": "markdown",
   "metadata": {},
   "source": [
    "NumPy (pronounced /nmpa/ (NUM-py) or /nmpi/ (NUM-pee)) is a Python\n",
    "library that adds support for huge, multi-dimensional arrays and matrices,\n",
    "as well as a vast number of high-level mathematical functions to work on\n",
    "these arrays.\n"
   ]
  },
  {
   "cell_type": "markdown",
   "metadata": {},
   "source": [
    "# 4. Where does NumPy come into play?\n",
    "NumPy is a free, open-source Python library for numerical computations. A\n",
    "multi-dimensional array and matrix data structures are included in NumPy,\n",
    "and it may execute many operations on arrays, including trigonometric,\n",
    "statistical, and algebraic algorithms. NumPy is a Numeric and Numarray\n",
    "extension."
   ]
  },
  {
   "cell_type": "markdown",
   "metadata": {},
   "source": [
    "# 5. Installation of Numpy into Windows?"
   ]
  },
  {
   "cell_type": "markdown",
   "metadata": {},
   "source": [
    "To install NumPy on Windows, you'll need to have Python and pip, the Python package installer, already installed on your system. If you have these, you can install NumPy by opening a command prompt (cmd) and typing the following command:\n",
    "\n"
   ]
  },
  {
   "cell_type": "code",
   "execution_count": null,
   "metadata": {
    "vscode": {
     "languageId": "bash"
    }
   },
   "outputs": [],
   "source": [
    "pip install numpy"
   ]
  },
  {
   "cell_type": "markdown",
   "metadata": {},
   "source": [
    "\n",
    "\n",
    "If you have both Python 2 and Python 3 installed on your system, and you want to install NumPy for Python 3, you might need to use `pip3` instead:\n",
    "\n"
   ]
  },
  {
   "cell_type": "code",
   "execution_count": null,
   "metadata": {
    "vscode": {
     "languageId": "bash"
    }
   },
   "outputs": [],
   "source": [
    "pip3 install numpy"
   ]
  },
  {
   "cell_type": "markdown",
   "metadata": {},
   "source": [
    "\n",
    "\n",
    "If you're using a Python virtual environment, make sure to activate the environment before running the install command.\n",
    "\n",
    "If you encounter permission issues, try using the `--user` flag:\n",
    "\n"
   ]
  },
  {
   "cell_type": "code",
   "execution_count": null,
   "metadata": {
    "vscode": {
     "languageId": "bash"
    }
   },
   "outputs": [],
   "source": [
    "pip install --user numpy"
   ]
  },
  {
   "cell_type": "markdown",
   "metadata": {},
   "source": [
    "\n",
    "\n",
    "Remember to replace `pip` with `pip3` if you're using Python 3.\n",
    "\n",
    "If you don't have Python or pip installed, I recommend installing the Anaconda distribution of Python, which comes with NumPy, pandas, and many other useful libraries for scientific computing and data analysis. You can download Anaconda from the official website: https://www.anaconda.com/products/distribution."
   ]
  },
  {
   "cell_type": "markdown",
   "metadata": {},
   "source": [
    "# 6. What is the best way to import NumPy into Python?\n",
    "\n",
    "Import NumPy as np"
   ]
  },
  {
   "cell_type": "markdown",
   "metadata": {},
   "source": [
    "# 7. How can I make a one-dimensional(1D)array?"
   ]
  },
  {
   "cell_type": "markdown",
   "metadata": {},
   "source": [
    "You can create a one-dimensional (1D) array in NumPy using the `numpy.array()` function and passing in a list as an argument. Here's an example:\n",
    "\n"
   ]
  },
  {
   "cell_type": "code",
   "execution_count": 2,
   "metadata": {},
   "outputs": [
    {
     "name": "stdout",
     "output_type": "stream",
     "text": [
      "[1 2 3 4 5]\n"
     ]
    }
   ],
   "source": [
    "import numpy as np\n",
    "\n",
    "# Create a 1D array\n",
    "arr = np.array([1, 2, 3, 4, 5])\n",
    "\n",
    "print(arr)"
   ]
  },
  {
   "cell_type": "markdown",
   "metadata": {},
   "source": [
    "\n",
    "\n",
    "In this example, we first import the NumPy module. Then, we create a 1D NumPy array `arr` with the values 1, 2, 3, 4, 5. Finally, we print the array.\n",
    "\n",
    "The `numpy.array()` function is a central data structure of the NumPy library. You can create an array from numerical ranges with `numpy.arange()` function, or filled with constant or random values using `numpy.zeros()`, `numpy.ones()`, or `numpy.random.random()`, respectively."
   ]
  },
  {
   "cell_type": "markdown",
   "metadata": {},
   "source": [
    "# 8. How can I make a two-dimensional (2D)array?"
   ]
  },
  {
   "cell_type": "markdown",
   "metadata": {},
   "source": [
    "You can create a two-dimensional (2D) array in NumPy using the `numpy.array()` function and passing in a list of lists as an argument. Each sublist will be a row in the 2D array. Here's an example:\n",
    "\n"
   ]
  },
  {
   "cell_type": "code",
   "execution_count": 3,
   "metadata": {},
   "outputs": [
    {
     "name": "stdout",
     "output_type": "stream",
     "text": [
      "[[1 2 3]\n",
      " [4 5 6]\n",
      " [7 8 9]]\n"
     ]
    }
   ],
   "source": [
    "import numpy as np\n",
    "\n",
    "# Create a 2D array\n",
    "arr = np.array([[1, 2, 3], [4, 5, 6], [7, 8, 9]])\n",
    "\n",
    "print(arr)"
   ]
  },
  {
   "cell_type": "markdown",
   "metadata": {},
   "source": [
    "\n",
    "\n",
    "In this example, we first import the NumPy module. Then, we create a 2D NumPy array `arr` with the values 1, 2, 3 in the first row, 4, 5, 6 in the second row, and 7, 8, 9 in the third row. Finally, we print the array.\n",
    "\n",
    "The `numpy.array()` function is a central data structure of the NumPy library. You can also create a 2D array filled with constant or random values using `numpy.zeros()`, `numpy.ones()`, or `numpy.random.random()`, respectively."
   ]
  },
  {
   "cell_type": "markdown",
   "metadata": {},
   "source": [
    "# 9. How do I make a 3D or ND array?"
   ]
  },
  {
   "cell_type": "markdown",
   "metadata": {},
   "source": [
    "You can create a three-dimensional (3D) or N-dimensional array in NumPy using the `numpy.array()` function and passing in a nested list as an argument. Each sublist represents a higher dimension in the array. Here's an example of creating a 3D array:\n",
    "\n"
   ]
  },
  {
   "cell_type": "code",
   "execution_count": 4,
   "metadata": {},
   "outputs": [
    {
     "name": "stdout",
     "output_type": "stream",
     "text": [
      "[[[ 1  2  3]\n",
      "  [ 4  5  6]]\n",
      "\n",
      " [[ 7  8  9]\n",
      "  [10 11 12]]]\n"
     ]
    }
   ],
   "source": [
    "import numpy as np\n",
    "\n",
    "# Create a 3D array\n",
    "arr = np.array([[[1, 2, 3], [4, 5, 6]], [[7, 8, 9], [10, 11, 12]]])\n",
    "\n",
    "print(arr)"
   ]
  },
  {
   "cell_type": "markdown",
   "metadata": {},
   "source": [
    "\n",
    "\n",
    "In this example, we first import the NumPy module. Then, we create a 3D NumPy array `arr`. The outermost list contains two elements, each of which is a 2D array. Finally, we print the array.\n",
    "\n",
    "The `numpy.array()` function is a central data structure of the NumPy library. You can also create a 3D or ND array filled with constant or random values using `numpy.zeros()`, `numpy.ones()`, or `numpy.random.random()`, respectively."
   ]
  },
  {
   "cell_type": "markdown",
   "metadata": {},
   "source": [
    "# 10. What is the best way to use a shape in a 1D array?"
   ]
  },
  {
   "cell_type": "markdown",
   "metadata": {},
   "source": [
    "The shape of an array in NumPy is a tuple that indicates the size of each dimension. For a 1D array, the shape will be a tuple with just one element, which is the length of the array.\n",
    "\n",
    "You can get the shape of an array using the `shape` attribute, and you can reshape an array without changing its data using the `reshape` method. Here's an example:\n",
    "\n"
   ]
  },
  {
   "cell_type": "code",
   "execution_count": 5,
   "metadata": {},
   "outputs": [
    {
     "name": "stdout",
     "output_type": "stream",
     "text": [
      "Shape: (6,)\n",
      "Reshaped array:\n",
      "[[1 2 3]\n",
      " [4 5 6]]\n"
     ]
    }
   ],
   "source": [
    "import numpy as np\n",
    "\n",
    "# Create a 1D array\n",
    "arr = np.array([1, 2, 3, 4, 5, 6])\n",
    "\n",
    "# Print the shape of the array\n",
    "print(\"Shape:\", arr.shape)\n",
    "\n",
    "# Reshape the array to a 2D array with 2 rows and 3 columns\n",
    "arr_reshaped = arr.reshape((2, 3))\n",
    "\n",
    "print(\"Reshaped array:\")\n",
    "print(arr_reshaped)"
   ]
  },
  {
   "cell_type": "markdown",
   "metadata": {},
   "source": [
    "\n",
    "\n",
    "In this example, we first create a 1D NumPy array `arr` with the values 1, 2, 3, 4, 5, 6. Then, we print the shape of the array, which is `(6,)`. After that, we reshape the array to a 2D array with 2 rows and 3 columns, and print the reshaped array.\n",
    "\n",
    "Note that the total size of the array must remain the same after the reshape. In this case, the original array has 6 elements, and the reshaped array has 2*3=6 elements."
   ]
  },
  {
   "cell_type": "markdown",
   "metadata": {},
   "source": [
    "# 11. What is the best way to use shape in a 2D array?"
   ]
  },
  {
   "cell_type": "markdown",
   "metadata": {},
   "source": [
    "The shape of a 2D array in NumPy is a tuple that indicates the number of rows and columns. You can get the shape of an array using the `shape` attribute, and you can reshape an array without changing its data using the `reshape` method.\n",
    "\n",
    "Here's an example:\n",
    "\n"
   ]
  },
  {
   "cell_type": "code",
   "execution_count": 6,
   "metadata": {},
   "outputs": [
    {
     "name": "stdout",
     "output_type": "stream",
     "text": [
      "Shape: (2, 3)\n",
      "Reshaped array:\n",
      "[1 2 3 4 5 6]\n"
     ]
    }
   ],
   "source": [
    "import numpy as np\n",
    "\n",
    "# Create a 2D array\n",
    "arr = np.array([[1, 2, 3], [4, 5, 6]])\n",
    "\n",
    "# Print the shape of the array\n",
    "print(\"Shape:\", arr.shape)\n",
    "\n",
    "# Reshape the array to a 1D array\n",
    "arr_reshaped = arr.reshape((-1,))\n",
    "\n",
    "print(\"Reshaped array:\")\n",
    "print(arr_reshaped)"
   ]
  },
  {
   "cell_type": "markdown",
   "metadata": {},
   "source": [
    "\n",
    "\n",
    "In this example, we first create a 2D NumPy array `arr` with two rows and three columns. Then, we print the shape of the array, which is `(2, 3)`. After that, we reshape the array to a 1D array using `reshape((-1,))`, and print the reshaped array.\n",
    "\n",
    "The `-1` in the `reshape` method is a placeholder that means \"calculate the correct dimension size automatically\". In this case, it calculates that we need 6 elements in the 1D array to preserve the total size of the original array."
   ]
  },
  {
   "cell_type": "markdown",
   "metadata": {},
   "source": [
    "# 12. What is the best way to use shape in 3D or Nd Array?"
   ]
  },
  {
   "cell_type": "markdown",
   "metadata": {},
   "source": [
    "The shape of a 3D or ND array in NumPy is a tuple that indicates the size of each dimension. You can get the shape of an array using the `shape` attribute, and you can reshape an array without changing its data using the `reshape` method.\n",
    "\n",
    "Here's an example with a 3D array:\n",
    "\n"
   ]
  },
  {
   "cell_type": "code",
   "execution_count": 7,
   "metadata": {},
   "outputs": [
    {
     "name": "stdout",
     "output_type": "stream",
     "text": [
      "Shape: (2, 2, 3)\n",
      "Reshaped array:\n",
      "[[ 1  2  3]\n",
      " [ 4  5  6]\n",
      " [ 7  8  9]\n",
      " [10 11 12]]\n"
     ]
    }
   ],
   "source": [
    "import numpy as np\n",
    "\n",
    "# Create a 3D array\n",
    "arr = np.array([[[1, 2, 3], [4, 5, 6]], [[7, 8, 9], [10, 11, 12]]])\n",
    "\n",
    "# Print the shape of the array\n",
    "print(\"Shape:\", arr.shape)\n",
    "\n",
    "# Reshape the array to a 2D array\n",
    "arr_reshaped = arr.reshape((-1, arr.shape[-1]))\n",
    "\n",
    "print(\"Reshaped array:\")\n",
    "print(arr_reshaped)"
   ]
  },
  {
   "cell_type": "markdown",
   "metadata": {},
   "source": [
    "\n",
    "\n",
    "In this example, we first create a 3D NumPy array `arr`. Then, we print the shape of the array, which is `(2, 2, 3)`. After that, we reshape the array to a 2D array with `arr.shape[-1]` (which is 3) columns, and as many rows as needed to preserve the total size of the original array. We use `-1` in the `reshape` method as a placeholder that means \"calculate the correct dimension size automatically\". Finally, we print the reshaped array."
   ]
  }
 ],
 "metadata": {
  "kernelspec": {
   "display_name": "Python 3",
   "language": "python",
   "name": "python3"
  },
  "language_info": {
   "codemirror_mode": {
    "name": "ipython",
    "version": 3
   },
   "file_extension": ".py",
   "mimetype": "text/x-python",
   "name": "python",
   "nbconvert_exporter": "python",
   "pygments_lexer": "ipython3",
   "version": "3.10.12"
  }
 },
 "nbformat": 4,
 "nbformat_minor": 2
}
