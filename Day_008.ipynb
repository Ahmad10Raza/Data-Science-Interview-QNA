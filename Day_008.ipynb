{
 "cells": [
  {
   "cell_type": "markdown",
   "metadata": {},
   "source": [
    "# Numpy Interview Questions"
   ]
  },
  {
   "cell_type": "markdown",
   "metadata": {},
   "source": [
    "# 1. What exactly is Numpy?"
   ]
  },
  {
   "cell_type": "markdown",
   "metadata": {},
   "source": [
    "NumPy, which stands for Numerical Python, is a fundamental package for scientific computing in Python. It provides support for arrays (including multidimensional arrays), along with a large collection of high-level mathematical functions to operate on these arrays.\n",
    "\n",
    "Key features of NumPy include:\n",
    "\n",
    "- **ndarray**: An efficient multidimensional array providing fast array-oriented arithmetic operations and flexible broadcasting capabilities.\n",
    "\n",
    "- **Mathematical functions**: A large set of mathematical functions for fast operations on entire arrays of data without having to write loops.\n",
    "\n",
    "- **Linear algebra, random number generation, and Fourier transform capabilities**.\n",
    "\n",
    "- **Tools for integrating code written in C, C++, and Fortran**.\n",
    "\n",
    "Because arrays in NumPy are more efficient than Python lists for certain operations, NumPy can be used to perform mathematical calculations on large amounts of data with better performance.\n",
    "\n",
    "Here's a simple example of using NumPy:\n",
    "\n"
   ]
  },
  {
   "cell_type": "code",
   "execution_count": 1,
   "metadata": {},
   "outputs": [
    {
     "name": "stdout",
     "output_type": "stream",
     "text": [
      "[3 4 5]\n"
     ]
    }
   ],
   "source": [
    "import numpy as np\n",
    "\n",
    "# Create a NumPy array\n",
    "a = np.array([1, 2, 3])\n",
    "\n",
    "# Perform a mathematical operation on the array\n",
    "b = a + 2\n",
    "\n",
    "print(b)  # Outputs: array([3, 4, 5])"
   ]
  },
  {
   "cell_type": "markdown",
   "metadata": {},
   "source": [
    "\n",
    "\n",
    "In this example, we first import the NumPy module. Then, we create a NumPy array `a` with the values 1, 2, 3. Finally, we add 2 to each element of the array using a single operation, demonstrating NumPy's ability to perform vectorized operations."
   ]
  },
  {
   "cell_type": "markdown",
   "metadata": {},
   "source": [
    "# 2. What is the purpose of NumPy in Python?"
   ]
  },
  {
   "cell_type": "markdown",
   "metadata": {},
   "source": [
    "NumPy, short for Numerical Python, serves several purposes in Python:\n",
    "\n",
    "1. **Efficient Numeric Operations**: NumPy provides the `ndarray` object for efficient storage and manipulation of dense data buffers in Python. The arrays are more efficient and performant than Python's built-in list data structure.\n",
    "\n",
    "2. **Mathematical Operations**: NumPy provides a comprehensive set of mathematical functions to perform operations on these arrays. These include arithmetic operations, statistical operations, linear algebra operations, and more.\n",
    "\n",
    "3. **Interoperability**: NumPy arrays can be used to interface with C/C++ and Fortran code, which is useful for integrating legacy code or utilizing high-performance libraries.\n",
    "\n",
    "4. **Broadcasting**: NumPy provides functionality to perform operations between arrays of different shapes, which is known as broadcasting. This makes it easier to perform matrix computations.\n",
    "\n",
    "5. **Base for Other Libraries**: NumPy serves as the foundational package for scientific computing in Python. Many other libraries in the scientific Python ecosystem, such as pandas, matplotlib, and scikit-learn, are built on top of NumPy and rely on its array and mathematical functionality.\n",
    "\n",
    "\n"
   ]
  },
  {
   "cell_type": "markdown",
   "metadata": {},
   "source": [
    "# 3. What does Python's NumPy stand for?"
   ]
  },
  {
   "cell_type": "markdown",
   "metadata": {},
   "source": [
    "NumPy (pronounced /nmpa/ (NUM-py) or /nmpi/ (NUM-pee)) is a Python\n",
    "library that adds support for huge, multi-dimensional arrays and matrices,\n",
    "as well as a vast number of high-level mathematical functions to work on\n",
    "these arrays.\n"
   ]
  },
  {
   "cell_type": "markdown",
   "metadata": {},
   "source": [
    "# 4. Where does NumPy come into play?\n",
    "NumPy is a free, open-source Python library for numerical computations. A\n",
    "multi-dimensional array and matrix data structures are included in NumPy,\n",
    "and it may execute many operations on arrays, including trigonometric,\n",
    "statistical, and algebraic algorithms. NumPy is a Numeric and Numarray\n",
    "extension."
   ]
  },
  {
   "cell_type": "markdown",
   "metadata": {},
   "source": [
    "# 5. Installation of Numpy into Windows?"
   ]
  },
  {
   "cell_type": "markdown",
   "metadata": {},
   "source": [
    "To install NumPy on Windows, you'll need to have Python and pip, the Python package installer, already installed on your system. If you have these, you can install NumPy by opening a command prompt (cmd) and typing the following command:\n",
    "\n"
   ]
  },
  {
   "cell_type": "code",
   "execution_count": null,
   "metadata": {
    "vscode": {
     "languageId": "bash"
    }
   },
   "outputs": [],
   "source": [
    "pip install numpy"
   ]
  },
  {
   "cell_type": "markdown",
   "metadata": {},
   "source": [
    "\n",
    "\n",
    "If you have both Python 2 and Python 3 installed on your system, and you want to install NumPy for Python 3, you might need to use `pip3` instead:\n",
    "\n"
   ]
  },
  {
   "cell_type": "code",
   "execution_count": null,
   "metadata": {
    "vscode": {
     "languageId": "bash"
    }
   },
   "outputs": [],
   "source": [
    "pip3 install numpy"
   ]
  },
  {
   "cell_type": "markdown",
   "metadata": {},
   "source": [
    "\n",
    "\n",
    "If you're using a Python virtual environment, make sure to activate the environment before running the install command.\n",
    "\n",
    "If you encounter permission issues, try using the `--user` flag:\n",
    "\n"
   ]
  },
  {
   "cell_type": "code",
   "execution_count": null,
   "metadata": {
    "vscode": {
     "languageId": "bash"
    }
   },
   "outputs": [],
   "source": [
    "pip install --user numpy"
   ]
  },
  {
   "cell_type": "markdown",
   "metadata": {},
   "source": [
    "\n",
    "\n",
    "Remember to replace `pip` with `pip3` if you're using Python 3.\n",
    "\n",
    "If you don't have Python or pip installed, I recommend installing the Anaconda distribution of Python, which comes with NumPy, pandas, and many other useful libraries for scientific computing and data analysis. You can download Anaconda from the official website: https://www.anaconda.com/products/distribution."
   ]
  },
  {
   "cell_type": "markdown",
   "metadata": {},
   "source": [
    "# 6. What is the best way to import NumPy into Python?\n",
    "\n",
    "Import NumPy as np"
   ]
  },
  {
   "cell_type": "markdown",
   "metadata": {},
   "source": [
    "# 7. How can I make a one-dimensional(1D)array?"
   ]
  },
  {
   "cell_type": "markdown",
   "metadata": {},
   "source": [
    "You can create a one-dimensional (1D) array in NumPy using the `numpy.array()` function and passing in a list as an argument. Here's an example:\n",
    "\n"
   ]
  },
  {
   "cell_type": "code",
   "execution_count": 2,
   "metadata": {},
   "outputs": [
    {
     "name": "stdout",
     "output_type": "stream",
     "text": [
      "[1 2 3 4 5]\n"
     ]
    }
   ],
   "source": [
    "import numpy as np\n",
    "\n",
    "# Create a 1D array\n",
    "arr = np.array([1, 2, 3, 4, 5])\n",
    "\n",
    "print(arr)"
   ]
  },
  {
   "cell_type": "markdown",
   "metadata": {},
   "source": [
    "\n",
    "\n",
    "In this example, we first import the NumPy module. Then, we create a 1D NumPy array `arr` with the values 1, 2, 3, 4, 5. Finally, we print the array.\n",
    "\n",
    "The `numpy.array()` function is a central data structure of the NumPy library. You can create an array from numerical ranges with `numpy.arange()` function, or filled with constant or random values using `numpy.zeros()`, `numpy.ones()`, or `numpy.random.random()`, respectively."
   ]
  },
  {
   "cell_type": "markdown",
   "metadata": {},
   "source": [
    "# 8. How can I make a two-dimensional (2D)array?"
   ]
  },
  {
   "cell_type": "markdown",
   "metadata": {},
   "source": [
    "You can create a two-dimensional (2D) array in NumPy using the `numpy.array()` function and passing in a list of lists as an argument. Each sublist will be a row in the 2D array. Here's an example:\n",
    "\n"
   ]
  },
  {
   "cell_type": "code",
   "execution_count": 3,
   "metadata": {},
   "outputs": [
    {
     "name": "stdout",
     "output_type": "stream",
     "text": [
      "[[1 2 3]\n",
      " [4 5 6]\n",
      " [7 8 9]]\n"
     ]
    }
   ],
   "source": [
    "import numpy as np\n",
    "\n",
    "# Create a 2D array\n",
    "arr = np.array([[1, 2, 3], [4, 5, 6], [7, 8, 9]])\n",
    "\n",
    "print(arr)"
   ]
  },
  {
   "cell_type": "markdown",
   "metadata": {},
   "source": [
    "\n",
    "\n",
    "In this example, we first import the NumPy module. Then, we create a 2D NumPy array `arr` with the values 1, 2, 3 in the first row, 4, 5, 6 in the second row, and 7, 8, 9 in the third row. Finally, we print the array.\n",
    "\n",
    "The `numpy.array()` function is a central data structure of the NumPy library. You can also create a 2D array filled with constant or random values using `numpy.zeros()`, `numpy.ones()`, or `numpy.random.random()`, respectively."
   ]
  },
  {
   "cell_type": "markdown",
   "metadata": {},
   "source": [
    "# 9. How do I make a 3D or ND array?"
   ]
  },
  {
   "cell_type": "markdown",
   "metadata": {},
   "source": [
    "You can create a three-dimensional (3D) or N-dimensional array in NumPy using the `numpy.array()` function and passing in a nested list as an argument. Each sublist represents a higher dimension in the array. Here's an example of creating a 3D array:\n",
    "\n"
   ]
  },
  {
   "cell_type": "code",
   "execution_count": 4,
   "metadata": {},
   "outputs": [
    {
     "name": "stdout",
     "output_type": "stream",
     "text": [
      "[[[ 1  2  3]\n",
      "  [ 4  5  6]]\n",
      "\n",
      " [[ 7  8  9]\n",
      "  [10 11 12]]]\n"
     ]
    }
   ],
   "source": [
    "import numpy as np\n",
    "\n",
    "# Create a 3D array\n",
    "arr = np.array([[[1, 2, 3], [4, 5, 6]], [[7, 8, 9], [10, 11, 12]]])\n",
    "\n",
    "print(arr)"
   ]
  },
  {
   "cell_type": "markdown",
   "metadata": {},
   "source": [
    "\n",
    "\n",
    "In this example, we first import the NumPy module. Then, we create a 3D NumPy array `arr`. The outermost list contains two elements, each of which is a 2D array. Finally, we print the array.\n",
    "\n",
    "The `numpy.array()` function is a central data structure of the NumPy library. You can also create a 3D or ND array filled with constant or random values using `numpy.zeros()`, `numpy.ones()`, or `numpy.random.random()`, respectively."
   ]
  },
  {
   "cell_type": "markdown",
   "metadata": {},
   "source": [
    "# 10. What is the best way to use a shape in a 1D array?"
   ]
  },
  {
   "cell_type": "markdown",
   "metadata": {},
   "source": [
    "The shape of an array in NumPy is a tuple that indicates the size of each dimension. For a 1D array, the shape will be a tuple with just one element, which is the length of the array.\n",
    "\n",
    "You can get the shape of an array using the `shape` attribute, and you can reshape an array without changing its data using the `reshape` method. Here's an example:\n",
    "\n"
   ]
  },
  {
   "cell_type": "code",
   "execution_count": 5,
   "metadata": {},
   "outputs": [
    {
     "name": "stdout",
     "output_type": "stream",
     "text": [
      "Shape: (6,)\n",
      "Reshaped array:\n",
      "[[1 2 3]\n",
      " [4 5 6]]\n"
     ]
    }
   ],
   "source": [
    "import numpy as np\n",
    "\n",
    "# Create a 1D array\n",
    "arr = np.array([1, 2, 3, 4, 5, 6])\n",
    "\n",
    "# Print the shape of the array\n",
    "print(\"Shape:\", arr.shape)\n",
    "\n",
    "# Reshape the array to a 2D array with 2 rows and 3 columns\n",
    "arr_reshaped = arr.reshape((2, 3))\n",
    "\n",
    "print(\"Reshaped array:\")\n",
    "print(arr_reshaped)"
   ]
  },
  {
   "cell_type": "markdown",
   "metadata": {},
   "source": [
    "\n",
    "\n",
    "In this example, we first create a 1D NumPy array `arr` with the values 1, 2, 3, 4, 5, 6. Then, we print the shape of the array, which is `(6,)`. After that, we reshape the array to a 2D array with 2 rows and 3 columns, and print the reshaped array.\n",
    "\n",
    "Note that the total size of the array must remain the same after the reshape. In this case, the original array has 6 elements, and the reshaped array has 2*3=6 elements."
   ]
  },
  {
   "cell_type": "markdown",
   "metadata": {},
   "source": [
    "# 11. What is the best way to use shape in a 2D array?"
   ]
  },
  {
   "cell_type": "markdown",
   "metadata": {},
   "source": [
    "The shape of a 2D array in NumPy is a tuple that indicates the number of rows and columns. You can get the shape of an array using the `shape` attribute, and you can reshape an array without changing its data using the `reshape` method.\n",
    "\n",
    "Here's an example:\n",
    "\n"
   ]
  },
  {
   "cell_type": "code",
   "execution_count": 6,
   "metadata": {},
   "outputs": [
    {
     "name": "stdout",
     "output_type": "stream",
     "text": [
      "Shape: (2, 3)\n",
      "Reshaped array:\n",
      "[1 2 3 4 5 6]\n"
     ]
    }
   ],
   "source": [
    "import numpy as np\n",
    "\n",
    "# Create a 2D array\n",
    "arr = np.array([[1, 2, 3], [4, 5, 6]])\n",
    "\n",
    "# Print the shape of the array\n",
    "print(\"Shape:\", arr.shape)\n",
    "\n",
    "# Reshape the array to a 1D array\n",
    "arr_reshaped = arr.reshape((-1,))\n",
    "\n",
    "print(\"Reshaped array:\")\n",
    "print(arr_reshaped)"
   ]
  },
  {
   "cell_type": "markdown",
   "metadata": {},
   "source": [
    "\n",
    "\n",
    "In this example, we first create a 2D NumPy array `arr` with two rows and three columns. Then, we print the shape of the array, which is `(2, 3)`. After that, we reshape the array to a 1D array using `reshape((-1,))`, and print the reshaped array.\n",
    "\n",
    "The `-1` in the `reshape` method is a placeholder that means \"calculate the correct dimension size automatically\". In this case, it calculates that we need 6 elements in the 1D array to preserve the total size of the original array."
   ]
  },
  {
   "cell_type": "markdown",
   "metadata": {},
   "source": [
    "# 12. What is the best way to use shape in 3D or Nd Array?"
   ]
  },
  {
   "cell_type": "markdown",
   "metadata": {},
   "source": [
    "The shape of a 3D or ND array in NumPy is a tuple that indicates the size of each dimension. You can get the shape of an array using the `shape` attribute, and you can reshape an array without changing its data using the `reshape` method.\n",
    "\n",
    "Here's an example with a 3D array:\n",
    "\n"
   ]
  },
  {
   "cell_type": "code",
   "execution_count": 7,
   "metadata": {},
   "outputs": [
    {
     "name": "stdout",
     "output_type": "stream",
     "text": [
      "Shape: (2, 2, 3)\n",
      "Reshaped array:\n",
      "[[ 1  2  3]\n",
      " [ 4  5  6]\n",
      " [ 7  8  9]\n",
      " [10 11 12]]\n"
     ]
    }
   ],
   "source": [
    "import numpy as np\n",
    "\n",
    "# Create a 3D array\n",
    "arr = np.array([[[1, 2, 3], [4, 5, 6]], [[7, 8, 9], [10, 11, 12]]])\n",
    "\n",
    "# Print the shape of the array\n",
    "print(\"Shape:\", arr.shape)\n",
    "\n",
    "# Reshape the array to a 2D array\n",
    "arr_reshaped = arr.reshape((-1, arr.shape[-1]))\n",
    "\n",
    "print(\"Reshaped array:\")\n",
    "print(arr_reshaped)"
   ]
  },
  {
   "cell_type": "markdown",
   "metadata": {},
   "source": [
    "\n",
    "\n",
    "In this example, we first create a 3D NumPy array `arr`. Then, we print the shape of the array, which is `(2, 2, 3)`. After that, we reshape the array to a 2D array with `arr.shape[-1]` (which is 3) columns, and as many rows as needed to preserve the total size of the original array. We use `-1` in the `reshape` method as a placeholder that means \"calculate the correct dimension size automatically\". Finally, we print the reshaped array."
   ]
  },
  {
   "cell_type": "markdown",
   "metadata": {},
   "source": [
    "# 13. What is the best way to identify the data type of a NumPy array?"
   ]
  },
  {
   "cell_type": "markdown",
   "metadata": {},
   "source": [
    "You can identify the data type of a NumPy array using the `dtype` attribute. This attribute returns the data type of the elements in the array. Here's an example:\n",
    "\n"
   ]
  },
  {
   "cell_type": "code",
   "execution_count": 8,
   "metadata": {},
   "outputs": [
    {
     "name": "stdout",
     "output_type": "stream",
     "text": [
      "Data type: int64\n"
     ]
    }
   ],
   "source": [
    "import numpy as np\n",
    "\n",
    "# Create a 1D array\n",
    "arr = np.array([1, 2, 3, 4, 5])\n",
    "\n",
    "# Print the data type of the array\n",
    "print(\"Data type:\", arr.dtype)"
   ]
  },
  {
   "cell_type": "markdown",
   "metadata": {},
   "source": [
    "\n",
    "\n",
    "In this example, we first create a 1D NumPy array `arr` with the values 1, 2, 3, 4, 5. Then, we print the data type of the array, which is `int64` on a 64-bit system.\n",
    "\n",
    "Note that NumPy arrays are homogeneous, which means all elements in the array have the same data type. If you create an array with elements of different types, NumPy will automatically upcast to the highest level type. For example, if an array contains both integers and floats, all the integers will be upcast to floats."
   ]
  },
  {
   "cell_type": "markdown",
   "metadata": {},
   "source": [
    "# 14. Can you print 5 zeros?"
   ]
  },
  {
   "cell_type": "markdown",
   "metadata": {},
   "source": [
    "Yes, you can use the `numpy.zeros()` function to create an array of zeros. Here's how you can create a 1D array with 5 zeros:\n",
    "\n"
   ]
  },
  {
   "cell_type": "code",
   "execution_count": 9,
   "metadata": {},
   "outputs": [
    {
     "name": "stdout",
     "output_type": "stream",
     "text": [
      "[0. 0. 0. 0. 0.]\n"
     ]
    }
   ],
   "source": [
    "import numpy as np\n",
    "\n",
    "# Create a 1D array with 5 zeros\n",
    "arr = np.zeros(5)\n",
    "\n",
    "print(arr)"
   ]
  },
  {
   "cell_type": "markdown",
   "metadata": {},
   "source": [
    "\n",
    "\n",
    "In this example, we first import the NumPy module. Then, we create a 1D NumPy array `arr` with 5 zeros using the `np.zeros()` function. Finally, we print the array. The output will be `[0. 0. 0. 0. 0.]`. Note that the `np.zeros()` function defaults to creating arrays with a data type of `float64`."
   ]
  },
  {
   "cell_type": "markdown",
   "metadata": {},
   "source": [
    "# 15. Print zeros in a two-row, three-column format?"
   ]
  },
  {
   "cell_type": "markdown",
   "metadata": {},
   "source": [
    "You can use the `numpy.zeros()` function to create a 2D array of zeros. You just need to pass a tuple with the desired shape as an argument. Here's how you can create a 2D array with 2 rows and 3 columns of zeros:\n",
    "\n"
   ]
  },
  {
   "cell_type": "code",
   "execution_count": 10,
   "metadata": {},
   "outputs": [
    {
     "name": "stdout",
     "output_type": "stream",
     "text": [
      "[[0. 0. 0.]\n",
      " [0. 0. 0.]]\n"
     ]
    }
   ],
   "source": [
    "import numpy as np\n",
    "\n",
    "# Create a 2D array with 2 rows and 3 columns of zeros\n",
    "arr = np.zeros((2, 3))\n",
    "\n",
    "print(arr)"
   ]
  },
  {
   "cell_type": "markdown",
   "metadata": {},
   "source": [
    "\n",
    "\n",
    "In this example, we first import the NumPy module. Then, we create a 2D NumPy array `arr` with 2 rows and 3 columns of zeros using the `np.zeros()` function. Finally, we print the array. The output will be a 2x3 matrix filled with zeros."
   ]
  },
  {
   "cell_type": "markdown",
   "metadata": {},
   "source": [
    "# 16. Is it possible to utilize eye() diagonal values?"
   ]
  },
  {
   "cell_type": "markdown",
   "metadata": {},
   "source": [
    "Yes, the `numpy.eye()` function is used to create a 2D array with ones on the diagonal and zeros elsewhere. This is also known as an identity matrix in linear algebra. Here's an example:\n",
    "\n"
   ]
  },
  {
   "cell_type": "code",
   "execution_count": 11,
   "metadata": {},
   "outputs": [
    {
     "name": "stdout",
     "output_type": "stream",
     "text": [
      "[[1. 0. 0.]\n",
      " [0. 1. 0.]\n",
      " [0. 0. 1.]]\n"
     ]
    }
   ],
   "source": [
    "import numpy as np\n",
    "\n",
    "# Create a 2D identity matrix with 3 rows and 3 columns\n",
    "arr = np.eye(3)\n",
    "\n",
    "print(arr)"
   ]
  },
  {
   "cell_type": "markdown",
   "metadata": {},
   "source": [
    "\n",
    "\n",
    "In this example, we first import the NumPy module. Then, we create a 2D identity matrix `arr` with 3 rows and 3 columns using the `np.eye()` function. Finally, we print the array. The output will be a 3x3 matrix with ones on the diagonal and zeros elsewhere.\n",
    "\n",
    "You can also create a matrix with ones not on the main diagonal by using the `k` parameter. For example, `np.eye(3, k=1)` will create a matrix with ones on the diagonal above the main diagonal."
   ]
  },
  {
   "cell_type": "markdown",
   "metadata": {},
   "source": [
    "# 17. Is it possible to utilize diag() to create a square matrix?"
   ]
  },
  {
   "cell_type": "markdown",
   "metadata": {},
   "source": [
    "Yes, the `numpy.diag()` function can be used to create a square matrix with a given 1D array as the diagonal. Here's an example:\n",
    "\n"
   ]
  },
  {
   "cell_type": "code",
   "execution_count": 12,
   "metadata": {},
   "outputs": [
    {
     "name": "stdout",
     "output_type": "stream",
     "text": [
      "[[1 0 0]\n",
      " [0 2 0]\n",
      " [0 0 3]]\n"
     ]
    }
   ],
   "source": [
    "import numpy as np\n",
    "\n",
    "# Create a 1D array\n",
    "arr = np.array([1, 2, 3])\n",
    "\n",
    "# Create a square matrix with 'arr' as the diagonal\n",
    "matrix = np.diag(arr)\n",
    "\n",
    "print(matrix)"
   ]
  },
  {
   "cell_type": "markdown",
   "metadata": {},
   "source": [
    "\n",
    "\n",
    "In this example, we first import the NumPy module. Then, we create a 1D NumPy array `arr` with the values 1, 2, 3. After that, we create a square matrix `matrix` with `arr` as the diagonal using the `np.diag()` function. Finally, we print the matrix. The output will be a 3x3 matrix with the values 1, 2, 3 on the diagonal and zeros elsewhere."
   ]
  },
  {
   "cell_type": "markdown",
   "metadata": {},
   "source": [
    "# 18. Printing range Show 4 integers random numbers between 1 and 15"
   ]
  },
  {
   "cell_type": "markdown",
   "metadata": {},
   "source": [
    "You can use the `numpy.random.randint()` function to generate random integers in a given range. Here's how you can generate 4 random integers between 1 and 15:\n",
    "\n"
   ]
  },
  {
   "cell_type": "code",
   "execution_count": 13,
   "metadata": {},
   "outputs": [
    {
     "name": "stdout",
     "output_type": "stream",
     "text": [
      "[15 12  2  2]\n"
     ]
    }
   ],
   "source": [
    "import numpy as np\n",
    "\n",
    "# Generate 4 random integers between 1 and 15\n",
    "random_numbers = np.random.randint(1, 16, size=4)\n",
    "\n",
    "print(random_numbers)"
   ]
  },
  {
   "cell_type": "markdown",
   "metadata": {},
   "source": [
    "\n",
    "\n",
    "In this example, we first import the NumPy module. Then, we generate 4 random integers between 1 and 15 using the `np.random.randint()` function and store them in `random_numbers`. The second argument to `np.random.randint()` is exclusive, so we use 16 to include 15 in the range. Finally, we print the array of random numbers."
   ]
  },
  {
   "cell_type": "markdown",
   "metadata": {},
   "source": [
    "# 19. Print a range of 1 to 100 and show four integers at random."
   ]
  },
  {
   "cell_type": "markdown",
   "metadata": {},
   "source": [
    "You can use the `numpy.random.choice()` function to select random elements from a 1D array. Here's how you can select 4 random integers from a range of 1 to 100:\n",
    "\n"
   ]
  },
  {
   "cell_type": "code",
   "execution_count": 14,
   "metadata": {},
   "outputs": [
    {
     "name": "stdout",
     "output_type": "stream",
     "text": [
      "[23 63 45 27]\n"
     ]
    }
   ],
   "source": [
    "import numpy as np\n",
    "\n",
    "# Create a 1D array with numbers from 1 to 100\n",
    "arr = np.arange(1, 101)\n",
    "\n",
    "# Select 4 random integers from the array\n",
    "random_numbers = np.random.choice(arr, size=4)\n",
    "\n",
    "print(random_numbers)"
   ]
  },
  {
   "cell_type": "markdown",
   "metadata": {},
   "source": [
    "\n",
    "\n",
    "In this example, we first import the NumPy module. Then, we create a 1D NumPy array `arr` with numbers from 1 to 100 using the `np.arange()` function. After that, we select 4 random integers from `arr` using the `np.random.choice()` function and store them in `random_numbers`. Finally, we print the array of random numbers."
   ]
  },
  {
   "cell_type": "markdown",
   "metadata": {},
   "source": [
    "# 20. Print range between random numbers 2 rows and three columns, select integer's random numbers."
   ]
  },
  {
   "cell_type": "markdown",
   "metadata": {},
   "source": [
    "You can use the `numpy.random.randint()` function to generate a 2D array of random integers. Here's how you can generate a 2D array with 2 rows and 3 columns of random integers between 1 and 100:\n",
    "\n"
   ]
  },
  {
   "cell_type": "code",
   "execution_count": 15,
   "metadata": {},
   "outputs": [
    {
     "name": "stdout",
     "output_type": "stream",
     "text": [
      "[[38 75 87]\n",
      " [51 26 69]]\n"
     ]
    }
   ],
   "source": [
    "import numpy as np\n",
    "\n",
    "# Generate a 2D array with 2 rows and 3 columns of random integers between 1 and 100\n",
    "random_numbers = np.random.randint(1, 101, size=(2, 3))\n",
    "\n",
    "print(random_numbers)"
   ]
  },
  {
   "cell_type": "markdown",
   "metadata": {},
   "source": [
    "\n",
    "\n",
    "In this example, we first import the NumPy module. Then, we generate a 2D array with 2 rows and 3 columns of random integers between 1 and 100 using the `np.random.randint()` function and store it in `random_numbers`. The second argument to `np.random.randint()` is exclusive, so we use 101 to include 100 in the range. Finally, we print the array of random numbers."
   ]
  },
  {
   "cell_type": "markdown",
   "metadata": {},
   "source": [
    "# 21. What is an example of the seed() function? What is the best way to utilize it? What is the purpose of seed()?"
   ]
  },
  {
   "cell_type": "markdown",
   "metadata": {},
   "source": [
    "The `numpy.random.seed()` function is used to initialize the random number generator in NumPy. It provides the ability to produce the same set of random numbers every time the code is run. This can be useful for debugging and testing purposes, as it ensures that your code will behave the same way every time it's run.\n",
    "\n",
    "Here's an example of how to use the `numpy.random.seed()` function:\n",
    "\n"
   ]
  },
  {
   "cell_type": "code",
   "execution_count": 17,
   "metadata": {},
   "outputs": [
    {
     "name": "stdout",
     "output_type": "stream",
     "text": [
      "[0.5488135  0.71518937 0.60276338 0.54488318 0.4236548 ]\n"
     ]
    }
   ],
   "source": [
    "import numpy as np\n",
    "\n",
    "# Set the seed\n",
    "np.random.seed(0)\n",
    "\n",
    "# Generate random numbers\n",
    "random_numbers = np.random.rand(5)\n",
    "\n",
    "print(random_numbers)"
   ]
  },
  {
   "cell_type": "markdown",
   "metadata": {},
   "source": [
    "\n",
    "\n",
    "In this example, we first import the NumPy module. Then, we set the seed to 0 using the `np.random.seed()` function. After that, we generate 5 random numbers using the `np.random.rand()` function and print them. If you run this code multiple times, you will get the same set of random numbers every time.\n",
    "\n",
    "The best way to utilize the `np.random.seed()` function is to call it once at the beginning of your program or notebook, before any calls to other `np.random` functions. This will ensure that all random numbers generated by your code are reproducible."
   ]
  },
  {
   "cell_type": "markdown",
   "metadata": {},
   "source": [
    "# 22. What is one-dimensional indexing?"
   ]
  },
  {
   "cell_type": "markdown",
   "metadata": {},
   "source": [
    "One-dimensional indexing refers to accessing elements in a one-dimensional array (or 1D array) using their indices. In Python and many other programming languages, indexing starts from 0, which means the first element is at index 0, the second element is at index 1, and so on.\n",
    "\n",
    "Here's an example of one-dimensional indexing in a NumPy array:\n",
    "\n"
   ]
  },
  {
   "cell_type": "code",
   "execution_count": 18,
   "metadata": {},
   "outputs": [
    {
     "name": "stdout",
     "output_type": "stream",
     "text": [
      "First element: 1\n",
      "Third element: 3\n",
      "Last element: 5\n"
     ]
    }
   ],
   "source": [
    "import numpy as np\n",
    "\n",
    "# Create a 1D array\n",
    "arr = np.array([1, 2, 3, 4, 5])\n",
    "\n",
    "# Access the first element\n",
    "print(\"First element:\", arr[0])\n",
    "\n",
    "# Access the third element\n",
    "print(\"Third element:\", arr[2])\n",
    "\n",
    "# Access the last element\n",
    "print(\"Last element:\", arr[-1])"
   ]
  },
  {
   "cell_type": "markdown",
   "metadata": {},
   "source": [
    "\n",
    "\n",
    "In this example, we first create a 1D NumPy array `arr` with the values 1, 2, 3, 4, 5. Then, we access and print the first, third, and last elements using their indices. Note that we can use negative indexing to access elements from the end of the array, with `-1` being the last element, `-2` being the second last element, and so on."
   ]
  },
  {
   "cell_type": "markdown",
   "metadata": {},
   "source": [
    "# 23. Print the first, last, second, and third positions."
   ]
  },
  {
   "cell_type": "markdown",
   "metadata": {},
   "source": [
    "You can access multiple elements of a NumPy array by passing a list of indices. Here's how you can print the first, last, second, and third elements of the array:\n",
    "\n"
   ]
  },
  {
   "cell_type": "code",
   "execution_count": 19,
   "metadata": {},
   "outputs": [
    {
     "name": "stdout",
     "output_type": "stream",
     "text": [
      "Elements: [1 5 2 3]\n"
     ]
    }
   ],
   "source": [
    "import numpy as np\n",
    "\n",
    "# Create a 1D array\n",
    "arr = np.array([1, 2, 3, 4, 5])\n",
    "\n",
    "# Access the first, last, second, and third elements\n",
    "elements = arr[[0, -1, 1, 2]]\n",
    "\n",
    "print(\"Elements:\", elements)"
   ]
  },
  {
   "cell_type": "markdown",
   "metadata": {},
   "source": [
    "\n",
    "\n",
    "In this example, we first create a 1D NumPy array `arr` with the values 1, 2, 3, 4, 5. Then, we access and store the first, last, second, and third elements in `elements` by passing a list of indices `[0, -1, 1, 2]` to the array. Finally, we print the elements. Note that the elements are returned in the order of the indices in the list."
   ]
  },
  {
   "cell_type": "markdown",
   "metadata": {},
   "source": [
    "# 24. How do you find the final integer in a NumPy array?"
   ]
  },
  {
   "cell_type": "markdown",
   "metadata": {},
   "source": [
    "You can find the last element in a NumPy array using negative indexing. In Python, indexing starts from 0 for the first element, and -1 is used for the last element, -2 for the second last element, and so on.\n",
    "\n",
    "Here's how you can find the last element in a NumPy array:\n",
    "\n"
   ]
  },
  {
   "cell_type": "code",
   "execution_count": 20,
   "metadata": {},
   "outputs": [
    {
     "name": "stdout",
     "output_type": "stream",
     "text": [
      "Last element: 5\n"
     ]
    }
   ],
   "source": [
    "import numpy as np\n",
    "\n",
    "# Create a 1D array\n",
    "arr = np.array([1, 2, 3, 4, 5])\n",
    "\n",
    "# Access the last element\n",
    "last_element = arr[-1]\n",
    "\n",
    "print(\"Last element:\", last_element)"
   ]
  },
  {
   "cell_type": "markdown",
   "metadata": {},
   "source": [
    "\n",
    "\n",
    "In this example, we first create a 1D NumPy array `arr` with the values 1, 2, 3, 4, 5. Then, we access and store the last element in `last_element` by using the index `-1`. Finally, we print the last element."
   ]
  },
  {
   "cell_type": "markdown",
   "metadata": {},
   "source": [
    "# 25. How can we prove it pragmatically if we don't know the last position?"
   ]
  },
  {
   "cell_type": "markdown",
   "metadata": {},
   "source": [
    "If you don't know the length of the array, you can still access the last element using negative indexing. The index `-1` always refers to the last element, regardless of the length of the array. Here's an example:\n",
    "\n"
   ]
  },
  {
   "cell_type": "code",
   "execution_count": 21,
   "metadata": {},
   "outputs": [
    {
     "name": "stdout",
     "output_type": "stream",
     "text": [
      "Last element: 10\n"
     ]
    }
   ],
   "source": [
    "import numpy as np\n",
    "\n",
    "# Create a 1D array of unknown length\n",
    "arr = np.array([1, 2, 3, 4, 5, 6, 7, 8, 9, 10])\n",
    "\n",
    "# Access the last element\n",
    "last_element = arr[-1]\n",
    "\n",
    "print(\"Last element:\", last_element)"
   ]
  },
  {
   "cell_type": "markdown",
   "metadata": {},
   "source": [
    "\n",
    "\n",
    "In this example, we first create a 1D NumPy array `arr` with the values 1 to 10. We don't need to know the length of the array to access the last element. We simply use the index `-1` to access and store the last element in `last_element`. Finally, we print the last element. No matter how many elements are added or removed from the array, `arr[-1]` will always give you the last element."
   ]
  },
  {
   "cell_type": "markdown",
   "metadata": {},
   "source": [
    "# **Thank You!**"
   ]
  }
 ],
 "metadata": {
  "kernelspec": {
   "display_name": "Python 3",
   "language": "python",
   "name": "python3"
  },
  "language_info": {
   "codemirror_mode": {
    "name": "ipython",
    "version": 3
   },
   "file_extension": ".py",
   "mimetype": "text/x-python",
   "name": "python",
   "nbconvert_exporter": "python",
   "pygments_lexer": "ipython3",
   "version": "3.10.12"
  }
 },
 "nbformat": 4,
 "nbformat_minor": 2
}
