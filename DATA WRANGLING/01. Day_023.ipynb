{
 "cells": [
  {
   "cell_type": "markdown",
   "metadata": {},
   "source": [
    "# DATA WRANGLING?"
   ]
  },
  {
   "cell_type": "markdown",
   "metadata": {},
   "source": [
    "Data wrangling, also known as data munging, is the process of cleaning, structuring and enriching raw data into a desired format for better decision making in less time. It involves various processes including:\n",
    "\n",
    "1. **Data Discovery**: Understanding the data, its format, its source, and its metadata.\n",
    "\n",
    "2. **Data Structuring**: Transforming the data into a format that is suitable for data analysis. This could involve structuring unstructured data, or restructuring data that is poorly structured.\n",
    "\n",
    "3. **Data Cleaning**: Identifying and correcting errors in the data, dealing with missing values, and removing duplicates. This step is crucial to ensure the accuracy of the data analysis.\n",
    "\n",
    "4. **Data Enriching**: Enhancing the data with new variables or merging with other datasets to add more depth to the analysis.\n",
    "\n",
    "5. **Data Validation**: Using statistical or visualization techniques to validate the transformations and ensure the data is ready for analysis.\n",
    "\n",
    "Data wrangling is a critical step in the data analysis process as it ensures the data is accurate and prepared for meaningful analysis. It can be done using various tools and programming languages, including Python, R, Excel, and specialized data wrangling tools."
   ]
  }
 ],
 "metadata": {
  "language_info": {
   "name": "python"
  }
 },
 "nbformat": 4,
 "nbformat_minor": 2
}
