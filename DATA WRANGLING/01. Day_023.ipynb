{
 "cells": [
  {
   "cell_type": "markdown",
   "metadata": {},
   "source": [
    "# DATA WRANGLING?"
   ]
  },
  {
   "cell_type": "markdown",
   "metadata": {},
   "source": [
    "Data wrangling, also known as data munging, is the process of cleaning, structuring and enriching raw data into a desired format for better decision making in less time. It involves various processes including:\n",
    "\n",
    "1. **Data Discovery**: Understanding the data, its format, its source, and its metadata.\n",
    "\n",
    "2. **Data Structuring**: Transforming the data into a format that is suitable for data analysis. This could involve structuring unstructured data, or restructuring data that is poorly structured.\n",
    "\n",
    "3. **Data Cleaning**: Identifying and correcting errors in the data, dealing with missing values, and removing duplicates. This step is crucial to ensure the accuracy of the data analysis.\n",
    "\n",
    "4. **Data Enriching**: Enhancing the data with new variables or merging with other datasets to add more depth to the analysis.\n",
    "\n",
    "5. **Data Validation**: Using statistical or visualization techniques to validate the transformations and ensure the data is ready for analysis.\n",
    "\n",
    "Data wrangling is a critical step in the data analysis process as it ensures the data is accurate and prepared for meaningful analysis. It can be done using various tools and programming languages, including Python, R, Excel, and specialized data wrangling tools."
   ]
  },
  {
   "cell_type": "markdown",
   "metadata": {},
   "source": [
    "# What are some common techniques for data wrangling in Python?"
   ]
  },
  {
   "cell_type": "markdown",
   "metadata": {},
   "source": [
    "Python offers several libraries for effective data wrangling. Here are some common techniques using these libraries:\n",
    "\n",
    "1. **Pandas**: This is the most popular data wrangling tool in Python. It provides data structures and functions needed to manipulate structured data.\n",
    "\n",
    "   - **Loading Data**: You can load data from various formats (CSV, Excel, SQL, etc.) into a DataFrame, which is a 2D labeled data structure in Pandas.\n",
    "     ```python\n",
    "     import pandas as pd\n",
    "     df = pd.read_csv('file.csv')\n",
    "     ```\n",
    "   - **Cleaning Data**: You can handle missing data, drop unnecessary columns, rename columns, and more.\n",
    "     ```python\n",
    "     df = df.dropna()  # Drop rows with missing values\n",
    "     df = df.drop('column_name', axis=1)  # Drop a column\n",
    "     df = df.rename(columns={'old_name': 'new_name'})  # Rename a column\n",
    "     ```\n",
    "   - **Transforming Data**: You can apply transformations to your data, such as converting data types, applying mathematical operations, or aggregating data.\n",
    "     ```python\n",
    "     df['column_name'] = df['column_name'].astype('category')  # Convert data type\n",
    "     df['new_column'] = df['column1'] + df['column2']  # Create a new column from existing columns\n",
    "     df_grouped = df.groupby('column_name').mean()  # Aggregate data\n",
    "     ```\n",
    "\n",
    "2. **NumPy**: This library provides support for arrays, along with a large collection of mathematical functions to operate on these arrays.\n",
    "\n",
    "   - **Array Operations**: You can perform operations on arrays which are often faster and more memory efficient than equivalent operations on Pandas DataFrames.\n",
    "     ```python\n",
    "     import numpy as np\n",
    "     array1 = np.array([1, 2, 3])\n",
    "     array2 = np.array([4, 5, 6])\n",
    "     sum_array = np.add(array1, array2)  # Element-wise addition\n",
    "     ```\n",
    "\n",
    "3. **Matplotlib and Seaborn**: These libraries are used for data visualization, which is an important part of data wrangling to understand the distribution and relationship of the data.\n",
    "\n",
    "   - **Data Visualization**: You can create various types of plots to visualize your data.\n",
    "     ```python\n",
    "     import matplotlib.pyplot as plt\n",
    "     import seaborn as sns\n",
    "     sns.boxplot(x='column1', y='column2', data=df)  # Box plot\n",
    "     plt.show()\n",
    "     ```\n",
    "\n",
    "4. **Scikit-learn**: This library provides many utilities for data preprocessing, such as encoding categorical variables, scaling features, and splitting data.\n",
    "\n",
    "   - **Data Preprocessing**: You can prepare your data for machine learning algorithms.\n",
    "     ```python\n",
    "     from sklearn.preprocessing import StandardScaler\n",
    "     scaler = StandardScaler()\n",
    "     df['scaled_column'] = scaler.fit_transform(df[['column_name']])  # Scale a column\n",
    "     ```\n",
    "\n",
    "Remember, data wrangling is an iterative process. You may need to go back and forth between these steps until your data is ready for analysis or modeling."
   ]
  },
  {
   "cell_type": "markdown",
   "metadata": {},
   "source": [
    "# **Data Visualization**"
   ]
  },
  {
   "cell_type": "markdown",
   "metadata": {},
   "source": [
    "Good data visualization is an art and science. It effectively communicates complex data in a manner that is easy to understand and interpret. Here are some key principles that constitute good data visualization:\n",
    "\n",
    "1. **Clarity**: The visualization should clearly and accurately represent the data. Avoid unnecessary clutter that can distract from the information.\n",
    "\n",
    "2. **Simplicity**: The design should be simple and straightforward. A good visualization doesn't confuse the viewer but makes the data easier to understand.\n",
    "\n",
    "3. **Relevance**: Only include information that is relevant to the message or story you're trying to convey. Irrelevant information can distract from the main points.\n",
    "\n",
    "4. **Consistency**: Use consistent design elements, such as colors, fonts, and symbols, throughout your visualization. This makes it easier for the viewer to understand and interpret the visualization.\n",
    "\n",
    "5. **Accessibility**: Ensure your visualization is accessible to all viewers. This includes using color schemes that are colorblind-friendly and providing text descriptions for those with visual impairments.\n",
    "\n",
    "6. **Labeling**: Properly label all axes, legends, and other elements. This provides context and makes the visualization easier to understand.\n",
    "\n",
    "7. **Appropriate Scale**: Use an appropriate scale for your data. Misleading scales can distort the data and mislead the viewer.\n",
    "\n",
    "8. **Context**: Provide enough context for the viewer to understand the data. This could include providing a title, annotations, or a brief description of the data.\n",
    "\n",
    "9. **Engagement**: Good visualizations engage the viewer and invite them to explore the data further.\n",
    "\n",
    "10. **Integrity**: The visualization should honestly represent the data. Avoid manipulating the visualization to misrepresent or exaggerate the data.\n",
    "\n",
    "Remember, the goal of data visualization is to simplify complex data and present it in a way that is easy to understand and interpret. Always keep your audience in mind when creating a visualization."
   ]
  },
  {
   "cell_type": "markdown",
   "metadata": {},
   "source": [
    "# 2. How can you see more than three dimensions in a single chart?"
   ]
  },
  {
   "cell_type": "markdown",
   "metadata": {},
   "source": [
    "Visualizing more than three dimensions in a single chart can be challenging, but there are several techniques to achieve this:\n",
    "\n",
    "1. **Color**: Different colors can represent different categories or values of a fourth dimension.\n",
    "\n",
    "2. **Size**: The size of data points can represent another dimension. Larger sizes can correspond to larger values.\n",
    "\n",
    "3. **Shape**: Different shapes can represent different categories of a fifth dimension.\n",
    "\n",
    "4. **Faceting**: This involves creating multiple plots side by side, each representing a slice of the data based on a certain category. This is also known as small multiples or trellis plots.\n",
    "\n",
    "5. **3D Plots**: Although they can be harder to interpret, 3D plots can add an additional dimension. However, they are best used when the three dimensions have a meaningful spatial relationship.\n",
    "\n",
    "6. **Animation**: Changes over time can be shown as an animation with each frame of the animation representing a different time point.\n",
    "\n",
    "7. **Multi-panel Charts**: Different dimensions can be represented in different panels or subplots within the same chart.\n",
    "\n",
    "8. **Interactive Plots**: Interactive plots allow users to explore different aspects of the data at their own pace, effectively adding as many dimensions as needed.\n",
    "\n",
    "Here's an example of using color and size to add dimensions in a scatter plot using Python's matplotlib library:\n",
    "\n"
   ]
  },
  {
   "cell_type": "code",
   "execution_count": null,
   "metadata": {},
   "outputs": [],
   "source": [
    "import matplotlib.pyplot as plt\n",
    "\n",
    "# Assuming x, y, color, and size are four dimensions of your data\n",
    "plt.scatter(x, y, c=color, s=size)\n",
    "plt.show()"
   ]
  },
  {
   "cell_type": "markdown",
   "metadata": {},
   "source": [
    "\n",
    "\n",
    "Remember, while these techniques can help visualize higher dimensions, they can also make the chart more complex. It's important to ensure that the chart remains understandable and accurately represents the data."
   ]
  },
  {
   "cell_type": "markdown",
   "metadata": {},
   "source": [
    "# 3. What processes are involved in the 3D Transformation of data visualization?"
   ]
  },
  {
   "cell_type": "markdown",
   "metadata": {},
   "source": [
    "3D transformation in data visualization involves several processes to convert the data into a three-dimensional representation. Here are the key steps:\n",
    "\n",
    "1. **Data Preparation**: This involves cleaning and structuring your data in a way that can be represented in three dimensions. You need to identify which variables will represent the x, y, and z axes.\n",
    "\n",
    "2. **Choosing the Right Visualization**: Not all data is suitable for 3D visualization. You need to choose a type of 3D plot that best represents your data. This could be a 3D scatter plot, 3D line plot, 3D surface plot, or 3D bar plot, among others.\n",
    "\n",
    "3. **Creating the 3D Plot**: Using a programming language like Python or a tool like Excel, you create the 3D plot. In Python, this can be done using the `mplot3d` toolkit in the `matplotlib` library.\n",
    "\n"
   ]
  },
  {
   "cell_type": "code",
   "execution_count": null,
   "metadata": {},
   "outputs": [],
   "source": [
    "from mpl_toolkits.mplot3d import Axes3D\n",
    "import matplotlib.pyplot as plt\n",
    "\n",
    "fig = plt.figure()\n",
    "ax = fig.add_subplot(111, projection='3d')\n",
    "\n",
    "# Assuming x, y, and z are your data\n",
    "ax.scatter(x, y, z)\n",
    "\n",
    "ax.set_xlabel('X Label')\n",
    "ax.set_ylabel('Y Label')\n",
    "ax.set_zlabel('Z Label')\n",
    "\n",
    "plt.show()"
   ]
  },
  {
   "cell_type": "markdown",
   "metadata": {},
   "source": [
    "\n",
    "\n",
    "4. **Interpreting the Visualization**: 3D plots can be harder to interpret than 2D plots. You may need to provide rotation and zooming capabilities to allow the viewer to explore different views of the data.\n",
    "\n",
    "5. **Refining the Visualization**: This involves adjusting the aesthetics of the plot, such as colors, labels, and scales, to make it more understandable and visually appealing.\n",
    "\n",
    "Remember, while 3D visualizations can be eye-catching, they can also be more difficult to interpret than 2D visualizations. It's important to use them judiciously and ensure they add value to the understanding of the data."
   ]
  },
  {
   "cell_type": "markdown",
   "metadata": {},
   "source": [
    "# 4. What is the definition of Row-Level Security?"
   ]
  },
  {
   "cell_type": "markdown",
   "metadata": {},
   "source": [
    "Row-Level Security (RLS) is a feature in databases that provides a security mechanism to control access to rows in a database table based on specific criteria. It enables you to define fine-grained access control on rows in a table, ensuring that users can only access the data they are authorized to see.\n",
    "\n",
    "RLS works by adding a security predicate (also known as a filter predicate) to the SQL queries that are executed against a table. This predicate is a function or expression that determines whether a row in the table should be returned in the result set. If the predicate returns true for a row, the row is included in the result set; if it returns false, the row is excluded.\n",
    "\n",
    "This feature is useful in multi-tenant environments where you want to restrict data access at a granular level based on the user's identity or role. For example, in a healthcare application, you might use RLS to ensure that doctors can only see records for their own patients.\n",
    "\n",
    "It's important to note that RLS is implemented in the database layer, not in the application layer. This means it can provide a consistent access control mechanism across multiple applications that access the same database."
   ]
  },
  {
   "cell_type": "markdown",
   "metadata": {},
   "source": [
    "# 5. What Is Visualization “Depth Cueing”?"
   ]
  },
  {
   "cell_type": "markdown",
   "metadata": {},
   "source": [
    "Depth cueing, also known as \"fogging\", is a technique used in 3D visualization to give the illusion of depth. The idea is to make objects that are further away from the viewer appear less distinct than those that are closer. This is achieved by reducing the contrast, saturation, and detail of distant objects, often by blending them with a fog color, typically white or sky blue.\n",
    "\n",
    "Depth cueing is based on the natural phenomenon of atmospheric perspective, where distant objects appear less distinct due to the scattering of light by the atmosphere. It's a powerful tool in 3D visualization because it helps to create a sense of three-dimensionality and depth in a 2D display.\n",
    "\n",
    "In computer graphics, depth cueing can be implemented in various ways, such as linear depth cueing (where the intensity of the cueing effect increases linearly with distance), exponential depth cueing (where the intensity increases exponentially), or based on a depth map (a grayscale image where the brightness of each pixel corresponds to the depth of the corresponding point in the scene).\n",
    "\n",
    "It's important to note that while depth cueing can enhance the perception of depth in a 3D visualization, it can also reduce the clarity of distant objects. Therefore, it should be used judiciously and in combination with other depth cues, such as perspective, shading, and shadows."
   ]
  },
  {
   "cell_type": "markdown",
   "metadata": {},
   "source": [
    "# 6. Explain Surface Rendering in Visualization?"
   ]
  },
  {
   "cell_type": "markdown",
   "metadata": {},
   "source": [
    "Surface rendering is a technique used in 3D computer graphics to display a 3D object as a solid object with a smooth surface. It's often used in data visualization to represent three-dimensional data.\n",
    "\n",
    "In surface rendering, each point on the surface of the 3D object is colored based on a shading model, which takes into account factors like the color of the material, the angle of the light source, and the position of the viewer. This gives the object a realistic appearance with highlights, shadows, and reflections.\n",
    "\n",
    "There are several types of surface rendering techniques:\n",
    "\n",
    "1. **Flat Shading**: Each face of the 3D object is shaded with a single color. This is the simplest form of shading but can result in a faceted appearance.\n",
    "\n",
    "2. **Gouraud Shading**: The color of each pixel is computed by interpolating the colors of the vertices of the face. This results in a smoother appearance but can still look unrealistic for shiny materials or point light sources.\n",
    "\n",
    "3. **Phong Shading**: The normal vector at each pixel is computed by interpolating the normal vectors of the vertices, and this is used to compute the color of the pixel. This results in a very smooth and realistic appearance.\n",
    "\n",
    "4. **Texture Mapping**: A 2D image (the texture) is mapped onto the surface of the 3D object. This can be used to add complex details like patterns, labels, or images to the surface.\n",
    "\n",
    "Here's an example of how to create a surface plot in Python using matplotlib:\n",
    "\n"
   ]
  },
  {
   "cell_type": "code",
   "execution_count": null,
   "metadata": {},
   "outputs": [],
   "source": [
    "import numpy as np\n",
    "import matplotlib.pyplot as plt\n",
    "from mpl_toolkits.mplot3d import Axes3D\n",
    "\n",
    "# Create data\n",
    "x = np.linspace(-5, 5, 101)\n",
    "y = np.linspace(-5, 5, 101)\n",
    "x, y = np.meshgrid(x, y)\n",
    "z = np.sin(np.sqrt(x**2 + y**2))\n",
    "\n",
    "# Create plot\n",
    "fig = plt.figure()\n",
    "ax = fig.add_subplot(111, projection='3d')\n",
    "ax.plot_surface(x, y, z, cmap='viridis')\n",
    "\n",
    "plt.show()"
   ]
  },
  {
   "cell_type": "markdown",
   "metadata": {},
   "source": [
    "\n",
    "\n",
    "In this example, the `plot_surface` function is used to create a surface plot of the function z = sin(sqrt(x^2 + y^2)), and the `cmap` parameter is used to apply a color map to the surface."
   ]
  },
  {
   "cell_type": "markdown",
   "metadata": {},
   "source": [
    "# 7. What is Informational Visualization?"
   ]
  },
  {
   "cell_type": "markdown",
   "metadata": {},
   "source": [
    "Information visualization, often referred to as infovis, is the use of visual representations to explore, make sense of, and communicate data. It's a way to depict complex data in a form that enhances the human eye’s ability to see patterns, trends, and anomalies.\n",
    "\n",
    "Unlike scientific visualization, which primarily deals with data that has a natural spatial representation (like CT scans or weather patterns), information visualization deals with data that doesn't have a natural spatial representation. This could include anything from stock prices, to website traffic, to social network data.\n",
    "\n",
    "Information visualization leverages the human visual system's amazing ability to spot patterns and outliers, and can help people understand complex data by transforming it into a visual format that can be easily interpreted. It can be used to:\n",
    "\n",
    "- Identify areas that need attention or improvement.\n",
    "- Clarify which factors influence customer behavior.\n",
    "- Understand how changes in variables are related.\n",
    "- Predict sales volumes.\n",
    "\n",
    "Common types of information visualizations include bar charts, line graphs, scatter plots, treemaps, network diagrams, and many more. Tools for creating information visualizations range from programming libraries like D3.js and matplotlib, to interactive tools like Tableau and Microsoft Power BI."
   ]
  },
  {
   "cell_type": "markdown",
   "metadata": {},
   "source": [
    "# 8. What are the benefits of using Electrostatic Plotters?"
   ]
  },
  {
   "cell_type": "markdown",
   "metadata": {},
   "source": [
    "They outperform pen plotters and high-end printers in terms of\n",
    "speed and quality.\n",
    "\n",
    "A scan-conversion feature is now available on several\n",
    "electrostatic plotters.\n",
    "\n",
    "There are color electrostatic plotters on the market, and they\n",
    "make numerous passes over the page to plot color images."
   ]
  },
  {
   "cell_type": "markdown",
   "metadata": {},
   "source": [
    "# 9. What is Pixel Phasing?"
   ]
  },
  {
   "cell_type": "markdown",
   "metadata": {},
   "source": [
    "Pixel phasing is a technique used in computer graphics and image processing to create a smoother and more detailed image. It involves shifting or offsetting the pixels in an image by fractions of a pixel in order to increase the resolution or to create a smoother transition between pixels.\n",
    "\n",
    "This technique is often used in conjunction with other techniques such as anti-aliasing and subpixel rendering to improve the quality of the image. It can be particularly useful in situations where the resolution of the display device is lower than the resolution of the image, or when the image is being scaled or transformed.\n",
    "\n",
    "Pixel phasing can be implemented in various ways, depending on the specific requirements of the application. For example, it can be done by interpolating the color values of the pixels in the original image, or by applying a convolution filter to the image.\n",
    "\n",
    "It's important to note that while pixel phasing can improve the quality of the image, it can also increase the computational complexity of the graphics pipeline. Therefore, it should be used judiciously and in situations where the improvement in image quality justifies the additional computational cost."
   ]
  },
  {
   "cell_type": "markdown",
   "metadata": {},
   "source": [
    "# 10. Define Perspective Projection"
   ]
  },
  {
   "cell_type": "markdown",
   "metadata": {},
   "source": [
    "Perspective projection is a type of projection used in 3D computer graphics to create a realistic representation of a 3D object on a 2D display. It mimics the way the human eye perceives the world, where objects that are further away appear smaller than those that are closer.\n",
    "\n",
    "In perspective projection, parallel lines converge to a single point, known as the vanishing point, as they recede into the distance. This gives the illusion of depth and distance.\n",
    "\n",
    "The process involves transforming the 3D coordinates of an object into 2D coordinates on a projection plane, often referred to as the screen or image plane. This transformation is typically represented by a perspective projection matrix in the graphics pipeline.\n",
    "\n",
    "Here's a simple example of how to apply perspective projection in Python using the `matplotlib` library:\n",
    "\n"
   ]
  },
  {
   "cell_type": "code",
   "execution_count": null,
   "metadata": {},
   "outputs": [],
   "source": [
    "import matplotlib.pyplot as plt\n",
    "from mpl_toolkits.mplot3d import Axes3D\n",
    "\n",
    "fig = plt.figure()\n",
    "ax = fig.add_subplot(111, projection='3d')\n",
    "\n",
    "# Assuming `x`, `y`, and `z` are arrays representing your 3D data\n",
    "ax.scatter(x, y, z)\n",
    "\n",
    "# Set perspective\n",
    "ax.azim = 45  # rotation\n",
    "ax.elev = 30  # elevation\n",
    "ax.dist = 10  # distance\n",
    "\n",
    "plt.show()"
   ]
  },
  {
   "cell_type": "markdown",
   "metadata": {},
   "source": [
    "\n",
    "\n",
    "In this example, the `azim`, `elev`, and `dist` properties of the `Axes3D` object are used to set the perspective of the 3D plot."
   ]
  },
  {
   "cell_type": "markdown",
   "metadata": {},
   "source": [
    "# 11. Explain winding numbers in visualization"
   ]
  },
  {
   "cell_type": "markdown",
   "metadata": {},
   "source": [
    "In the context of computer graphics and visualization, the winding number is a concept used to determine whether a point is inside a polygon or not. It's based on the idea of \"winding\" a point around a path and counting how many times the path winds around the point in a certain direction.\n",
    "\n",
    "The winding number of a point with respect to a given polygon is the number of times the polygon winds around the point. This is calculated by drawing a ray from the point to infinity in any direction and counting the number of times the polygon's boundary crosses this ray. \n",
    "\n",
    "If the boundary crosses from left to right (counterclockwise), it's counted as +1, and if it crosses from right to left (clockwise), it's counted as -1. The winding number is the total sum of these crossings.\n",
    "\n",
    "In visualization, the winding number can be used for tasks like point-in-polygon tests, which are often needed in algorithms for rendering, collision detection, geographic information systems (GIS), and other areas.\n",
    "\n",
    "Here's a simple example of a point-in-polygon test using the winding number in Python:\n",
    "\n"
   ]
  },
  {
   "cell_type": "code",
   "execution_count": 1,
   "metadata": {},
   "outputs": [
    {
     "name": "stdout",
     "output_type": "stream",
     "text": [
      "-1\n"
     ]
    }
   ],
   "source": [
    "def winding_number(point, polygon):\n",
    "    winding_number = 0\n",
    "    for i in range(len(polygon)):\n",
    "        if ((polygon[i-1][1] <= point[1] < polygon[i][1]) or\n",
    "            (polygon[i][1] <= point[1] < polygon[i-1][1])):\n",
    "            vt = (point[1] - polygon[i-1][1]) / (polygon[i][1] - polygon[i-1][1])\n",
    "            if point[0] < polygon[i-1][0] + vt * (polygon[i][0] - polygon[i-1][0]):\n",
    "                if polygon[i-1][1] < polygon[i][1]:\n",
    "                    winding_number += 1\n",
    "                else:\n",
    "                    winding_number -= 1\n",
    "    return winding_number\n",
    "\n",
    "# Test with a square polygon and a point inside the polygon\n",
    "polygon = [(0, 0), (0, 1), (1, 1), (1, 0)]\n",
    "point = (0.5, 0.5)\n",
    "print(winding_number(point, polygon))  # Output: 1"
   ]
  },
  {
   "cell_type": "markdown",
   "metadata": {},
   "source": [
    "\n",
    "\n",
    "In this example, the `winding_number` function calculates the winding number of a point with respect to a polygon. The polygon is represented as a list of (x, y) tuples, and the point is represented as a (x, y) tuple. The function returns 0 if the point is outside the polygon, and a non-zero number if the point is inside the polygon."
   ]
  },
  {
   "cell_type": "markdown",
   "metadata": {},
   "source": [
    "# 12. What is Parallel Projection?"
   ]
  },
  {
   "cell_type": "markdown",
   "metadata": {},
   "source": [
    "Parallel projection is a method used in computer graphics to project 3D objects onto a 2D plane, or screen. Unlike perspective projection, which mimics the way the human eye perceives depth and distance, parallel projection maintains the same size and shape of the object regardless of its position in the 3D space.\n",
    "\n",
    "In parallel projection, all projection lines are parallel to each other, rather than converging at a single point as in perspective projection. This means that parallel lines in the 3D object remain parallel in the 2D projection.\n",
    "\n",
    "There are several types of parallel projection, including:\n",
    "\n",
    "1. **Orthographic Projection**: The projection lines are perpendicular to the projection plane. This is commonly used in engineering and architectural drawings.\n",
    "\n",
    "2. **Isometric Projection**: A form of orthographic projection where the projection plane intersects each coordinate axis in the 3D space at the same distance. This results in equal measure (iso-metric) and is often used in technical and engineering drawings.\n",
    "\n",
    "3. **Oblique Projection**: The projection lines are not perpendicular to the projection plane. This gives a more realistic view of the object, but can distort the proportions.\n",
    "\n",
    "Here's a simple example of how to create an orthographic projection in Python using matplotlib:\n",
    "\n"
   ]
  },
  {
   "cell_type": "code",
   "execution_count": null,
   "metadata": {},
   "outputs": [],
   "source": [
    "import matplotlib.pyplot as plt\n",
    "from mpl_toolkits.mplot3d import Axes3D\n",
    "\n",
    "fig = plt.figure()\n",
    "ax = fig.add_subplot(111, projection='3d')\n",
    "\n",
    "# Assuming `x`, `y`, and `z` are arrays representing your 3D data\n",
    "ax.scatter(x, y, z)\n",
    "\n",
    "# Set orthographic projection\n",
    "ax.set_proj_type('ortho')\n",
    "\n",
    "plt.show()"
   ]
  },
  {
   "cell_type": "markdown",
   "metadata": {},
   "source": [
    "\n",
    "\n",
    "In this example, the `set_proj_type` function is used to set the projection type of the 3D plot to 'ortho', which stands for orthographic projection."
   ]
  },
  {
   "cell_type": "markdown",
   "metadata": {},
   "source": [
    "# 13. What is a blobby object?"
   ]
  },
  {
   "cell_type": "markdown",
   "metadata": {},
   "source": [
    "Some objects may not retain a constant form but instead vary their surface\n",
    "features in response to particular motions or close contact with other\n",
    "objects. Molecular structures and water droplets are two examples of\n",
    "blobby objects."
   ]
  },
  {
   "cell_type": "markdown",
   "metadata": {},
   "source": [
    "# 14. What is Non-Emissive?"
   ]
  },
  {
   "cell_type": "markdown",
   "metadata": {},
   "source": [
    "In the context of computer graphics and visualization, non-emissive refers to objects or materials that do not emit their own light. Instead, they are visible because they reflect, transmit, or scatter light that comes from other sources, such as a light source in the scene or ambient light.\n",
    "\n",
    "This is in contrast to emissive objects or materials, which generate and emit their own light. Examples of emissive objects could include a light bulb, the sun, or a computer screen.\n",
    "\n",
    "In a 3D rendering context, the appearance of non-emissive objects is often calculated using shading algorithms that take into account the light sources in the scene, the properties of the material (such as its color, reflectivity, and texture), and the viewpoint of the observer. This can involve techniques like Phong shading or ray tracing.\n",
    "\n",
    "Here's a simple example of how to create a non-emissive material in a 3D scene using the Three.js library for JavaScript:\n",
    "\n"
   ]
  },
  {
   "cell_type": "code",
   "execution_count": null,
   "metadata": {
    "vscode": {
     "languageId": "javascript"
    }
   },
   "outputs": [],
   "source": [
    "// Create a non-emissive material\n",
    "var material = new THREE.MeshLambertMaterial({ color: 0x00ff00 });\n",
    "\n",
    "// Create a cube geometry\n",
    "var geometry = new THREE.BoxGeometry(1, 1, 1);\n",
    "\n",
    "// Create a mesh with the geometry and material\n",
    "var cube = new THREE.Mesh(geometry, material);\n",
    "\n",
    "// Add the cube to the scene\n",
    "scene.add(cube);"
   ]
  },
  {
   "cell_type": "markdown",
   "metadata": {},
   "source": [
    "\n",
    "\n",
    "In this example, the `THREE.MeshLambertMaterial` is a type of material in Three.js that is non-emissive. It's used to create a green cube that will be lit by the light sources in the scene."
   ]
  },
  {
   "cell_type": "markdown",
   "metadata": {},
   "source": [
    "# 15. What is Emissive?\n",
    "Electrical energy is converted into light energy by the emissive display.\n",
    "Examples include plasma screens and thin film electroluminescent displays."
   ]
  },
  {
   "cell_type": "markdown",
   "metadata": {},
   "source": [
    "# 16. What is Scan Code?"
   ]
  },
  {
   "cell_type": "markdown",
   "metadata": {},
   "source": [
    "When a key is pushed on the keyboard, the keyboard controller stores a\n",
    "code corresponding to the pressed key in the keyboard buffer, which is a\n",
    "section of memory. The scan code is the name given to this code."
   ]
  },
  {
   "cell_type": "markdown",
   "metadata": {},
   "source": [
    "In the context of computer programming and hardware interaction, a scan code is a system used to represent the keys on a keyboard. When a key is pressed or released, the keyboard sends a scan code to the computer to tell it which key was pressed or released.\n",
    "\n",
    "Scan codes are used because the sequence of keys pressed and released can be more complex than just a sequence of characters. For example, pressing and holding a key, or pressing multiple keys at the same time, can result in different characters or actions.\n",
    "\n",
    "There are several sets of scan codes, known as scan code sets, that have been used over the years. The most common ones are Set 1 (used by the original IBM PC), Set 2 (used by most modern PCs), and Set 3 (used by some IBM keyboards).\n",
    "\n",
    "In many programming environments, you can listen for key events and get the scan code of the key that was pressed or released. For example, in JavaScript, you can do this using the `keydown` or `keyup` events:\n",
    "\n"
   ]
  },
  {
   "cell_type": "code",
   "execution_count": null,
   "metadata": {
    "vscode": {
     "languageId": "javascript"
    }
   },
   "outputs": [],
   "source": [
    "window.addEventListener('keydown', function(event) {\n",
    "  console.log('Key pressed: ' + event.key);\n",
    "  console.log('Scan code: ' + event.code);\n",
    "});"
   ]
  },
  {
   "cell_type": "markdown",
   "metadata": {},
   "source": [
    "\n",
    "\n",
    "In this example, the `event.key` property gives the character of the key that was pressed, and the `event.code` property gives the scan code of the key. Note that the scan code is a string that represents the physical key, not a numerical code."
   ]
  },
  {
   "cell_type": "markdown",
   "metadata": {},
   "source": [
    "# 17. What is the difference between a window port and a viewport?\n",
    "A window port refers to a section of an image that a window will display.\n",
    "The viewport is the display area of the selected portion of the form in which\n",
    "the selected component is displayed."
   ]
  },
  {
   "cell_type": "markdown",
   "metadata": {},
   "source": [
    "# **Thank You!**"
   ]
  }
 ],
 "metadata": {
  "kernelspec": {
   "display_name": "Python 3",
   "language": "python",
   "name": "python3"
  },
  "language_info": {
   "codemirror_mode": {
    "name": "ipython",
    "version": 3
   },
   "file_extension": ".py",
   "mimetype": "text/x-python",
   "name": "python",
   "nbconvert_exporter": "python",
   "pygments_lexer": "ipython3",
   "version": "3.10.12"
  }
 },
 "nbformat": 4,
 "nbformat_minor": 2
}
