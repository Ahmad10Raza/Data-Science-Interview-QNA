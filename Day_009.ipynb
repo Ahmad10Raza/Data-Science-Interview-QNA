{
 "cells": [
  {
   "cell_type": "markdown",
   "metadata": {},
   "source": [
    "# Machine Learning Interview Questions"
   ]
  },
  {
   "cell_type": "markdown",
   "metadata": {},
   "source": [
    "# 1. What was the purpose of Machine Learning?\n",
    "**The most straightforward response is to make our lives simpler. Many\n",
    "systems employed hardcoded rules of \"if\" and \"else\" choices to analyze\n",
    "data or change user input in the early days of \"intelligent\" applications.\n",
    "Consider a spam filter responsible for moving relevant incoming email\n",
    "messages to a spam folder. However, we provide enough data to learn and\n",
    "find patterns using machine learning algorithms.**\n",
    "\n",
    "**Unlike traditional challenges, we don't need to define new rules for each\n",
    "machine learning problem; instead, we need to utilize the same approach\n",
    "but with a different dataset.**\n",
    "\n",
    "For example, if we have a history dataset of real sales statistics, we may\n",
    "train machine learning models to forecast future sales.\n",
    "\n",
    "Principal Component Analysis, or PCA, is a dimensionality-reduction\n",
    "approach for reducing the dimensionality of big data sets by converting a\n",
    "large collection of variables into a smaller one that retains the majority of\n",
    "the information in the large set."
   ]
  },
  {
   "cell_type": "markdown",
   "metadata": {},
   "source": [
    "# 2. Define Supervised Learning?"
   ]
  }
 ],
 "metadata": {
  "kernelspec": {
   "display_name": "Python 3",
   "language": "python",
   "name": "python3"
  },
  "language_info": {
   "name": "python",
   "version": "3.10.12"
  }
 },
 "nbformat": 4,
 "nbformat_minor": 2
}
