{
 "cells": [
  {
   "cell_type": "markdown",
   "metadata": {},
   "source": [
    "# Machine Learning Interview Questions"
   ]
  },
  {
   "cell_type": "markdown",
   "metadata": {},
   "source": [
    "# 1. What was the purpose of Machine Learning?\n",
    "**The most straightforward response is to make our lives simpler. Many\n",
    "systems employed hardcoded rules of \"if\" and \"else\" choices to analyze\n",
    "data or change user input in the early days of \"intelligent\" applications.\n",
    "Consider a spam filter responsible for moving relevant incoming email\n",
    "messages to a spam folder. However, we provide enough data to learn and\n",
    "find patterns using machine learning algorithms.**\n",
    "\n",
    "**Unlike traditional challenges, we don't need to define new rules for each\n",
    "machine learning problem; instead, we need to utilize the same approach\n",
    "but with a different dataset.**\n",
    "\n",
    "For example, if we have a history dataset of real sales statistics, we may\n",
    "train machine learning models to forecast future sales.\n",
    "\n",
    "Principal Component Analysis, or PCA, is a dimensionality-reduction\n",
    "approach for reducing the dimensionality of big data sets by converting a\n",
    "large collection of variables into a smaller one that retains the majority of\n",
    "the information in the large set."
   ]
  },
  {
   "cell_type": "markdown",
   "metadata": {},
   "source": [
    "# 2. Define Supervised Learning?"
   ]
  },
  {
   "cell_type": "markdown",
   "metadata": {},
   "source": [
    "Supervised Learning is a type of machine learning where the model is trained on a labeled dataset. A labeled dataset is one where each input data point has a corresponding target output. \n",
    "\n",
    "In Supervised Learning, the model learns to predict the output from the input data during the training process. The goal is to approximate the mapping function so well that when new input data is given, the model can predict the corresponding output.\n",
    "\n",
    "There are two main types of Supervised Learning tasks: \n",
    "\n",
    "1. **Regression**: The output is a continuous value. For example, predicting the price of a house based on features like number of rooms, location, etc.\n",
    "\n",
    "2. **Classification**: The output is a categorical value. For example, predicting whether an email is spam or not based on its content.\n",
    "\n",
    "The \"supervision\" in Supervised Learning comes from the fact that the model is provided with the correct answers (or labels) during training. The model makes predictions based on the input data, and the difference between the model's predictions and the actual output is used to adjust the model's parameters. This process is repeated until the model's predictions are as accurate as possible."
   ]
  }
 ],
 "metadata": {
  "kernelspec": {
   "display_name": "Python 3",
   "language": "python",
   "name": "python3"
  },
  "language_info": {
   "name": "python",
   "version": "3.10.12"
  }
 },
 "nbformat": 4,
 "nbformat_minor": 2
}
