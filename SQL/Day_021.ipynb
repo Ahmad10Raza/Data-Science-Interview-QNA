{
 "cells": [
  {
   "cell_type": "markdown",
   "metadata": {},
   "source": [
    "# **SQL : Clustered and Non-Clustered Indexes**"
   ]
  },
  {
   "cell_type": "markdown",
   "metadata": {},
   "source": [
    "# 1. What exactly is an index?"
   ]
  },
  {
   "cell_type": "markdown",
   "metadata": {},
   "source": [
    "An index in a database is a data structure that improves the speed of data retrieval operations on a database table. It works similarly to an index in a book: instead of going through every page (or every row in a table), you can go directly to the page (or row) you want using the index.\n",
    "\n",
    "Indexes are used to quickly locate data without having to search every row in a database table every time a database table is accessed. They can be created using one or more columns of a database table, providing the basis for both rapid random lookups and efficient access of ordered records.\n",
    "\n",
    "However, while indexes speed up data retrieval, they also slow down write operations like `INSERT`, `UPDATE`, and `DELETE`. This is because every time data is changed, the index also needs to be updated. Therefore, it's important to find a good balance and use indexes judiciously."
   ]
  },
  {
   "cell_type": "markdown",
   "metadata": {},
   "source": [
    "# 2. Why are indexes required in SQL Server?"
   ]
  },
  {
   "cell_type": "markdown",
   "metadata": {},
   "source": [
    "Indexes in SQL Server are used to speed up the performance of queries, making them crucial for the efficient operation of a database. Here are some reasons why indexes are required:\n",
    "\n",
    "1. **Faster Data Retrieval**: Just like an index in a book, an index in SQL Server allows the database program to find the data faster without reading the whole table. \n",
    "\n",
    "2. **Order By Performance**: Indexes can greatly increase the performance of `ORDER BY` clauses, as the data is already sorted.\n",
    "\n",
    "3. **Allows Use of Query Optimizer**: Indexes allow the SQL Server query optimizer to choose the most efficient way to execute a query. The query optimizer uses indexes to create different execution plans and chooses the one with the least cost.\n",
    "\n",
    "4. **Improves Performance of Join Operations**: If columns used in join conditions have indexes, the performance of the join operation can be significantly improved.\n",
    "\n",
    "However, it's important to note that while indexes can significantly improve read query performance, they can also slow down write operations (`INSERT`, `UPDATE`, `DELETE`) because indexes also need to be updated when data changes. Therefore, a balance must be found when deciding which and how many indexes to use."
   ]
  },
  {
   "cell_type": "markdown",
   "metadata": {},
   "source": [
    "# 3. What are the different types of indexes in SQL Server?"
   ]
  },
  {
   "cell_type": "markdown",
   "metadata": {},
   "source": [
    "SQL Server supports several types of indexes, each with a specific use case:\n",
    "\n",
    "1. **Clustered Index**: A clustered index determines the physical order of data in a table. It sorts and stores the data rows in the table or view based on their key values. There can be only one clustered index per table.\n",
    "\n",
    "2. **Non-Clustered Index**: A non-clustered index doesn't sort the physical data inside the table. Instead, it creates a separate object within the table that contains the column(s) included in the index and a pointer to the location of each row. A table can have multiple non-clustered indexes.\n",
    "\n",
    "3. **Unique Index**: A unique index ensures that the index key contains only unique values. It can be used to enforce the uniqueness of a column or a combination of columns.\n",
    "\n",
    "4. **Columnstore Index**: This type of index is designed to effectively query large amounts of data in a data warehouse. It uses column-based data storage and query processing to achieve up to 10x query performance gains in your data warehouse over traditional row-oriented storage.\n",
    "\n",
    "5. **Filtered Index**: A filtered index is an optimized non-clustered index, especially suited to cover queries that select from a well-defined subset of data. It uses a filter predicate to index a portion of rows in the table.\n",
    "\n",
    "6. **Full-Text Index**: This type of index is used in full-text search, which is a technique of searching natural-language documents that satisfy a query.\n",
    "\n",
    "7. **Spatial Index**: This type of index is used to optimize queries that perform operations on spatial objects.\n",
    "\n",
    "8. **XML Index**: This type of index is used to optimize queries on XML data.\n",
    "\n",
    "Each type of index can be used to optimize specific types of queries. The choice of index type depends on the nature of the data and the queries that will be run against it."
   ]
  },
  {
   "cell_type": "markdown",
   "metadata": {},
   "source": [
    "# 4. What is a Clustered Index?"
   ]
  },
  {
   "cell_type": "markdown",
   "metadata": {},
   "source": [
    "A clustered index in SQL Server determines the physical order of data in a table. It sorts and stores the data rows in the table or view based on their key values. These are the columns included in the index definition. \n",
    "\n",
    "There can be only one clustered index per table, because the data rows themselves can only be sorted in one order. \n",
    "\n",
    "The key values from the clustered index are also used by all non-clustered indexes as lookup keys. Any non-clustered indexes defined on the same table will include the clustered index key columns in addition to the columns explicitly defined in the non-clustered index.\n",
    "\n",
    "In the absence of a clustered index, the data rows are stored in the order in which they were inserted into the table, a structure known as a heap.\n",
    "\n",
    "Here's an example of how you can create a clustered index:\n",
    "\n"
   ]
  },
  {
   "cell_type": "code",
   "execution_count": null,
   "metadata": {
    "vscode": {
     "languageId": "sql"
    }
   },
   "outputs": [],
   "source": [
    "CREATE CLUSTERED INDEX IndexName\n",
    "ON TableName (ColumnName);"
   ]
  },
  {
   "cell_type": "markdown",
   "metadata": {},
   "source": [
    "\n",
    "\n",
    "In this example, `IndexName` is the name of the index, `TableName` is the name of the table, and `ColumnName` is the name of the column on which the index is created."
   ]
  },
  {
   "cell_type": "markdown",
   "metadata": {},
   "source": [
    "# 5. What is a non-clustered index?"
   ]
  },
  {
   "cell_type": "markdown",
   "metadata": {},
   "source": [
    "A non-clustered index in SQL Server is a type of index that improves the speed of many read operations in a database. Unlike a clustered index, which determines the physical order of data in a table, a non-clustered index does not dictate the order of the rows on disk. \n",
    "\n",
    "A non-clustered index contains a sorted set of pointers to the data rows, each pointer being a row locator. This structure allows for faster access to data when the index is used during a query. \n",
    "\n",
    "A table can have multiple non-clustered indexes, as opposed to only one clustered index. The non-clustered index contains the non-clustered index key values and each key value entry has a pointer to the data row that contains the key value.\n",
    "\n",
    "Here's an example of how you can create a non-clustered index:\n",
    "\n"
   ]
  },
  {
   "cell_type": "code",
   "execution_count": null,
   "metadata": {
    "vscode": {
     "languageId": "sql"
    }
   },
   "outputs": [],
   "source": [
    "CREATE NONCLUSTERED INDEX IndexName\n",
    "ON TableName (ColumnName);"
   ]
  },
  {
   "cell_type": "markdown",
   "metadata": {},
   "source": [
    "\n",
    "\n",
    "In this example, `IndexName` is the name of the index, `TableName` is the name of the table, and `ColumnName` is the name of the column on which the index is created."
   ]
  },
  {
   "cell_type": "markdown",
   "metadata": {},
   "source": [
    "# 6. In SQL Server, what is the difference between a clustered and a non-clustered index?"
   ]
  },
  {
   "cell_type": "markdown",
   "metadata": {},
   "source": [
    "In SQL Server, the primary differences between a clustered and a non-clustered index are:\n",
    "\n",
    "1. **Physical Sorting of Data**: A clustered index determines the physical order of data in a table, meaning the rows are stored on disk in the order of the clustered index. A non-clustered index, on the other hand, does not affect the physical order of rows. It maintains a separate data structure (B-tree) that points back to the data rows, leaving the actual data in the order it was inserted.\n",
    "\n",
    "2. **Number of Indexes Allowed**: A table can have only one clustered index because data can be sorted in only one way. However, a table can have multiple non-clustered indexes.\n",
    "\n",
    "3. **Data Storage**: A clustered index stores the actual data rows at the leaf level of the index. In contrast, a non-clustered index contains only the non-clustered index key values and a pointer to the data row.\n",
    "\n",
    "4. **Lookup Speed**: Lookups using the clustered index are typically faster than using a non-clustered index, because a lookup in a non-clustered index requires first looking up the index and then using the row locator to find the data row.\n",
    "\n",
    "In summary, while both types of indexes speed up data retrieval, they do so in different ways and have different implications for data storage and retrieval speed."
   ]
  },
  {
   "cell_type": "markdown",
   "metadata": {},
   "source": [
    "# 7. What is a SQL Server Unique Index?"
   ]
  },
  {
   "cell_type": "markdown",
   "metadata": {},
   "source": [
    "A Unique Index in SQL Server is a type of index that ensures the uniqueness of the values in the column(s) on which it is applied. It prevents two records from having identical values in a specific column or combination of columns.\n",
    "\n",
    "The unique index is used not only for performance, but also for data integrity. If you try to insert or update data in such a way that it would result in duplicate values in the indexed column(s), SQL Server will return an error and the operation will fail.\n",
    "\n",
    "Here's an example of how you can create a unique index:\n",
    "\n"
   ]
  },
  {
   "cell_type": "code",
   "execution_count": null,
   "metadata": {
    "vscode": {
     "languageId": "sql"
    }
   },
   "outputs": [],
   "source": [
    "CREATE UNIQUE INDEX IndexName\n",
    "ON TableName (ColumnName);"
   ]
  },
  {
   "cell_type": "markdown",
   "metadata": {},
   "source": [
    "\n",
    "\n",
    "In this example, `IndexName` is the name of the index, `TableName` is the name of the table, and `ColumnName` is the name of the column on which the index is created.\n",
    "\n",
    "It's important to note that a unique index allows for one null value when the column is nullable, because nulls are considered distinct from all other values, including other nulls. However, if you create a unique constraint (which is a type of unique index), multiple nulls are not allowed."
   ]
  },
  {
   "cell_type": "markdown",
   "metadata": {},
   "source": [
    "# 8. When does SQL Server make use of indexes?"
   ]
  },
  {
   "cell_type": "markdown",
   "metadata": {},
   "source": [
    "SQL Server uses indexes to speed up the retrieval of data in a database. The SQL Server query optimizer decides when and how to use indexes when executing queries. Here are some scenarios when SQL Server makes use of indexes:\n",
    "\n",
    "1. **Filtering**: When the WHERE clause in a query filters rows using an indexed column, SQL Server can use the index to find the matching rows quickly.\n",
    "\n",
    "2. **Sorting**: If a query includes an ORDER BY clause on an indexed column, SQL Server can use the index to sort the results more efficiently.\n",
    "\n",
    "3. **Join Operations**: In a JOIN operation, if the columns being joined are both part of an index, SQL Server can use these indexes to perform the join more efficiently.\n",
    "\n",
    "4. **Aggregation**: In queries with GROUP BY clauses, indexes on the grouped columns can help SQL Server retrieve and group the data more quickly.\n",
    "\n",
    "5. **Covering Queries**: If a query only needs to retrieve data from columns that are all included in an index, SQL Server can retrieve the data directly from the index without having to access the underlying table. This is known as a \"covered query\".\n",
    "\n",
    "However, it's important to note that the decision to use an index is made by the SQL Server query optimizer based on the cost associated with the operation. Sometimes, for small tables or in cases where a large percentage of rows are returned, a table scan can be faster than an index seek or scan."
   ]
  },
  {
   "cell_type": "markdown",
   "metadata": {},
   "source": [
    "# 9. When should a table's indexes be created?"
   ]
  },
  {
   "cell_type": "markdown",
   "metadata": {},
   "source": [
    "The decision to create indexes on a table in SQL Server depends on several factors:\n",
    "\n",
    "1. **After Understanding the Queries**: Indexes should be created based on the queries that will be frequently run against the database. Understanding the WHERE, ORDER BY, and JOIN conditions in your queries can help determine which columns should be indexed.\n",
    "\n",
    "2. **Large Tables**: Indexes are more beneficial on larger tables where the cost of scanning the entire table becomes expensive. On small tables, a full table scan can sometimes be faster than an indexed lookup.\n",
    "\n",
    "3. **Read-Heavy Workloads**: If your workload is read-heavy (i.e., you're doing more SELECT operations than INSERT/UPDATE/DELETE operations), it might be beneficial to create more indexes. Indexes can slow down write operations because they need to be updated whenever data is modified.\n",
    "\n",
    "4. **After Data Loading**: If you're loading a large amount of data into an empty table, it's often faster to load the data first and then create the indexes. Creating indexes before data loading can slow down the process because the index needs to be updated after each operation.\n",
    "\n",
    "5. **Periodic Review and Maintenance**: Over time, as data distribution and query patterns change, some indexes may become less effective and new ones may be needed. Regular review of index usage and performance is a good practice.\n",
    "\n",
    "Remember, while indexes can speed up data retrieval, they also take up storage space and can slow down data modification operations. Therefore, it's important to find a balance between the number and types of indexes created."
   ]
  },
  {
   "cell_type": "markdown",
   "metadata": {},
   "source": [
    "# 10. What is the maximum number of clustered and non-clustered indexes per table?"
   ]
  },
  {
   "cell_type": "markdown",
   "metadata": {},
   "source": [
    "In SQL Server:\n",
    "\n",
    "1. **Clustered Indexes**: There can be only one clustered index per table. This is because the clustered index determines the physical storage order of data in the table.\n",
    "\n",
    "2. **Non-Clustered Indexes**: A table can have up to 999 non-clustered indexes. Non-clustered indexes do not affect the physical order of data, so you can have many more of them.\n",
    "\n",
    "Remember, while having multiple indexes can speed up read operations, it can also slow down write operations (INSERT, UPDATE, DELETE) because each index needs to be updated when a modification is made. Therefore, it's important to find a balance and only create indexes that will significantly improve performance."
   ]
  },
  {
   "cell_type": "markdown",
   "metadata": {},
   "source": [
    "# 11. Clustered or non-clustered index, which is faster?"
   ]
  },
  {
   "cell_type": "markdown",
   "metadata": {},
   "source": [
    "The speed of a clustered index versus a non-clustered index in SQL Server depends on the specific operation and the structure of the data.\n",
    "\n",
    "**Clustered Indexes** are typically faster for range queries or when retrieving a large number of rows, because the data is stored physically in the order of the index. Once the starting point is found, SQL Server can continue reading from that point, which is very efficient.\n",
    "\n",
    "**Non-Clustered Indexes** can be faster when retrieving a small number of rows, especially if the query is a covered query. A covered query is one where all the columns in the query are part of the index, so SQL Server can retrieve all the necessary data from the index without having to look up the actual data row.\n",
    "\n",
    "However, the performance can also depend on other factors such as the size of the table, the distribution of the data, the selectivity of the index, and the specifics of the query. The SQL Server query optimizer will determine the most efficient method (using a clustered index, non-clustered index, or even a full table scan) based on these factors."
   ]
  },
  {
   "cell_type": "markdown",
   "metadata": {},
   "source": [
    "# 12. In SQL Server, what is a Composite Index? What are the benefits of utilizing a SQL Server Composite Index? What exactly is a Covering Query?"
   ]
  },
  {
   "cell_type": "markdown",
   "metadata": {},
   "source": [
    "**Composite Index**: A composite index in SQL Server is an index that includes more than one column in its definition. The order of the columns in the index definition is important, as it determines the order of the data in the index. Here's an example of creating a composite index:\n",
    "\n"
   ]
  },
  {
   "cell_type": "code",
   "execution_count": null,
   "metadata": {
    "vscode": {
     "languageId": "sql"
    }
   },
   "outputs": [],
   "source": [
    "CREATE INDEX idx_table_col1_col2\n",
    "ON TableName (Column1, Column2);"
   ]
  },
  {
   "cell_type": "markdown",
   "metadata": {},
   "source": [
    "\n",
    "\n",
    "**Benefits of Composite Index**: The main benefit of a composite index is that it can speed up query performance for queries that involve multiple columns in the WHERE clause, JOIN condition, or ORDER BY clause. However, the benefit is most pronounced when the query conditions match the order of the columns in the index.\n",
    "\n",
    "**Covering Query**: A covering query is a query that can be executed entirely by using the data in an index, without having to access the actual data rows in the table. This is possible when the index includes all the columns that are needed for the query. \n",
    "\n",
    "For example, if you have an index on columns (A, B, C) and your query is `SELECT A, B FROM table WHERE C = 'value'`, then this is a covering query because all the columns in the SELECT and WHERE clauses are included in the index.\n",
    "\n",
    "Covering queries are typically faster because reading an index is usually more efficient than reading the actual table data. This is especially true if the index is a non-clustered index and the table is large."
   ]
  },
  {
   "cell_type": "markdown",
   "metadata": {},
   "source": [
    "# 13. What are the various index settings available for a table?"
   ]
  },
  {
   "cell_type": "markdown",
   "metadata": {},
   "source": [
    "In SQL Server, there are several settings available for an index that can affect its behavior and performance:\n",
    "\n",
    "1. **Fill Factor**: This setting determines the percentage of space on each leaf-level page to be filled with data, reserving the remainder on each page as free space for future growth. This is useful for tables where data is frequently inserted or updated.\n",
    "\n",
    "2. **Pad Index**: This setting determines whether the free space specified by the fill factor should also be applied to the intermediate-level pages of the index.\n",
    "\n",
    "3. **Sort in Tempdb**: This option specifies that the tempdb should be used for storing the sort runs when creating or rebuilding the index. This can help performance if tempdb is on a different drive, but it requires enough space in tempdb.\n",
    "\n",
    "4. **Ignore Duplicate Key**: This option determines the action SQL Server takes when it encounters a duplicate key value in a unique index. If this is set to YES, SQL Server issues a warning when duplicate key values are inserted into a unique index, but the insert operation continues. If set to NO, SQL Server returns an error message and rolls back the insert operation.\n",
    "\n",
    "5. **Statistics_NORECOMPUTE**: This option prevents the query optimizer from automatically updating this index's statistics. This can be useful in certain scenarios where you want to manually control when statistics are updated.\n",
    "\n",
    "6. **Drop Existing**: This option is used when you want to rebuild an existing index. SQL Server will drop the existing index and create a new one.\n",
    "\n",
    "7. **Online**: This option allows you to perform index operations while the index remains available for queries. This is known as online index operations.\n",
    "\n",
    "8. **Allow Row Locks and Allow Page Locks**: These options control whether row-level and page-level locking are allowed for the index.\n",
    "\n",
    "These settings can be specified when creating or altering an index using the `CREATE INDEX` or `ALTER INDEX` statements."
   ]
  },
  {
   "cell_type": "markdown",
   "metadata": {},
   "source": [
    "# 14. What is the table's name with neither a Cluster nor a Noncluster Index? What is the purpose of it?"
   ]
  },
  {
   "cell_type": "markdown",
   "metadata": {},
   "source": [
    "A table without a clustered or non-clustered index is known as a \"Heap\". \n",
    "\n",
    "A Heap is a table for which SQL Server has not created a clustered index. Data is stored in the heap without specifying an order. New rows are placed wherever there's space in the table, not necessarily at the end of the table.\n",
    "\n",
    "**Purpose of a Heap**: \n",
    "\n",
    "1. **Data Loading**: Heaps are useful in scenarios where you need to quickly load data. Loading data into a heap is generally faster than loading it into a table with clustered or non-clustered indexes, because SQL Server doesn't have to take the time to sort the data and build indexes.\n",
    "\n",
    "2. **Table Scans**: If most of the operations on the table are table scans, a heap can be a good choice. This is because the cost of a table scan is the same whether the data is sorted (as it would be in a table with a clustered index) or not (as in a heap).\n",
    "\n",
    "However, heaps can have disadvantages. For example, without a clustered index, data retrieval can be slower because SQL Server must scan the entire table to find the desired data. Also, heaps can end up with more unused space in the database from deleted rows, a condition known as fragmentation."
   ]
  },
  {
   "cell_type": "markdown",
   "metadata": {},
   "source": [
    "# **Thank You!**"
   ]
  }
 ],
 "metadata": {
  "language_info": {
   "name": "python"
  }
 },
 "nbformat": 4,
 "nbformat_minor": 2
}
