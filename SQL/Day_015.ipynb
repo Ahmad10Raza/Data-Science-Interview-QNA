{
 "cells": [
  {
   "cell_type": "markdown",
   "metadata": {},
   "source": [
    "# *Let’s delve straight into some SQL interview questions.*"
   ]
  },
  {
   "cell_type": "markdown",
   "metadata": {},
   "source": [
    "# 1. What exactly is SQL?"
   ]
  },
  {
   "cell_type": "markdown",
   "metadata": {},
   "source": [
    "SQL, which stands for Structured Query Language, is a programming language used to manage and manipulate relational databases. It is used to perform operations like creating database structures, inserting, updating, and deleting data, and querying data to extract useful information.\n",
    "\n",
    "Here are some key aspects of SQL:\n",
    "\n",
    "1. **Database Creation and Modification**: SQL can be used to create new databases, tables, and other structures. It can also be used to alter existing database structures.\n",
    "\n",
    "2. **Data Manipulation**: SQL includes commands for inserting, updating, and deleting data within tables.\n",
    "\n",
    "3. **Querying**: SQL is most commonly used to query data. This involves retrieving specific data from one or more tables based on certain criteria. This can be as simple as retrieving all data from a table or as complex as joining multiple tables and applying various filters and aggregations.\n",
    "\n",
    "4. **Data Control**: SQL also includes commands for controlling access to data and ensuring data integrity.\n",
    "\n",
    "SQL is a standard language for managing data held in a relational database management system (RDBMS) or for stream processing in a relational data stream management system (RDSMS). It is particularly useful in handling structured data, i.e., data incorporating relations among entities and variables."
   ]
  },
  {
   "cell_type": "markdown",
   "metadata": {},
   "source": [
    "# 2. What Can SQL do for you?"
   ]
  },
  {
   "cell_type": "markdown",
   "metadata": {},
   "source": [
    "SQL, or Structured Query Language, is a powerful tool that can help you in many ways, especially when dealing with data stored in relational databases. Here are some things SQL can do for you:\n",
    "\n",
    "1. **Data Querying**: SQL allows you to fetch specific data from a database. You can retrieve single or multiple records based on certain conditions, sort them, group them, and perform various other operations.\n",
    "\n",
    "2. **Data Manipulation**: SQL enables you to insert new data, update existing data, or delete data from a database.\n",
    "\n",
    "3. **Database Management**: With SQL, you can create new databases, tables, and other database objects. You can also modify the structure of an existing database.\n",
    "\n",
    "4. **Data Aggregation**: SQL provides functions to summarize or aggregate your data, such as calculating the sum, average, maximum, minimum, etc., of a particular data column.\n",
    "\n",
    "5. **Data Analysis**: By using SQL, you can analyze data directly in the database by performing complex queries and operations.\n",
    "\n",
    "6. **Access Control**: SQL allows you to control who can access the data and what they can do with it by providing commands to manage user permissions.\n",
    "\n",
    "7. **Data Integrity**: SQL provides mechanisms to enforce business rules and data integrity at the database level.\n",
    "\n",
    "In summary, SQL is a versatile language that can help you manage and manipulate data in a relational database, perform data analysis, enforce data security, and maintain data integrity."
   ]
  },
  {
   "cell_type": "markdown",
   "metadata": {},
   "source": [
    "# **Interview Questions for Basic SQL**"
   ]
  },
  {
   "cell_type": "markdown",
   "metadata": {},
   "source": [
    "# 1. How do you distinguish between SQL and MySQL?"
   ]
  },
  {
   "cell_type": "markdown",
   "metadata": {},
   "source": [
    "SQL (Structured Query Language) and MySQL are both related to databases, but they serve different purposes:\n",
    "\n",
    "1. **SQL**: SQL is a standard language for managing and manipulating relational databases. It allows you to perform tasks such as querying data, inserting new data, updating existing data, deleting data, and creating or modifying the structure of a database. SQL is used by many database systems, including but not limited to MySQL, SQL Server, PostgreSQL, and SQLite.\n",
    "\n",
    "2. **MySQL**: MySQL is a specific relational database management system (RDBMS) that uses SQL to interact with data. It's an open-source system owned by Oracle, and it's known for its speed and reliability. MySQL can run on various platforms like Windows, Linux, and MacOS. It supports a large subset of the SQL standard, and also includes some extensions.\n",
    "\n",
    "In summary, SQL is a language used to interact with databases, while MySQL is a database system that uses the SQL language."
   ]
  },
  {
   "cell_type": "markdown",
   "metadata": {},
   "source": [
    "# 2. What are the various SQL subsets?"
   ]
  },
  {
   "cell_type": "markdown",
   "metadata": {},
   "source": [
    "SQL, or Structured Query Language, is divided into several subsets, each serving a different purpose in the realm of database management. Here are the main subsets:\n",
    "\n",
    "1. **DDL (Data Definition Language)**: This subset of SQL is used for defining and managing all the objects in an SQL database. It includes commands like CREATE, ALTER, DROP, and TRUNCATE.\n",
    "\n",
    "2. **DML (Data Manipulation Language)**: DML is used for managing data within schema objects. It includes commands like SELECT, INSERT, UPDATE, and DELETE.\n",
    "\n",
    "3. **DCL (Data Control Language)**: DCL is used to control the visibility of data and define the rights and roles of users. It includes commands like GRANT and REVOKE.\n",
    "\n",
    "4. **TCL (Transaction Control Language)**: TCL is used to manage transactions within a database. It includes commands like COMMIT, ROLLBACK, and SAVEPOINT.\n",
    "\n",
    "5. **QL (Query Language)**: While technically part of DML, the SELECT command is often considered its own subset due to its complexity and importance in SQL. It's used to query and extract data from a database.\n",
    "\n",
    "Each of these subsets plays a crucial role in managing and interacting with databases in SQL."
   ]
  },
  {
   "cell_type": "markdown",
   "metadata": {},
   "source": [
    "# 3. What do you mean by database management system (DBMS)? What are the many sorts of it?"
   ]
  },
  {
   "cell_type": "markdown",
   "metadata": {},
   "source": [
    "A Database Management System (DBMS) is software that interacts with end users, applications, and the database itself to capture and analyze data. A DBMS allows users to create, read, update, and delete data in a database. It provides a systematic way to manage, control, and organize the data.\n",
    "\n",
    "There are several types of DBMS, including:\n",
    "\n",
    "1. **Relational Database Management System (RDBMS)**: This is the most common type of DBMS. It organizes data into tables and ensures data consistency through the concept of relationships among tables (using primary and foreign keys). Examples include MySQL, PostgreSQL, Oracle Database, and SQL Server.\n",
    "\n",
    "2. **Hierarchical Database Management System (HDBMS)**: In this type of DBMS, data is organized in a tree-like structure, with a single root to which all other data is linked. Each child record has only one parent, similar to a tree's structure. An example is IBM's Information Management System (IMS).\n",
    "\n",
    "3. **Network Database Management System (NDBMS)**: This DBMS supports many-to-many relations where a child node can have multiple parent nodes. It's more complex than the hierarchical model. Integrated Data Store (IDS) is an example.\n",
    "\n",
    "4. **Object-oriented Database Management System (OODBMS)**: This type of DBMS supports the storage of data in the form of objects, as in object-oriented programming. Examples include MongoDB and Redis.\n",
    "\n",
    "5. **NoSQL Database Management System**: This type of DBMS is used for large sets of distributed data. It's non-relational and can handle structured, semi-structured, and unstructured data. Examples include Cassandra, HBase, and CouchDB.\n",
    "\n",
    "Each type of DBMS has its own strengths and weaknesses, and the choice between them depends on the specific requirements of a project."
   ]
  },
  {
   "cell_type": "markdown",
   "metadata": {},
   "source": [
    "# 4. In SQL, how do you define a table and a field?"
   ]
  },
  {
   "cell_type": "markdown",
   "metadata": {},
   "source": [
    "In SQL, a table is a collection of related data entries and it consists of columns and rows. Each table in the database represents a specific entity type and holds information about that entity.\n",
    "\n",
    "A field, also known as a column, is a component of a table that is designed to maintain specific information about every record in the table. Each field in a table holds the same type of data. For example, a field could be designed to hold text, number, date, or binary data.\n",
    "\n",
    "Here's an example of how you might define a table in SQL:\n",
    "\n"
   ]
  },
  {
   "cell_type": "code",
   "execution_count": 5,
   "metadata": {
    "vscode": {
     "languageId": "sql"
    }
   },
   "outputs": [],
   "source": [
    "import sqlite3\n",
    "\n",
    "# Connect to the SQLite database (or create it if it doesn't exist)\n",
    "conn = sqlite3.connect('konoha.db')\n",
    "\n",
    "# Create a cursor object\n",
    "c = conn.cursor()\n",
    "\n",
    "# Execute the SQL statement\n",
    "c.execute('''\n",
    "    CREATE TABLE Employees (\n",
    "        EmployeeID int,\n",
    "        FirstName text,\n",
    "        LastName text,\n",
    "        BirthDate text\n",
    "    )\n",
    "''')\n",
    "\n",
    "# Commit the transaction\n",
    "conn.commit()\n",
    "\n",
    "# Close the connection\n",
    "conn.close()"
   ]
  },
  {
   "cell_type": "markdown",
   "metadata": {},
   "source": [
    "\n",
    "\n",
    "In this example, `Employees` is a table that has four fields: `EmployeeID`, `FirstName`, `LastName`, and `BirthDate`. The `EmployeeID` field is of type `int`, `FirstName` and `LastName` are of type `varchar(255)`, and `BirthDate` is of type `date`. Each of these fields will hold specific information about each employee."
   ]
  },
  {
   "cell_type": "markdown",
   "metadata": {},
   "source": [
    "# 5. How do we define joins in SQL?"
   ]
  },
  {
   "cell_type": "markdown",
   "metadata": {},
   "source": [
    "In SQL, a JOIN operation combines rows from two or more tables based on a related column between them. Here are the different types of joins:\n",
    "\n",
    "1. **INNER JOIN**: This returns records that have matching values in both tables.\n",
    "\n"
   ]
  },
  {
   "cell_type": "code",
   "execution_count": null,
   "metadata": {
    "vscode": {
     "languageId": "sql"
    }
   },
   "outputs": [],
   "source": [
    "SELECT Orders.OrderID, Customers.CustomerName\n",
    "FROM Orders\n",
    "INNER JOIN Customers ON Orders.CustomerID = Customers.CustomerID;"
   ]
  },
  {
   "cell_type": "markdown",
   "metadata": {},
   "source": [
    "\n",
    "\n",
    "2. **LEFT (OUTER) JOIN**: This returns all records from the left table, and the matched records from the right table. If there is no match, the result is NULL on the right side.\n",
    "\n"
   ]
  },
  {
   "cell_type": "code",
   "execution_count": null,
   "metadata": {
    "vscode": {
     "languageId": "sql"
    }
   },
   "outputs": [],
   "source": [
    "SELECT Orders.OrderID, Customers.CustomerName\n",
    "FROM Orders\n",
    "LEFT JOIN Customers ON Orders.CustomerID = Customers.CustomerID;"
   ]
  },
  {
   "cell_type": "markdown",
   "metadata": {},
   "source": [
    "\n",
    "\n",
    "3. **RIGHT (OUTER) JOIN**: This returns all records from the right table, and the matched records from the left table. If there is no match, the result is NULL on the left side.\n",
    "\n"
   ]
  },
  {
   "cell_type": "code",
   "execution_count": null,
   "metadata": {
    "vscode": {
     "languageId": "sql"
    }
   },
   "outputs": [],
   "source": [
    "SELECT Orders.OrderID, Customers.CustomerName\n",
    "FROM Orders\n",
    "RIGHT JOIN Customers ON Orders.CustomerID = Customers.CustomerID;"
   ]
  },
  {
   "cell_type": "markdown",
   "metadata": {},
   "source": [
    "\n",
    "\n",
    "4. **FULL (OUTER) JOIN**: This returns all records when there is a match in either the left or the right table.\n",
    "\n"
   ]
  },
  {
   "cell_type": "code",
   "execution_count": null,
   "metadata": {
    "vscode": {
     "languageId": "sql"
    }
   },
   "outputs": [],
   "source": [
    "SELECT Orders.OrderID, Customers.CustomerName\n",
    "FROM Orders\n",
    "FULL JOIN Customers ON Orders.CustomerID = Customers.CustomerID;"
   ]
  },
  {
   "cell_type": "markdown",
   "metadata": {},
   "source": [
    "\n",
    "\n",
    "5. **SELF JOIN**: This is used to join a table to itself as if the table were two tables, temporarily renaming at least one table in the SQL statement.\n",
    "\n"
   ]
  },
  {
   "cell_type": "code",
   "execution_count": null,
   "metadata": {
    "vscode": {
     "languageId": "sql"
    }
   },
   "outputs": [],
   "source": [
    "SELECT A.CustomerName AS CustomerName1, B.CustomerName AS CustomerName2, A.City\n",
    "FROM Customers A, Customers B\n",
    "WHERE A.CustomerID <> B.CustomerID\n",
    "AND A.City = B.City;"
   ]
  },
  {
   "cell_type": "markdown",
   "metadata": {},
   "source": [
    "\n",
    "\n",
    "6. **CROSS JOIN**: This returns the Cartesian product of rows from both tables. \n",
    "\n"
   ]
  },
  {
   "cell_type": "code",
   "execution_count": null,
   "metadata": {
    "vscode": {
     "languageId": "sql"
    }
   },
   "outputs": [],
   "source": [
    "SELECT Customers.CustomerName, Orders.OrderID\n",
    "FROM Customers\n",
    "CROSS JOIN Orders;"
   ]
  },
  {
   "cell_type": "markdown",
   "metadata": {},
   "source": [
    "\n",
    "\n",
    "In all these examples, `Orders` and `Customers` are tables in a hypothetical database, and `CustomerID` is a column that appears in both tables, providing a link between them."
   ]
  },
  {
   "cell_type": "markdown",
   "metadata": {},
   "source": [
    "# 6. What is the difference between the SQL data types CHAR and VARCHAR2?"
   ]
  },
  {
   "cell_type": "markdown",
   "metadata": {},
   "source": [
    "`CHAR` and `VARCHAR2` are both data types in SQL used to store character data, but they behave differently:\n",
    "\n",
    "1. **CHAR**: This is a fixed-length character data type. When you declare a `CHAR` variable, you define its length in parentheses. For example, `CHAR(10)` reserves 10 characters' worth of storage. If you store a string that is shorter than the defined length, the remaining space will be filled with blank spaces. If the string is longer than the defined length, it will be truncated.\n",
    "\n",
    "2. **VARCHAR2**: This is a variable-length character data type. Like `CHAR`, you define its maximum length in parentheses, such as `VARCHAR2(10)`. However, `VARCHAR2` only uses as much storage as the actual string plus some overhead for the length information. If you store a string that is shorter than the defined length, no extra spaces are added.\n",
    "\n",
    "In general, `VARCHAR2` is more space-efficient for storing strings that vary significantly in length, while `CHAR` can be more efficient when the lengths are consistently close to the maximum, due to less overhead for storing the length information. Note that the exact details can depend on the specific SQL database system you're using."
   ]
  },
  {
   "cell_type": "markdown",
   "metadata": {},
   "source": [
    "# 7. What are constraints?"
   ]
  },
  {
   "cell_type": "markdown",
   "metadata": {},
   "source": [
    "In SQL, constraints are rules applied to data columns on a table that enforce certain conditions. They are used to limit the type of data that can go into a table, ensuring the accuracy and reliability of the data in the table. Constraints can be column level or table level. \n",
    "\n",
    "Here are some common types of constraints:\n",
    "\n",
    "1. **PRIMARY KEY**: Uniquely identifies each record in a table. Primary key column cannot contain NULL values.\n",
    "\n"
   ]
  },
  {
   "cell_type": "code",
   "execution_count": null,
   "metadata": {
    "vscode": {
     "languageId": "sql"
    }
   },
   "outputs": [],
   "source": [
    "CREATE TABLE Customers (\n",
    "    CustomerID int NOT NULL PRIMARY KEY,\n",
    "    ...\n",
    ");"
   ]
  },
  {
   "cell_type": "markdown",
   "metadata": {},
   "source": [
    "\n",
    "\n",
    "2. **FOREIGN KEY**: Uniquely identifies a row/record in any of the given database table. It is used to prevent actions that would destroy links between tables.\n",
    "\n"
   ]
  },
  {
   "cell_type": "code",
   "execution_count": null,
   "metadata": {
    "vscode": {
     "languageId": "sql"
    }
   },
   "outputs": [],
   "source": [
    "CREATE TABLE Orders (\n",
    "    OrderID int NOT NULL,\n",
    "    CustomerID int,\n",
    "    ...\n",
    "    FOREIGN KEY (CustomerID) REFERENCES Customers(CustomerID)\n",
    ");"
   ]
  },
  {
   "cell_type": "markdown",
   "metadata": {},
   "source": [
    "\n",
    "\n",
    "3. **UNIQUE**: Ensures that all values in a column are different.\n",
    "\n"
   ]
  },
  {
   "cell_type": "code",
   "execution_count": null,
   "metadata": {
    "vscode": {
     "languageId": "sql"
    }
   },
   "outputs": [],
   "source": [
    "CREATE TABLE Customers (\n",
    "    CustomerID int NOT NULL UNIQUE,\n",
    "    ...\n",
    ");"
   ]
  },
  {
   "cell_type": "markdown",
   "metadata": {},
   "source": [
    "\n",
    "\n",
    "4. **NOT NULL**: Ensures that a column cannot have a NULL value.\n",
    "\n"
   ]
  },
  {
   "cell_type": "code",
   "execution_count": null,
   "metadata": {
    "vscode": {
     "languageId": "sql"
    }
   },
   "outputs": [],
   "source": [
    "CREATE TABLE Customers (\n",
    "    CustomerID int NOT NULL,\n",
    "    ...\n",
    ");"
   ]
  },
  {
   "cell_type": "markdown",
   "metadata": {},
   "source": [
    "\n",
    "\n",
    "5. **CHECK**: Ensures that all values in a column satisfy certain conditions.\n",
    "\n"
   ]
  },
  {
   "cell_type": "code",
   "execution_count": null,
   "metadata": {
    "vscode": {
     "languageId": "sql"
    }
   },
   "outputs": [],
   "source": [
    "CREATE TABLE Customers (\n",
    "    Age int CHECK (Age>=18),\n",
    "    ...\n",
    ");"
   ]
  },
  {
   "cell_type": "markdown",
   "metadata": {},
   "source": [
    "\n",
    "\n",
    "6. **DEFAULT**: Provides a default value for a column when none is specified.\n",
    "\n"
   ]
  },
  {
   "cell_type": "code",
   "execution_count": null,
   "metadata": {
    "vscode": {
     "languageId": "sql"
    }
   },
   "outputs": [],
   "source": [
    "CREATE TABLE Customers (\n",
    "    Country varchar(255) DEFAULT 'USA',\n",
    "    ...\n",
    ");"
   ]
  },
  {
   "cell_type": "markdown",
   "metadata": {},
   "source": [
    "\n",
    "\n",
    "Constraints help maintain the integrity of the data."
   ]
  },
  {
   "cell_type": "markdown",
   "metadata": {},
   "source": [
    "# 8. What is a foreign key?"
   ]
  },
  {
   "cell_type": "markdown",
   "metadata": {},
   "source": [
    "A foreign key is a column or a set of columns in a relational database table that provides a link between data in two tables. It acts as a cross-reference between tables because it references the primary key of another table, thereby establishing a link between them.\n",
    "\n",
    "The table containing the foreign key is called the child table, and the table containing the candidate key is called the referenced or parent table.\n",
    "\n",
    "Foreign keys play an essential role in database relationships, particularly in relation to maintaining the integrity of the data. They allow us to access data related to a specific row in another table, and they constrain the data that can be inserted into a table.\n",
    "\n",
    "Here's an example of how a foreign key might be used in SQL:\n",
    "\n"
   ]
  },
  {
   "cell_type": "code",
   "execution_count": null,
   "metadata": {
    "vscode": {
     "languageId": "sql"
    }
   },
   "outputs": [],
   "source": [
    "CREATE TABLE Orders (\n",
    "    OrderID int NOT NULL,\n",
    "    OrderNumber int NOT NULL,\n",
    "    CustomerID int,\n",
    "    PRIMARY KEY (OrderID),\n",
    "    FOREIGN KEY (CustomerID) REFERENCES Customers(CustomerID)\n",
    ");"
   ]
  },
  {
   "cell_type": "markdown",
   "metadata": {},
   "source": [
    "\n",
    "\n",
    "In this example, `CustomerID` in the `Orders` table is a foreign key that references `CustomerID` in the `Customers` table. This means that for each order, we can have a link to the customer who made that order."
   ]
  },
  {
   "cell_type": "markdown",
   "metadata": {},
   "source": [
    "# 9. What is\"data integrity\"?"
   ]
  },
  {
   "cell_type": "markdown",
   "metadata": {},
   "source": [
    "Data integrity refers to the accuracy, consistency, and reliability of data stored in a database. It ensures that the data is correct and reliable over its entire lifecycle and is a critical aspect to the design, implementation, and usage of any system which stores, processes, or retrieves data.\n",
    "\n",
    "There are several types of data integrity in a relational database management system (RDBMS):\n",
    "\n",
    "1. **Entity Integrity**: This ensures that there are no duplicate rows in a table and that the primary key field is unique and not null.\n",
    "\n",
    "2. **Referential Integrity**: This ensures that the foreign key values are consistent across tables. That is, every foreign key in a secondary table matches the primary key of some row in the primary table.\n",
    "\n",
    "3. **Domain Integrity**: This enforces valid entries for a given column by restricting the type, the format, or the range of values.\n",
    "\n",
    "4. **User-Defined Integrity**: This enforces some specific business rules that do not fall into the other integrity categories.\n",
    "\n",
    "In the SQL code you provided, data integrity is enforced through the use of primary and foreign keys. The `OrderID` field is declared as a primary key, ensuring entity integrity for the `Orders` table. The `FOREIGN KEY` constraint on the `CustomerID` field ensures referential integrity between the `Orders` and `Customers` tables."
   ]
  },
  {
   "cell_type": "markdown",
   "metadata": {},
   "source": [
    "# 10. What is the difference between a clustered and a non-clustered index?"
   ]
  },
  {
   "cell_type": "markdown",
   "metadata": {},
   "source": [
    "In a database, an index is a data structure that improves the speed of data retrieval operations. There are two types of indexes: clustered and non-clustered.\n",
    "\n",
    "1. **Clustered Index**: A clustered index determines the physical order of data in a table. It sorts and stores the data rows in the table or view based on their key values. There can be only one clustered index per table, because the data rows themselves can only be sorted in one order. In other words, the clustered index is the table.\n",
    "\n",
    "2. **Non-Clustered Index**: A non-clustered index doesn't sort the physical data inside the table. Instead, it creates a separate object within the table that contains a sorted list of the values in the indexed columns, along with pointers to the location of each row containing those values. You can have multiple non-clustered indexes on a table, each indexing different sets of columns.\n",
    "\n",
    "The main difference between them is how they store and sort data. Clustered indexes store and sort data rows in the table based on their key values, while non-clustered indexes store a sorted list of column values separate from the physical row data, but include a pointer to the associated row."
   ]
  },
  {
   "cell_type": "markdown",
   "metadata": {},
   "source": [
    "# **Thank You!**"
   ]
  }
 ],
 "metadata": {
  "kernelspec": {
   "display_name": "Python 3",
   "language": "python",
   "name": "python3"
  },
  "language_info": {
   "codemirror_mode": {
    "name": "ipython",
    "version": 3
   },
   "file_extension": ".py",
   "mimetype": "text/x-python",
   "name": "python",
   "nbconvert_exporter": "python",
   "pygments_lexer": "ipython3",
   "version": "3.10.12"
  }
 },
 "nbformat": 4,
 "nbformat_minor": 2
}
