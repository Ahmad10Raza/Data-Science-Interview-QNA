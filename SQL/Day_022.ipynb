{
 "cells": [
  {
   "cell_type": "markdown",
   "metadata": {},
   "source": [
    "# **Data Integrity**"
   ]
  },
  {
   "cell_type": "markdown",
   "metadata": {},
   "source": [
    "# 1. What is data integrity?"
   ]
  },
  {
   "cell_type": "markdown",
   "metadata": {},
   "source": [
    "Data integrity refers to the accuracy, consistency, and reliability of data stored in a database. It ensures that the data is correct and unaltered from its original form. Data integrity can be maintained through a set of rules, standards, and procedures known as integrity constraints.\n",
    "\n",
    "There are four main types of data integrity in the context of relational databases:\n",
    "\n",
    "1. **Entity Integrity**: Ensures that each row (or record) in a table is unique. This is typically enforced using a primary key.\n",
    "\n",
    "2. **Domain Integrity**: Ensures that all values in a column fall within a defined set of values. This is enforced using data types, NOT NULL constraints, CHECK constraints, DEFAULT rules, and rules for validation and acceptance of values.\n",
    "\n",
    "3. **Referential Integrity**: Ensures that relationships between tables remain consistent. This is typically enforced using foreign keys.\n",
    "\n",
    "4. **User-Defined Integrity**: Enforces some specific business rules that do not fall into the above categories. These are typically enforced using triggers or stored procedures.\n",
    "\n",
    "Maintaining data integrity is crucial as it helps to ensure the validity and reliability of the data, which in turn leads to more accurate and informed decision-making."
   ]
  },
  {
   "cell_type": "markdown",
   "metadata": {},
   "source": [
    "# 2. What are data Integrity Types?"
   ]
  },
  {
   "cell_type": "markdown",
   "metadata": {},
   "source": [
    "Data integrity types refer to the rules that preserve the consistency, accuracy, and reliability of data. In the context of relational databases, there are four main types of data integrity:\n",
    "\n",
    "1. **Entity Integrity**: This ensures that each row in a table is unique and identifiable. It's typically enforced by declaring a primary key in the table, and each table can have only one primary key.\n",
    "\n",
    "2. **Domain Integrity**: This ensures that all entries in a column are of a specific type and format, fall within specified ranges, and adhere to specified patterns. It's enforced by defining data types, constraints (like NOT NULL, UNIQUE), and rules for the columns in a table.\n",
    "\n",
    "3. **Referential Integrity**: This ensures that relationships between tables remain consistent. It's enforced by using foreign keys, which link records in one table to records in another table. It ensures that the key values are consistent across tables - i.e., if a key value is mentioned, it must exist (unless it's NULL).\n",
    "\n",
    "4. **User-Defined Integrity**: This refers to a set of rules defined by users to meet their specific business needs. These rules do not fall into the above categories and are typically enforced by using triggers or stored procedures.\n",
    "\n",
    "These integrity types help maintain the accuracy and consistency of the data within the database."
   ]
  },
  {
   "cell_type": "markdown",
   "metadata": {},
   "source": [
    "# 3. What is Physical Integrity?"
   ]
  },
  {
   "cell_type": "markdown",
   "metadata": {},
   "source": [
    "Physical integrity in the context of databases refers to the correctness and consistency of data during storage, retrieval, and update operations at the physical level of the database. It ensures that data remains intact and unaltered during these operations, which can include system crashes, hardware failures, power outages, or other technical issues.\n",
    "\n",
    "Physical integrity is typically maintained through a combination of hardware and software strategies, including:\n",
    "\n",
    "1. **Redundancy**: Storing multiple copies of data to protect against data loss in case of hardware failure.\n",
    "\n",
    "2. **Backup and Recovery Procedures**: Regularly backing up data and having procedures in place to recover data in case of loss or corruption.\n",
    "\n",
    "3. **RAID (Redundant Array of Independent Disks)**: A method of storing the same data in different places on multiple hard disks to protect against hardware failures.\n",
    "\n",
    "4. **Transaction Management**: Ensuring that database transactions are completed in their entirety and maintaining the state of the database in case of system failures. This is often handled by the database management system (DBMS) through mechanisms like write-ahead logging and atomic transactions.\n",
    "\n",
    "5. **Error Checking and Correction**: Techniques to detect and correct errors that occur in the storage and transmission of data.\n",
    "\n",
    "By maintaining physical integrity, you ensure that your data remains reliable and accurate, even in the face of technical issues."
   ]
  },
  {
   "cell_type": "markdown",
   "metadata": {},
   "source": [
    "# 4. what is Logical Integrity?"
   ]
  },
  {
   "cell_type": "markdown",
   "metadata": {},
   "source": [
    "Logical integrity refers to the accuracy and consistency of data in a database at the logical level. It ensures that the data follows certain rules and constraints defined by the business logic or the nature of the data itself. Logical integrity is typically enforced through the database schema and the database management system (DBMS).\n",
    "\n",
    "There are several types of logical integrity constraints:\n",
    "\n",
    "1. **Entity Integrity**: This ensures that each row in a table is unique and identifiable. It's typically enforced by declaring a primary key in the table.\n",
    "\n",
    "2. **Domain Integrity**: This ensures that all entries in a column are of a specific type and format, fall within specified ranges, and adhere to specified patterns. It's enforced by defining data types, constraints (like NOT NULL, UNIQUE), and rules for the columns in a table.\n",
    "\n",
    "3. **Referential Integrity**: This ensures that relationships between tables remain consistent. It's enforced by using foreign keys, which link records in one table to records in another table. It ensures that the key values are consistent across tables - i.e., if a key value is mentioned, it must exist (unless it's NULL).\n",
    "\n",
    "4. **User-Defined Integrity**: This refers to a set of rules defined by users to meet their specific business needs. These rules do not fall into the above categories and are typically enforced by using triggers or stored procedures.\n",
    "\n",
    "By maintaining logical integrity, you ensure that your data remains accurate and consistent according to the rules and constraints defined by your business logic or data nature."
   ]
  },
  {
   "cell_type": "markdown",
   "metadata": {},
   "source": [
    "# 5. Explain the Integrity of entities"
   ]
  },
  {
   "cell_type": "markdown",
   "metadata": {},
   "source": [
    "Entity integrity is a fundamental aspect of data integrity in a relational database. It ensures that each row (or record) in a table is unique and identifiable. This is typically enforced by declaring a primary key in the table.\n",
    "\n",
    "Here's what entity integrity involves:\n",
    "\n",
    "1. **Uniqueness**: Each row in a table must be unique. No two rows can have the same primary key value. This ensures that each record can be uniquely identified by its primary key.\n",
    "\n",
    "2. **Not Null**: The primary key cannot be NULL. This is because NULL is considered an unknown or non-existent value, and it wouldn't make sense to identify a record by an unknown value.\n",
    "\n",
    "3. **Immutability**: Once created, the primary key of a record should not be changed. This is to maintain referential integrity, as other tables may reference this primary key.\n",
    "\n",
    "For example, consider a table of customers. Each customer could be given a unique customer ID as the primary key. This customer ID would uniquely identify each customer, it would not be NULL, and it would not change over time.\n",
    "\n",
    "By enforcing entity integrity, you ensure that every record in your table can be uniquely and reliably identified, which is crucial for accurate data retrieval and manipulation."
   ]
  },
  {
   "cell_type": "markdown",
   "metadata": {},
   "source": [
    "# 6. What is Referential Consistency?"
   ]
  },
  {
   "cell_type": "markdown",
   "metadata": {},
   "source": [
    "Referential consistency, also known as referential integrity, is a concept in relational databases that ensures relationships between tables remain consistent. It is a type of data integrity that enforces the logical rules of the relationships between tables to ensure the data in the database remains accurate and reliable.\n",
    "\n",
    "Referential integrity involves the following rules:\n",
    "\n",
    "1. **Foreign Key Constraint**: If a table has a foreign key that points to another table's primary key, only values that exist in the primary key column of the referenced table are allowed in the foreign key column. In other words, if a record in one table references a record in another table, the referenced record must actually exist.\n",
    "\n",
    "2. **No Orphaned Records**: If a record in the referenced table is deleted, all records in the referencing table that point to it must also be deleted (this is called \"cascade delete\"), or the delete operation must be prevented. Similarly, if a primary key value in the referenced table is updated, all records in the referencing table that point to it must also be updated (this is called \"cascade update\"), or the update operation must be prevented.\n",
    "\n",
    "3. **Not Null**: A foreign key can be NULL unless specifically constrained by a NOT NULL constraint. A NULL foreign key indicates that there is no relationship between the records.\n",
    "\n",
    "By enforcing referential integrity, you ensure that relationships between tables in your database always make sense and that you don't end up with orphaned records or broken links between tables."
   ]
  },
  {
   "cell_type": "markdown",
   "metadata": {},
   "source": [
    "# 7. What is Domain Integrity?"
   ]
  },
  {
   "cell_type": "markdown",
   "metadata": {},
   "source": [
    "Domain integrity is a type of data integrity that ensures the validity of entries for a given column. It enforces that all entries in a column are of a specific type, within a specific range, or adhere to a specified format. This helps to maintain the accuracy and consistency of data in a database.\n",
    "\n",
    "Domain integrity is enforced through various constraints and rules defined on the columns of a table, such as:\n",
    "\n",
    "1. **Data Type**: Each column in a table is associated with a specific data type (like integer, date, string, etc.) that restricts the kind of data that can be stored in that column.\n",
    "\n",
    "2. **Range Constraints**: These constraints ensure that the values in a column fall within a certain range. For example, a column storing age might have a range constraint ensuring values are between 0 and 150.\n",
    "\n",
    "3. **Format Constraints**: These constraints ensure that the values in a column adhere to a specific format. For example, a column storing email addresses might have a format constraint ensuring values match the pattern of a valid email address.\n",
    "\n",
    "4. **Nullability**: A NOT NULL constraint ensures that a column cannot have NULL values.\n",
    "\n",
    "5. **Unique Constraints**: A unique constraint ensures that all values in a column are unique.\n",
    "\n",
    "6. **Check Constraints**: A check constraint allows you to specify a condition that all values in a column must meet.\n",
    "\n",
    "By enforcing domain integrity, you ensure that the data in each column is valid, reliable, and consistent with its intended purpose."
   ]
  },
  {
   "cell_type": "markdown",
   "metadata": {},
   "source": [
    "# 8. User-defined integrity"
   ]
  },
  {
   "cell_type": "markdown",
   "metadata": {},
   "source": [
    "User-defined integrity refers to a set of rules defined by users that reflect the specific business requirements not covered by other types of data integrity (entity integrity, referential integrity, and domain integrity). These rules are typically enforced by using database triggers, stored procedures, or application code.\n",
    "\n",
    "User-defined integrity allows the database to enforce business rules that are specific to the organization or application. For example, a business rule might state that an order can only be placed if the customer has sufficient credit. This rule can't be enforced by standard entity, referential, or domain integrity rules, but it can be enforced by a user-defined integrity rule.\n",
    "\n",
    "Here's an example of a user-defined integrity rule using a trigger in SQL:\n",
    "\n"
   ]
  },
  {
   "cell_type": "code",
   "execution_count": null,
   "metadata": {
    "vscode": {
     "languageId": "sql"
    }
   },
   "outputs": [],
   "source": [
    "CREATE TRIGGER CheckCreditBeforeOrder\n",
    "ON Orders\n",
    "FOR INSERT\n",
    "AS\n",
    "BEGIN\n",
    "  DECLARE @CustomerId INT, @OrderAmount DECIMAL(10,2), @CreditLimit DECIMAL(10,2)\n",
    "\n",
    "  SELECT @CustomerId = CustomerId, @OrderAmount = OrderAmount FROM inserted\n",
    "\n",
    "  SELECT @CreditLimit = CreditLimit FROM Customers WHERE CustomerId = @CustomerId\n",
    "\n",
    "  IF @OrderAmount > @CreditLimit\n",
    "  BEGIN\n",
    "    ROLLBACK TRANSACTION\n",
    "    RAISERROR ('Insufficient credit for customer', 16, 1)\n",
    "  END\n",
    "END"
   ]
  },
  {
   "cell_type": "markdown",
   "metadata": {},
   "source": [
    "\n",
    "\n",
    "In this example, the trigger checks the customer's credit limit before inserting a new order. If the order amount exceeds the credit limit, the transaction is rolled back and an error is raised. This enforces the business rule that an order can only be placed if the customer has sufficient credit."
   ]
  },
  {
   "cell_type": "markdown",
   "metadata": {},
   "source": [
    "# 9. What are the risks to data integrity?"
   ]
  },
  {
   "cell_type": "markdown",
   "metadata": {},
   "source": [
    "Data integrity can be compromised due to various factors. Here are some common risks to data integrity:\n",
    "\n",
    "1. **Human Errors**: Mistakes made by users while entering, updating, or deleting data can lead to inconsistencies and inaccuracies.\n",
    "\n",
    "2. **System Failures**: Hardware malfunctions, software bugs, or system crashes can cause data loss or corruption.\n",
    "\n",
    "3. **Malware and Hacking**: Unauthorized access, viruses, or malicious software can alter or delete data.\n",
    "\n",
    "4. **Data Transfer Errors**: Errors can occur during data migration or synchronization between systems, leading to data inconsistency.\n",
    "\n",
    "5. **Design Flaws**: Poor database design can lead to data anomalies. For example, lack of proper normalization can lead to update anomalies.\n",
    "\n",
    "6. **Concurrency Issues**: In multi-user environments, if transactions are not properly managed, concurrent access can lead to inconsistent data.\n",
    "\n",
    "7. **Lack of Business Rule Enforcement**: If business rules are not properly enforced through constraints, triggers, etc., it can lead to violation of data integrity.\n",
    "\n",
    "8. **Physical Damage**: Damage to the storage media (like disk failure) can lead to data loss or corruption.\n",
    "\n",
    "To mitigate these risks, it's important to have robust error checking, backup and recovery procedures, security measures, and data validation rules in place. Regular audits and monitoring can also help detect and correct issues promptly."
   ]
  },
  {
   "cell_type": "markdown",
   "metadata": {},
   "source": [
    "# **SQL Cursor**"
   ]
  },
  {
   "cell_type": "markdown",
   "metadata": {},
   "source": [
    "# 1. What is a cursor in SQL Server?"
   ]
  },
  {
   "cell_type": "markdown",
   "metadata": {},
   "source": [
    "A cursor in SQL Server is a database object used to retrieve data from a result set one row at a time, instead of the typical approach of retrieving all the data at once. Cursors are typically used when you need to update records in a database table in a singleton fashion, i.e., one row at a time.\n",
    "\n",
    "Here's a basic example of how a cursor might be used in SQL Server:\n",
    "\n"
   ]
  },
  {
   "cell_type": "code",
   "execution_count": null,
   "metadata": {
    "vscode": {
     "languageId": "sql"
    }
   },
   "outputs": [],
   "source": [
    "DECLARE @MyVariable INT;\n",
    "DECLARE MyCursor CURSOR FOR\n",
    "SELECT MyColumn FROM MyTable;\n",
    "OPEN MyCursor;\n",
    "FETCH NEXT FROM MyCursor INTO @MyVariable;\n",
    "WHILE @@FETCH_STATUS = 0\n",
    "BEGIN\n",
    "   -- Do something with @MyVariable\n",
    "   FETCH NEXT FROM MyCursor INTO @MyVariable;\n",
    "END;\n",
    "CLOSE MyCursor;\n",
    "DEALLOCATE MyCursor;"
   ]
  },
  {
   "cell_type": "markdown",
   "metadata": {},
   "source": [
    "\n",
    "\n",
    "In this example, `MyCursor` is a cursor that retrieves data from `MyTable`. The `FETCH NEXT` command is used to retrieve the next row from the cursor and store the value in `@MyVariable`. The `WHILE` loop continues to fetch and process each row until there are no more rows to fetch (`@@FETCH_STATUS = 0`).\n",
    "\n",
    "While cursors can be useful, they can also be resource-intensive and slow compared to set-based operations, so they should be used judiciously."
   ]
  },
  {
   "cell_type": "markdown",
   "metadata": {},
   "source": [
    "# 2. How to utilize the Transact-SQL Cursor"
   ]
  },
  {
   "cell_type": "markdown",
   "metadata": {},
   "source": [
    "In Transact-SQL, a cursor allows you to retrieve rows from a result set one at a time. Here's a step-by-step guide on how to use a cursor:\n",
    "\n",
    "1. **Declare the Cursor**: You start by declaring a cursor with the `DECLARE` statement. You specify a SQL `SELECT` statement to define the result set of the cursor.\n",
    "\n"
   ]
  },
  {
   "cell_type": "code",
   "execution_count": null,
   "metadata": {
    "vscode": {
     "languageId": "sql"
    }
   },
   "outputs": [],
   "source": [
    "DECLARE cursor_name CURSOR FOR\n",
    "SELECT column_name FROM table_name;"
   ]
  },
  {
   "cell_type": "markdown",
   "metadata": {},
   "source": [
    "\n",
    "\n",
    "2. **Open the Cursor**: You then open the cursor with the `OPEN` statement. This executes the `SELECT` statement and populates the result set.\n",
    "\n"
   ]
  },
  {
   "cell_type": "code",
   "execution_count": null,
   "metadata": {
    "vscode": {
     "languageId": "sql"
    }
   },
   "outputs": [],
   "source": [
    "OPEN cursor_name;"
   ]
  },
  {
   "cell_type": "markdown",
   "metadata": {},
   "source": [
    "\n",
    "\n",
    "3. **Fetch Rows from the Cursor**: You can now retrieve rows from the result set one at a time using the `FETCH NEXT` statement. This statement retrieves the next row and moves the cursor to the next row in the result set.\n",
    "\n"
   ]
  },
  {
   "cell_type": "code",
   "execution_count": null,
   "metadata": {
    "vscode": {
     "languageId": "sql"
    }
   },
   "outputs": [],
   "source": [
    "FETCH NEXT FROM cursor_name;"
   ]
  },
  {
   "cell_type": "markdown",
   "metadata": {},
   "source": [
    "\n",
    "\n",
    "4. **Process the Row**: After fetching a row, you can process it as needed. This typically involves using the fetched data in some way.\n",
    "\n",
    "5. **Loop through the Result Set**: You typically use a `WHILE` loop to continue fetching and processing rows until there are no more rows to fetch.\n",
    "\n"
   ]
  },
  {
   "cell_type": "code",
   "execution_count": null,
   "metadata": {
    "vscode": {
     "languageId": "sql"
    }
   },
   "outputs": [],
   "source": [
    "WHILE @@FETCH_STATUS = 0\n",
    "BEGIN\n",
    "   FETCH NEXT FROM cursor_name;\n",
    "   -- process the row\n",
    "END;"
   ]
  },
  {
   "cell_type": "markdown",
   "metadata": {},
   "source": [
    "\n",
    "\n",
    "6. **Close the Cursor**: Once you're done with the cursor, you close it with the `CLOSE` statement.\n",
    "\n"
   ]
  },
  {
   "cell_type": "code",
   "execution_count": null,
   "metadata": {
    "vscode": {
     "languageId": "sql"
    }
   },
   "outputs": [],
   "source": [
    "CLOSE cursor_name;"
   ]
  },
  {
   "cell_type": "markdown",
   "metadata": {},
   "source": [
    "\n",
    "\n",
    "7. **Deallocate the Cursor**: Finally, you deallocate the cursor with the `DEALLOCATE` statement to free up resources.\n",
    "\n"
   ]
  },
  {
   "cell_type": "code",
   "execution_count": null,
   "metadata": {
    "vscode": {
     "languageId": "sql"
    }
   },
   "outputs": [],
   "source": [
    "DEALLOCATE cursor_name;"
   ]
  },
  {
   "cell_type": "markdown",
   "metadata": {},
   "source": [
    "\n",
    "\n",
    "Here's a complete example:\n",
    "\n"
   ]
  },
  {
   "cell_type": "code",
   "execution_count": null,
   "metadata": {
    "vscode": {
     "languageId": "sql"
    }
   },
   "outputs": [],
   "source": [
    "DECLARE @ProductName VARCHAR(100);\n",
    "DECLARE ProductCursor CURSOR FOR\n",
    "SELECT ProductName FROM Products;\n",
    "OPEN ProductCursor;\n",
    "FETCH NEXT FROM ProductCursor INTO @ProductName;\n",
    "WHILE @@FETCH_STATUS = 0\n",
    "BEGIN\n",
    "   PRINT @ProductName;\n",
    "   FETCH NEXT FROM ProductCursor INTO @ProductName;\n",
    "END;\n",
    "CLOSE ProductCursor;\n",
    "DEALLOCATE ProductCursor;"
   ]
  },
  {
   "cell_type": "markdown",
   "metadata": {},
   "source": [
    "\n",
    "\n",
    "This example prints the name of each product in the `Products` table. Note that cursors can be resource-intensive and slow compared to set-based operations, so they should be used judiciously."
   ]
  },
  {
   "cell_type": "markdown",
   "metadata": {},
   "source": [
    "# 3. Define the different sorts of cursor locks?"
   ]
  },
  {
   "cell_type": "markdown",
   "metadata": {},
   "source": [
    "In SQL Server, cursor locks are used to control the visibility and editability of data rows in a cursor. The type of lock used can affect the concurrency and consistency of data. Here are the different types of cursor locks:\n",
    "\n",
    "1. **Shared Locks (S)**: Shared locks are used for operations that do not change or update data (read-only operations), such as a SELECT statement. Multiple shared locks can be granted on the same data item, allowing multiple transactions to read (select) a resource with shared locks.\n",
    "\n",
    "2. **Exclusive Locks (X)**: Exclusive locks are used for data modification operations, such as UPDATE, DELETE, or INSERT. Only one exclusive lock is allowed on an item, preventing other transactions from accessing the data.\n",
    "\n",
    "3. **Update Locks (U)**: Update locks are a hybrid of shared and exclusive locks. They are used when a transaction is expected to read a row and then modify it (a read followed by a write). The update lock prevents other transactions from acquiring an exclusive lock on the row, thus preventing deadlocks.\n",
    "\n",
    "4. **Intent Locks (I)**: Intent locks indicate that SQL Server intends to place locks at a lower level. They are used to prevent other transactions from modifying the higher-level resource in a way that would conflict with the lock.\n",
    "\n",
    "5. **Schema Locks (Sch)**: Schema modification (Sch-M) locks are used when a table data definition language (DDL) operation (such as adding a column or dropping a table) is being performed. Schema stability (Sch-S) locks are used when compiling queries to prevent concurrent DDL operations.\n",
    "\n",
    "6. **Bulk Update Locks (BU)**: Bulk update locks are used when performing a bulk-copy of data into a table with the TABLOCK hint.\n",
    "\n",
    "The type of lock used depends on the SQL statement and the transaction isolation level. SQL Server automatically manages locks, but you can also manually specify locking behavior in your SQL statements."
   ]
  },
  {
   "cell_type": "markdown",
   "metadata": {},
   "source": [
    "# 4. Tips for cursor optimization?"
   ]
  },
  {
   "cell_type": "markdown",
   "metadata": {},
   "source": [
    "While set-based operations are generally preferred in SQL due to their performance benefits, there are times when cursors are necessary. Here are some tips for optimizing cursor performance in SQL Server:\n",
    "\n",
    "1. **Use the smallest possible cursor**: Only include the columns in the cursor that you absolutely need. The fewer columns and rows the cursor has to handle, the faster it will be.\n",
    "\n",
    "2. **Use a FAST_FORWARD cursor**: A FAST_FORWARD cursor is a read-only, forward-only cursor that can perform faster than other types of cursors. It's less flexible, but if it fits your needs, it can provide a performance boost.\n",
    "\n"
   ]
  },
  {
   "cell_type": "code",
   "execution_count": null,
   "metadata": {
    "vscode": {
     "languageId": "sql"
    }
   },
   "outputs": [],
   "source": [
    "DECLARE cursor_name CURSOR FAST_FORWARD FOR SELECT column_name FROM table_name;"
   ]
  },
  {
   "cell_type": "markdown",
   "metadata": {},
   "source": [
    "\n",
    "\n",
    "3. **Use LOCAL and READ_ONLY options**: LOCAL cursors are only available in the scope of the current stored procedure, function, or trigger, which can improve performance. READ_ONLY cursors prevent updates, which can also improve performance.\n",
    "\n"
   ]
  },
  {
   "cell_type": "code",
   "execution_count": null,
   "metadata": {
    "vscode": {
     "languageId": "sql"
    }
   },
   "outputs": [],
   "source": [
    "DECLARE cursor_name CURSOR LOCAL READ_ONLY FOR SELECT column_name FROM table_name;"
   ]
  },
  {
   "cell_type": "markdown",
   "metadata": {},
   "source": [
    "\n",
    "\n",
    "4. **Minimize cursor usage**: Cursors can be resource-intensive. If you can achieve the same result with a set-based operation, such as a JOIN or subquery, it will usually be faster.\n",
    "\n",
    "5. **Close and deallocate cursors as soon as possible**: Cursors hold resources, so you should close and deallocate them as soon as you're done with them.\n",
    "\n"
   ]
  },
  {
   "cell_type": "code",
   "execution_count": null,
   "metadata": {
    "vscode": {
     "languageId": "sql"
    }
   },
   "outputs": [],
   "source": [
    "CLOSE cursor_name;\n",
    "DEALLOCATE cursor_name;"
   ]
  },
  {
   "cell_type": "markdown",
   "metadata": {},
   "source": [
    "\n",
    "\n",
    "6. **Avoid Nested Cursors**: Nested cursors can significantly degrade performance. Try to avoid them if possible.\n",
    "\n",
    "7. **Use appropriate locking**: Use the appropriate lock type for your needs to avoid unnecessary lock contention.\n",
    "\n",
    "Remember, every situation is unique, so it's important to test different approaches and use the SQL Server Profiler and Execution Plans to understand how your queries are performing."
   ]
  },
  {
   "cell_type": "markdown",
   "metadata": {},
   "source": [
    "# 5. The cursor's disadvantages and limitations?"
   ]
  },
  {
   "cell_type": "markdown",
   "metadata": {},
   "source": [
    "Cursors in SQL Server, while useful in certain scenarios, come with several disadvantages and limitations:\n",
    "\n",
    "1. **Performance**: Cursors are row-based operations, meaning they retrieve, manipulate, and update rows one at a time. This can be significantly slower than set-based operations that handle multiple rows at once.\n",
    "\n",
    "2. **Resource Intensive**: Cursors can be resource-intensive as they require memory to store the result set and additional CPU resources to maintain the state of the cursor.\n",
    "\n",
    "3. **Complexity**: Cursors add complexity to your SQL code. They require more code to implement and can be harder to read and maintain than set-based operations.\n",
    "\n",
    "4. **Locking and Concurrency Issues**: Cursors can lead to locking and concurrency issues. If a cursor holds locks for a long time, it can block other operations and reduce the concurrency in the database.\n",
    "\n",
    "5. **Forward-Only, Read-Only**: Some types of cursors, like FAST_FORWARD cursors, are forward-only and read-only. This means you can only fetch rows in the forward direction and you can't update the data.\n",
    "\n",
    "6. **Not Suitable for Large Result Sets**: Cursors are not suitable for large result sets. They can consume a lot of memory and cause performance issues.\n",
    "\n",
    "7. **Not Always Portable**: Cursor implementations can vary between different SQL platforms. Code using cursors may not be easily portable from one database system to another.\n",
    "\n",
    "Given these disadvantages and limitations, it's generally recommended to use cursors sparingly and to always look for a set-based operation that could achieve the same result more efficiently."
   ]
  },
  {
   "cell_type": "markdown",
   "metadata": {},
   "source": [
    "# **Thank You!**"
   ]
  }
 ],
 "metadata": {
  "language_info": {
   "name": "python"
  }
 },
 "nbformat": 4,
 "nbformat_minor": 2
}
