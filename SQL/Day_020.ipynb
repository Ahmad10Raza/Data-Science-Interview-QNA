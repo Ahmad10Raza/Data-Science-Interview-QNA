{
 "cells": [
  {
   "cell_type": "markdown",
   "metadata": {},
   "source": [
    "# **SQL : Unique Constraints**"
   ]
  },
  {
   "cell_type": "markdown",
   "metadata": {},
   "source": [
    "The rule that states that the values of a key are valid only if they are unique\n",
    "is known as the unique constraint. A unique key has just one set of values,\n",
    "and a unique index is utilized to apply a unique restriction. During the\n",
    "execution of INSERT and UPDATE commands, the database manager\n",
    "utilizes the unique index to guarantee that the values of the key are unique.\n",
    "\n",
    "There are two kinds of Unique constraints:\n",
    "A CREATE TABLE or ALTER TABLE command can specify a unique key\n",
    "as a primary key. There can't be more than one main key in a base table. A\n",
    "CHECK constraint will be introduced automatically to enforce the\n",
    "requirement that NULL values are not permitted in the primary key fields.\n",
    "\n",
    "The main index is a unique index on a primary key.\n",
    "The UNIQUE clause of the CREATE TABLE or ALTER TABLE statement\n",
    "may be used to establish unique keys. There can be many sets of UNIQUE\n",
    "keys in a base table, and there are no restrictions on the number of null\n",
    "values that can be used.\n",
    "\n",
    "The parent key is a unique key referenced by the foreign key of a referential\n",
    "constraint. The main key or a UNIQUE key is a parent key, and the default\n",
    "parent key is its main key when a base table is designated as a parent in a\n",
    "referential constraint.\n",
    "\n",
    "When a unique constraint is defined, the unique index used to enforce it is\n",
    "constructed implicitly. Alternatively, the CREATE UNIQUE INDEX\n",
    "statement can be used to define it."
   ]
  },
  {
   "cell_type": "markdown",
   "metadata": {},
   "source": [
    "# 1. What are constraints?"
   ]
  },
  {
   "cell_type": "markdown",
   "metadata": {},
   "source": [
    "In the context of databases, constraints are rules that are applied to data columns on a table. They are used to limit the type of data that can go into a table. This ensures the accuracy and reliability of the data in the table. Constraints can be column level or table level. \n",
    "\n",
    "Here are some common types of constraints:\n",
    "\n",
    "1. **PRIMARY KEY**: Uniquely identifies each record in a table. Primary key column cannot have NULL values.\n",
    "\n",
    "2. **FOREIGN KEY**: Uniquely identifies a row/record in any of the given database table. It is used to prevent actions that would destroy links between tables.\n",
    "\n",
    "3. **NOT NULL**: Ensures that a column cannot have a NULL value.\n",
    "\n",
    "4. **UNIQUE**: Ensures that all values in a column are different.\n",
    "\n",
    "5. **CHECK**: Ensures that all values in a column satisfy certain conditions.\n",
    "\n",
    "6. **DEFAULT**: Provides a default value for a column when none is specified.\n",
    "\n",
    "Constraints are used to enforce the data integrity in the SQL tables."
   ]
  },
  {
   "cell_type": "markdown",
   "metadata": {},
   "source": [
    "# 2. What do you mean when you say \"data integrity\"?"
   ]
  },
  {
   "cell_type": "markdown",
   "metadata": {},
   "source": [
    "Data integrity refers to the accuracy, consistency, and reliability of data stored in a database. It's a critical aspect to the design and management of databases and data systems. Data integrity can be maintained through a series of rules, standards, and procedures.\n",
    "\n",
    "There are several types of data integrity:\n",
    "\n",
    "1. **Entity Integrity**: This ensures that there are no duplicate records within the table and that the field that uniquely identifies each record (primary key) is unique and never null.\n",
    "\n",
    "2. **Domain Integrity**: This enforces valid entries for a given column by restricting the type, the format, or the range of values.\n",
    "\n",
    "3. **Referential Integrity**: This ensures that the relationship between tables remains consistent. More specifically, that the foreign key in any referencing table always points to a valid row in the referenced table.\n",
    "\n",
    "4. **User-Defined Integrity**: This refers to a set of rules defined by a user, which do not belong to the entity, domain, or referential integrity categories.\n",
    "\n",
    "Maintaining data integrity ensures the quality of the data in the database, and that it can be effectively used for its intended purposes."
   ]
  },
  {
   "cell_type": "markdown",
   "metadata": {},
   "source": [
    "# 3. Is it possible to add constraints to a table that already contains data?"
   ]
  },
  {
   "cell_type": "markdown",
   "metadata": {},
   "source": [
    "Yes, it is possible to add constraints to a table that already contains data. However, you need to be aware that if existing data doesn't satisfy the new constraint, the operation will fail.\n",
    "\n",
    "For example, if you want to add a `UNIQUE` constraint to a column, but there are already duplicate values in that column, you will not be able to add the constraint until those duplicates are resolved.\n",
    "\n",
    "Similarly, if you want to add a `NOT NULL` constraint to a column, but there are already NULL values in that column, you will need to update those NULLs to some value before you can add the constraint.\n",
    "\n",
    "Here's an example of how you can add a constraint to an existing table:\n",
    "\n"
   ]
  },
  {
   "cell_type": "code",
   "execution_count": null,
   "metadata": {
    "vscode": {
     "languageId": "sql"
    }
   },
   "outputs": [],
   "source": [
    "ALTER TABLE table_name\n",
    "ADD CONSTRAINT constraint_name UNIQUE (column1, column2, ...);"
   ]
  },
  {
   "cell_type": "markdown",
   "metadata": {},
   "source": [
    "\n",
    "\n",
    "In this example, `table_name` is the name of the table, `constraint_name` is the name you want to give to the constraint, and `column1, column2, ...` are the columns that the constraint applies to."
   ]
  },
  {
   "cell_type": "markdown",
   "metadata": {},
   "source": [
    "# 4. Can a table have more than one primary key?"
   ]
  },
  {
   "cell_type": "markdown",
   "metadata": {},
   "source": [
    "No, a table cannot have more than one primary key. However, a primary key can consist of multiple columns, which is known as a composite primary key.\n",
    "\n",
    "A primary key is used to uniquely identify each record in a table. It must contain unique values and it cannot contain null values. \n",
    "\n",
    "Here's an example of how you can define a composite primary key:\n",
    "\n"
   ]
  },
  {
   "cell_type": "code",
   "execution_count": null,
   "metadata": {
    "vscode": {
     "languageId": "sql"
    }
   },
   "outputs": [],
   "source": [
    "CREATE TABLE example_table (\n",
    "    column1 datatype,\n",
    "    column2 datatype,\n",
    "    column3 datatype,\n",
    "    ...\n",
    "    PRIMARY KEY (column1, column2)\n",
    ");"
   ]
  },
  {
   "cell_type": "markdown",
   "metadata": {},
   "source": [
    "\n",
    "\n",
    "In this example, `column1` and `column2` together form the primary key of the table. This means that the combination of `column1` and `column2` must be unique for each record in the table."
   ]
  },
  {
   "cell_type": "markdown",
   "metadata": {},
   "source": [
    "# 5. What is the definition of a foreign key?"
   ]
  },
  {
   "cell_type": "markdown",
   "metadata": {},
   "source": [
    "A foreign key is a column or a set of columns in a relational database table that provides a link between data in two tables. It acts as a cross-reference between tables because it references the primary key of another table, thereby establishing a link between them.\n",
    "\n",
    "The main purpose of foreign keys is to enforce referential integrity within your database. Referential integrity is a property of data stating that all its references are valid. It ensures that the relationship between tables remains consistent.\n",
    "\n",
    "Here's an example of how you can define a foreign key:\n",
    "\n"
   ]
  },
  {
   "cell_type": "code",
   "execution_count": null,
   "metadata": {
    "vscode": {
     "languageId": "sql"
    }
   },
   "outputs": [],
   "source": [
    "CREATE TABLE Orders (\n",
    "    OrderID int NOT NULL,\n",
    "    OrderNumber int NOT NULL,\n",
    "    CustomerID int,\n",
    "    PRIMARY KEY (OrderID),\n",
    "    FOREIGN KEY (CustomerID) REFERENCES Customers(CustomerID)\n",
    ");"
   ]
  },
  {
   "cell_type": "markdown",
   "metadata": {},
   "source": [
    "\n",
    "\n",
    "In this example, `CustomerID` in the `Orders` table is a foreign key that references `CustomerID` in the `Customers` table. This means that for each order, the `CustomerID` must be a valid `CustomerID` in the `Customers` table."
   ]
  },
  {
   "cell_type": "markdown",
   "metadata": {},
   "source": [
    "# 6. What is the difference between primary and unique key constraints?"
   ]
  },
  {
   "cell_type": "markdown",
   "metadata": {},
   "source": [
    "Primary Key and Unique Key are both constraints in SQL that ensure uniqueness of values in a column or set of columns. However, there are some differences between them:\n",
    "\n",
    "1. **Primary Key**: A table can have only one primary key. The primary key constraint uniquely identifies each record in a table. It must contain unique values, and it cannot contain null values. Primary keys are used to establish relationships with foreign keys in other tables.\n",
    "\n",
    "2. **Unique Key**: A table can have more than one unique key. The unique key constraint ensures that all values in a column or set of columns are unique across the table. Unlike primary keys, columns with a unique key constraint can contain null values, but only one null value is allowed per column if it's defined as unique.\n",
    "\n",
    "In summary, while both primary and unique keys ensure uniqueness, the primary key is used to identify a row in a table uniquely, and it cannot be null. On the other hand, a unique key can accept one null value, and a table can have multiple unique keys."
   ]
  },
  {
   "cell_type": "markdown",
   "metadata": {},
   "source": [
    "# 7. Is it possible to use Unique key restrictions across multiple columns?"
   ]
  },
  {
   "cell_type": "markdown",
   "metadata": {},
   "source": [
    "Yes, it is possible to use Unique key constraints across multiple columns. This is often referred to as a composite unique key. A composite unique key is a set of two or more columns where the combination of values across these columns must be unique within the table.\n",
    "\n",
    "Here's an example of how you can define a composite unique key:\n",
    "\n"
   ]
  },
  {
   "cell_type": "code",
   "execution_count": null,
   "metadata": {
    "vscode": {
     "languageId": "sql"
    }
   },
   "outputs": [],
   "source": [
    "CREATE TABLE example_table (\n",
    "    column1 datatype,\n",
    "    column2 datatype,\n",
    "    column3 datatype,\n",
    "    ...\n",
    "    UNIQUE (column1, column2)\n",
    ");"
   ]
  },
  {
   "cell_type": "markdown",
   "metadata": {},
   "source": [
    "\n",
    "\n",
    "In this example, `column1` and `column2` together form a composite unique key. This means that while `column1` and `column2` can individually have duplicate values, the combination of `column1` and `column2` must be unique for each record in the table."
   ]
  },
  {
   "cell_type": "markdown",
   "metadata": {},
   "source": [
    "# 8. When you add a unique key constraint, which index does the database construct by default?"
   ]
  },
  {
   "cell_type": "markdown",
   "metadata": {},
   "source": [
    "When you add a `UNIQUE` key constraint to a column or set of columns in a database, the database management system automatically creates a unique index on the specified column(s). \n",
    "\n",
    "A unique index is a type of database index that requires that the combination of values in the indexed columns to be unique. Its main purpose is to enforce the uniqueness of the values in the columns and speed up the data retrieval process.\n",
    "\n",
    "This behavior is common across many database systems, including MySQL, PostgreSQL, SQL Server, and Oracle. The unique index ensures that no two rows have the same values in the unique columns."
   ]
  },
  {
   "cell_type": "markdown",
   "metadata": {},
   "source": [
    "# 9. What does it mean when you say \"default constraints\"?"
   ]
  },
  {
   "cell_type": "markdown",
   "metadata": {},
   "source": [
    "A default constraint is a type of SQL constraint that sets a default value for a column in a database table. If no value is specified for the column when a new row is inserted, then the default value will be used.\n",
    "\n",
    "The default value can be a constant or a function. If a function is used, it must be enclosed in parentheses.\n",
    "\n",
    "Here's an example of how you can define a default constraint:\n",
    "\n"
   ]
  },
  {
   "cell_type": "code",
   "execution_count": null,
   "metadata": {
    "vscode": {
     "languageId": "sql"
    }
   },
   "outputs": [],
   "source": [
    "CREATE TABLE Employees (\n",
    "    ID int NOT NULL,\n",
    "    Name varchar(255) NOT NULL,\n",
    "    City varchar(255) DEFAULT 'Unknown'\n",
    ");"
   ]
  },
  {
   "cell_type": "markdown",
   "metadata": {},
   "source": [
    "\n",
    "\n",
    "In this example, if you insert a new row into the `Employees` table and don't specify a value for the `City` column, the default value 'Unknown' will be used."
   ]
  },
  {
   "cell_type": "markdown",
   "metadata": {},
   "source": [
    "# 10. What kinds of data integrity are there?"
   ]
  },
  {
   "cell_type": "markdown",
   "metadata": {},
   "source": [
    "Data integrity refers to the accuracy, consistency, and reliability of data. There are several types of data integrity in the context of relational databases:\n",
    "\n",
    "1. **Entity Integrity**: This ensures that there are no duplicate records within the table and that the field that uniquely identifies each record (primary key) is unique and never null.\n",
    "\n",
    "2. **Domain Integrity**: This enforces valid entries for a given column by restricting the type, the format, or the range of values.\n",
    "\n",
    "3. **Referential Integrity**: This ensures that the relationship between tables remains consistent. More specifically, that the foreign key in any referencing table always points to a valid row in the referenced table.\n",
    "\n",
    "4. **User-Defined Integrity**: This refers to a set of rules defined by a user, which do not belong to the entity, domain, or referential integrity categories.\n",
    "\n",
    "Maintaining data integrity ensures the quality of the data in the database, and that it can be effectively used for its intended purposes."
   ]
  },
  {
   "cell_type": "markdown",
   "metadata": {},
   "source": [
    "# **Thank You!**"
   ]
  }
 ],
 "metadata": {
  "language_info": {
   "name": "python"
  }
 },
 "nbformat": 4,
 "nbformat_minor": 2
}
