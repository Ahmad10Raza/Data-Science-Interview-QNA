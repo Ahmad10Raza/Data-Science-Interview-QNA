{
 "cells": [
  {
   "cell_type": "markdown",
   "metadata": {},
   "source": [
    "# SQL Questions Continue..."
   ]
  },
  {
   "cell_type": "markdown",
   "metadata": {},
   "source": [
    "# 11. How would you write a SQL query to show the current date?"
   ]
  },
  {
   "cell_type": "markdown",
   "metadata": {},
   "source": [
    "The SQL command to get the current date varies slightly depending on the specific SQL database system you're using. Here are a few examples:\n",
    "\n",
    "**A built-in method in SQL called GetDate() returns the current timestamp/date.**\n",
    "\n",
    "For MySQL, you can use the `CURDATE()` function:\n",
    "\n"
   ]
  },
  {
   "cell_type": "code",
   "execution_count": null,
   "metadata": {
    "vscode": {
     "languageId": "sql"
    }
   },
   "outputs": [],
   "source": [
    "SELECT CURDATE();"
   ]
  },
  {
   "cell_type": "markdown",
   "metadata": {},
   "source": [
    "\n",
    "\n",
    "For SQL Server, you can use the `GETDATE()` function:\n",
    "\n"
   ]
  },
  {
   "cell_type": "code",
   "execution_count": null,
   "metadata": {
    "vscode": {
     "languageId": "sql"
    }
   },
   "outputs": [],
   "source": [
    "SELECT GETDATE();"
   ]
  },
  {
   "cell_type": "markdown",
   "metadata": {},
   "source": [
    "\n",
    "\n",
    "For PostgreSQL, you can use the `CURRENT_DATE` keyword:\n",
    "\n"
   ]
  },
  {
   "cell_type": "code",
   "execution_count": null,
   "metadata": {
    "vscode": {
     "languageId": "sql"
    }
   },
   "outputs": [],
   "source": [
    "SELECT CURRENT_DATE;"
   ]
  },
  {
   "cell_type": "markdown",
   "metadata": {},
   "source": [
    "\n",
    "\n",
    "For SQLite, you can use the `date('now')` function:\n",
    "\n"
   ]
  },
  {
   "cell_type": "code",
   "execution_count": null,
   "metadata": {
    "vscode": {
     "languageId": "sql"
    }
   },
   "outputs": [],
   "source": [
    "SELECT date('now');"
   ]
  },
  {
   "cell_type": "markdown",
   "metadata": {},
   "source": [
    "\n",
    "\n",
    "Each of these queries will return the current date according to the system date of the database server."
   ]
  },
  {
   "cell_type": "markdown",
   "metadata": {},
   "source": [
    "# 12. What exactly do you mean when you say \"query optimization\"?"
   ]
  },
  {
   "cell_type": "markdown",
   "metadata": {},
   "source": [
    "Query optimization is a function of the database management system (DBMS) that seeks to find the most efficient method for executing a given SQL query. The goal is to minimize the system resources required to fulfill the query (such as CPU, memory, and disk I/O) and to return the query results as quickly as possible.\n",
    "\n",
    "The DBMS's query optimizer considers various factors and strategies, such as:\n",
    "\n",
    "1. **Index Usage**: The optimizer checks if it can use indexes to speed up access to the data.\n",
    "\n",
    "2. **Join Order**: When a query involves multiple tables, the order in which the tables are joined can affect performance.\n",
    "\n",
    "3. **Join Type**: The optimizer chooses the most efficient join algorithm (nested loops, hash join, merge join, etc.) based on the data distribution and size.\n",
    "\n",
    "4. **Parallel Execution**: The optimizer may decide to break the query into smaller parts that can be executed concurrently.\n",
    "\n",
    "5. **Data Statistics**: The optimizer uses statistics about the data stored in the database, such as the number of rows in a table, data distribution, and more.\n",
    "\n",
    "The process of query optimization is usually transparent to the user or application developer. The SQL query is sent to the DBMS, and the query optimizer automatically determines the best way to execute the query. However, understanding the basics of query optimization can help when writing complex SQL queries or diagnosing performance issues."
   ]
  },
  {
   "cell_type": "markdown",
   "metadata": {},
   "source": [
    "# 13. What is \"denormalization\"?"
   ]
  },
  {
   "cell_type": "markdown",
   "metadata": {},
   "source": [
    "Denormalization is the process of combining tables in a database to reduce data redundancy and improve read performance. While normalization is all about reducing redundancy and ensuring data integrity by segregating the data into separate tables, denormalization does the opposite.\n",
    "\n",
    "In denormalization, you intentionally add redundant data where you think it will help improve the performance of complex reads. By storing the same data in more than one table, you can avoid costly join operations, which can significantly improve read performance in some cases.\n",
    "\n",
    "However, denormalization comes with its own set of trade-offs:\n",
    "\n",
    "1. **Increased Write Costs**: While read performance might be improved, write performance can be negatively impacted because the same piece of data might need to be updated in multiple places.\n",
    "\n",
    "2. **Data Inconsistency Risk**: There's a risk of data inconsistency if all instances of a piece of data are not updated correctly.\n",
    "\n",
    "3. **Increased Storage Costs**: More storage space is needed to store the redundant data.\n",
    "\n",
    "Denormalization should be used judiciously and only when necessary, such as when dealing with read-heavy workloads where the same complex join operation is performed repeatedly."
   ]
  },
  {
   "cell_type": "markdown",
   "metadata": {},
   "source": [
    "# 14. What are the differences between entities and relationships?"
   ]
  },
  {
   "cell_type": "markdown",
   "metadata": {},
   "source": [
    "In the context of Entity-Relationship (ER) modeling, which is a technique used to visualize and describe data relationships in a database:\n",
    "\n",
    "1. **Entities**: These are the objects or concepts that are significant to the system we are modeling. They are typically nouns such as 'Customer', 'Product', 'Invoice', etc. Entities are represented as tables in a relational database. Each entity has attributes, which are the properties or characteristics of the entity. For example, a 'Customer' entity might have attributes like 'CustomerID', 'Name', 'Address', etc.\n",
    "\n",
    "2. **Relationships**: These describe how entities interact with each other. For example, a 'Customer' might 'Place' an 'Order', a 'Product' might be 'PartOf' a 'Category', etc. Relationships can be one-to-one, one-to-many, or many-to-many. In a relational database, relationships are typically represented by foreign keys or linking tables.\n",
    "\n",
    "So, in summary, entities are the things we want to store data about, and relationships describe how these things are related to each other."
   ]
  },
  {
   "cell_type": "markdown",
   "metadata": {},
   "source": [
    "# 15. What is an index?"
   ]
  },
  {
   "cell_type": "markdown",
   "metadata": {},
   "source": [
    "In the context of databases, an index is a data structure that improves the speed of data retrieval operations on a database table. It works similarly to an index in a book: instead of going through each page to find a topic, you can go to the index, find the topic you're interested in, and see on which page the topic is found.\n",
    "\n",
    "Similarly, a database index provides a quick lookup for rows in a table based on the values within specific columns. Without an index, the database must scan every row in the table to find the relevant rows, but with an index, it can directly access the rows.\n",
    "\n",
    "Here's a simple example of creating an index on a `Customers` table in SQL:\n",
    "\n"
   ]
  },
  {
   "cell_type": "code",
   "execution_count": null,
   "metadata": {
    "vscode": {
     "languageId": "sql"
    }
   },
   "outputs": [],
   "source": [
    "CREATE INDEX idx_customers_name\n",
    "ON Customers (name);"
   ]
  },
  {
   "cell_type": "markdown",
   "metadata": {},
   "source": [
    "\n",
    "\n",
    "This creates an index on the `name` column of the `Customers` table, which would speed up queries that retrieve customers based on their names.\n",
    "\n",
    "However, while indexes speed up data retrieval, they slow down data modification operations like `INSERT`, `UPDATE`, and `DELETE` because the index also needs to be updated. Therefore, it's important to find a balance and only use indexes on columns that will be frequently searched or sorted."
   ]
  },
  {
   "cell_type": "markdown",
   "metadata": {},
   "source": [
    "# 16. Describe the various types of indexes in SQL."
   ]
  },
  {
   "cell_type": "markdown",
   "metadata": {},
   "source": [
    "In SQL, there are several types of indexes that can be used to enhance database performance. Here are some of the most common types:\n",
    "\n",
    "1. **Clustered Index**: A clustered index determines the physical order of data in a table. It sorts and stores the data rows in the table or view based on their key values. There can be only one clustered index per table.\n",
    "\n",
    "2. **Non-Clustered Index**: A non-clustered index doesn't sort the physical data inside the table. Instead, it creates a separate object within the table that contains a sorted list of the values in the indexed columns, along with pointers to the location of each row containing those values. You can have multiple non-clustered indexes on a table.\n",
    "\n",
    "3. **Unique Index**: A unique index ensures that the index key contains only unique values. It can be used to enforce the uniqueness of a column or a combination of columns.\n",
    "\n",
    "4. **Composite Index**: A composite index (also known as a compound index or concatenated index) is an index on two or more columns of a table. Its key is a combination of the indexed columns' values.\n",
    "\n",
    "5. **Covering Index** (or Included Index): A covering index includes all the columns needed to process a particular query. For a query, if all the columns it accesses are part of the index, it's known as a covering index. The benefit is that the database can satisfy the query using only the index, without needing to look up rows in the underlying table.\n",
    "\n",
    "6. **Full-Text Index**: A full-text index in SQL Server allows for linguistic search capabilities, such as searching for a word or phrase within a column, even if the words are not in the exact order as specified in the query.\n",
    "\n",
    "7. **Spatial Index**: A spatial index is used to optimize queries for geometric data stored in SQL Server, like points, polygons, and lines.\n",
    "\n",
    "Each type of index has its own use cases and can be used to optimize specific types of queries. The choice of which type of index to use depends on a variety of factors, including the nature of the data, the typical queries run against it, and the specific database system being used."
   ]
  },
  {
   "cell_type": "markdown",
   "metadata": {},
   "source": [
    "# 17. What is normalization, and what are its benefits?"
   ]
  },
  {
   "cell_type": "markdown",
   "metadata": {},
   "source": [
    "Normalization is a database design technique that reduces data redundancy and eliminates undesirable characteristics like Insertion, Update and Deletion Anomalies. It involves dividing a database into two or more tables and defining relationships between the tables. The main aim of normalization is to add, delete, or modify data without causing data inconsistencies.\n",
    "\n",
    "Normalization is typically done in stages, called normal forms:\n",
    "\n",
    "1. **First Normal Form (1NF)**: Each table cell should contain a single value, and each record needs to be unique.\n",
    "\n",
    "2. **Second Normal Form (2NF)**: If a table has a composite primary key, each non-key column should be a fact about the entire composite key.\n",
    "\n",
    "3. **Third Normal Form (3NF)**: Every non-key column must be dependent on the primary key.\n",
    "\n",
    "4. **Boyce-Codd Normal Form (BCNF)**: A version of 3NF where every determinant is a candidate key.\n",
    "\n",
    "5. **Fourth Normal Form (4NF)**: A table is in 4NF if it has no multi-valued dependencies.\n",
    "\n",
    "6. **Fifth Normal Form (5NF)**: A table is in 5NF if it has no join dependencies.\n",
    "\n",
    "The benefits of normalization include:\n",
    "\n",
    "1. **Minimizing data redundancy**: Because normalization divides data into separate tables, it minimizes redundancy and reduces the amount of data storage required.\n",
    "\n",
    "2. **Maintaining data integrity**: Normalization ensures that all data in a table is related and that there is only one way to understand the data in the table.\n",
    "\n",
    "3. **Improving query performance**: Normalized tables are more predictable and allow the database to take advantage of query optimization techniques that can make your queries run faster.\n",
    "\n",
    "4. **Easier to modify**: Normalized tables are generally easier to modify. If you need to change a schema, for example, it's generally easier to change it in a normalized structure.\n",
    "\n",
    "However, normalization also has its downsides. It can lead to more complex queries that require data from several tables, and it can also lead to more database operations as data is inserted, updated, and deleted across multiple tables. In some cases, denormalization might be more appropriate."
   ]
  },
  {
   "cell_type": "markdown",
   "metadata": {},
   "source": [
    "# 18. Describe the various forms of normalization."
   ]
  },
  {
   "cell_type": "markdown",
   "metadata": {},
   "source": [
    "Normalization in databases is a process that helps reduce redundancy and dependency by organizing fields and tables. It involves constructing tables and setting up relationships between those tables according to certain rules, called \"normal forms\". Here are the most common normal forms:\n",
    "\n",
    "1. **First Normal Form (1NF)**: A table is in 1NF if it contains no repeating groups of data. Each table cell should contain a single value, and each record needs to be unique.\n",
    "\n",
    "2. **Second Normal Form (2NF)**: A table is in 2NF if it is in 1NF and every non-key attribute is fully functionally dependent on the primary key. In other words, if a table has a composite primary key, each non-key column should be a fact about the entire composite key.\n",
    "\n",
    "3. **Third Normal Form (3NF)**: A table is in 3NF if it is in 2NF and there are no transitive functional dependencies of non-key attributes. That is, every non-key column must be dependent on the primary key and not on other non-key attributes.\n",
    "\n",
    "4. **Boyce-Codd Normal Form (BCNF)**: A table is in BCNF if it is in 3NF and for every one of its dependencies X → Y, X is a superkey. A superkey is a set of columns such that the table has at most one row for each combination of values in these columns.\n",
    "\n",
    "5. **Fourth Normal Form (4NF)**: A table is in 4NF if it is in BCNF and it has no multi-valued dependencies. That is, a 4NF table cannot have sets of values that depend on a primary key.\n",
    "\n",
    "6. **Fifth Normal Form (5NF)**: A table is in 5NF, also known as Project-Join Normal Form (PJNF), if it is in 4NF and every join dependency in the table is a consequence of the candidate keys of the table.\n",
    "\n",
    "Each normal form represents a higher level of normalization, with 1NF being the lowest and 5NF being the highest. The goal of normalization is to reduce redundancy and improve data integrity, but in some cases, higher levels of normalization can lead to more complex queries and reduced performance. Therefore, the level of normalization chosen may reflect a balance between these factors."
   ]
  },
  {
   "cell_type": "markdown",
   "metadata": {},
   "source": [
    "# 19. In a database, what is the ACID property?"
   ]
  },
  {
   "cell_type": "markdown",
   "metadata": {},
   "source": [
    "ACID is an acronym that stands for Atomicity, Consistency, Isolation, and Durability. These are a set of properties that guarantee that database transactions are processed reliably.\n",
    "\n",
    "1. **Atomicity**: This property ensures that a transaction is treated as a single, indivisible unit, which either succeeds completely, or fails completely. If any part of the transaction fails, the entire transaction fails, and the database state is left unchanged.\n",
    "\n",
    "2. **Consistency**: This property ensures that a transaction brings the database from one valid state to another. The database has a set of integrity constraints (rules), and all transactions should leave the database in a state where these rules hold.\n",
    "\n",
    "3. **Isolation**: This property ensures that concurrent execution of transactions leaves the database in the same state that would have been obtained if the transactions were executed sequentially. In other words, the execution of one transaction is isolated from the execution of other transactions - they cannot interfere with each other.\n",
    "\n",
    "4. **Durability**: This property ensures that once a transaction has been committed, it will remain committed even in the case of a system failure (such as a power outage or crash). This is typically achieved by storing the transaction data in non-volatile storage.\n",
    "\n",
    "ACID properties are important in systems where it's critical that transactions are accurately processed, like financial systems, airline reservation systems, etc. However, enforcing ACID properties can impact performance, so some systems might choose to relax ACID properties in favor of better performance or scalability."
   ]
  },
  {
   "cell_type": "markdown",
   "metadata": {},
   "source": [
    "# 20. What is \"Trigger\" in SQL?"
   ]
  },
  {
   "cell_type": "markdown",
   "metadata": {},
   "source": [
    "A trigger in SQL is a special type of stored procedure that automatically executes or fires when a specific event occurs in the database. Triggers are used to maintain the integrity of the data in the database and are invoked automatically when a particular action (like an insert, update, or delete) occurs on a table.\n",
    "\n",
    "There are three types of triggers:\n",
    "\n",
    "1. **Data Manipulation Language (DML) Triggers**: These triggers are invoked when a DML command (INSERT, UPDATE, DELETE) is executed on a table or view.\n",
    "\n",
    "2. **Data Definition Language (DDL) Triggers**: These triggers are invoked when a DDL command (CREATE, ALTER, DROP) is executed.\n",
    "\n",
    "3. **Logon Triggers**: These triggers are invoked when a LOGON event of SQL Server is occurred.\n",
    "\n",
    "Triggers can be further classified into two types:\n",
    "\n",
    "1. **AFTER Triggers (or FOR Triggers)**: These triggers execute after the triggering SQL statement is executed.\n",
    "\n",
    "2. **INSTEAD OF Triggers**: These triggers execute in place of the triggering SQL statement.\n",
    "\n",
    "Here's an example of a simple trigger:\n",
    "\n"
   ]
  },
  {
   "cell_type": "code",
   "execution_count": null,
   "metadata": {
    "vscode": {
     "languageId": "sql"
    }
   },
   "outputs": [],
   "source": [
    "CREATE TRIGGER insert_trigger\n",
    "ON table_name\n",
    "AFTER INSERT\n",
    "AS\n",
    "BEGIN\n",
    "  -- SQL statements to execute after an INSERT operation on table_name\n",
    "END;"
   ]
  },
  {
   "cell_type": "markdown",
   "metadata": {},
   "source": [
    "\n",
    "\n",
    "This trigger would automatically execute the SQL statements inside the `BEGIN...END` block after an `INSERT` operation on `table_name`.\n",
    "\n",
    "Triggers can be very powerful, but they should be used judiciously as they can have significant performance implications and can make debugging more complex."
   ]
  },
  {
   "cell_type": "markdown",
   "metadata": {},
   "source": [
    "# 21. What are the different types of SQL operators?"
   ]
  },
  {
   "cell_type": "markdown",
   "metadata": {},
   "source": [
    "SQL operators are used to perform operations on data within tables. They are used in the WHERE clause to filter the data and can also be used in the SELECT, UPDATE, or DELETE statements. Here are the different types of SQL operators:\n",
    "\n",
    "1. **Arithmetic Operators**: These are used to perform mathematical operations. They include `+` (addition), `-` (subtraction), `*` (multiplication), `/` (division), and `%` (modulus).\n",
    "\n",
    "2. **Comparison Operators**: These are used to compare one expression with another. They include `=` (equal), `<>` or `!=` (not equal), `>` (greater than), `<` (less than), `>=` (greater than or equal), and `<=` (less than or equal).\n",
    "\n",
    "3. **Logical Operators**: These are used to combine the result of two component conditions to produce a single result. They include `AND`, `OR`, and `NOT`.\n",
    "\n",
    "4. **Bitwise Operators**: These are used to perform bit-level operations on bit data types. They include `&` (bitwise AND), `|` (bitwise OR), and `^` (bitwise exclusive OR).\n",
    "\n",
    "5. **String Operators**: These are used to perform operations on string data. The most common one is `||` (concatenation).\n",
    "\n",
    "6. **Set Operators**: These are used to combine, subtract, or create an intersection from the result sets of two or more SELECT statements. They include `UNION`, `UNION ALL`, `INTERSECT`, and `EXCEPT` (or `MINUS` in some databases).\n",
    "\n",
    "7. **Unary Operators**: These are used to perform operations on a single operand. They include `-` (negative), `+` (positive), and `~` (bitwise NOT).\n",
    "\n",
    "8. **Ternary Operators**: These are used to perform operations that involve three expressions. The most common one is `BETWEEN`.\n",
    "\n",
    "Each operator has specific rules about the types of data on which it can operate. For example, arithmetic operators can operate on numeric data, while comparison and logical operators can operate on both numeric and string data."
   ]
  },
  {
   "cell_type": "markdown",
   "metadata": {},
   "source": [
    "# 22. Do NULL values have the same meaning as zero or a blank space?"
   ]
  },
  {
   "cell_type": "markdown",
   "metadata": {},
   "source": [
    "No, NULL values in SQL do not have the same meaning as zero or a blank space.\n",
    "\n",
    "A NULL value in a database really means the absence of a value. It is a special marker used in SQL to indicate that a data value does not exist in the database. In other words, it marks the places that are missing information or unknown.\n",
    "\n",
    "On the other hand, zero is a number, and a blank space is a character. They are actual values. For example, in a table column of numeric type, a value of zero is a valid numerical value. For a string type, a blank space is a valid string, even though it's empty.\n",
    "\n",
    "This distinction is important because NULLs are treated differently than other values. For example, if you were to use arithmetic operators, NULL added to anything else results in NULL, because the value is unknown. Similarly, comparing anything with NULL using equality or inequality operators (`=`, `<>`, etc.) results in NULL, not true or false.\n",
    "\n",
    "So, it's important to handle NULL values correctly in your SQL queries to ensure accurate results."
   ]
  },
  {
   "cell_type": "markdown",
   "metadata": {},
   "source": [
    "# 23. What is the difference between a natural join and a cross join?"
   ]
  },
  {
   "cell_type": "markdown",
   "metadata": {},
   "source": [
    "A **Natural Join** and a **Cross Join** are two different types of joins in SQL, and they serve different purposes:\n",
    "\n",
    "1. **Natural Join**: A Natural Join returns all the rows from both tables where the key record of both tables match. The key record here refers to the column or columns that were used to establish the relationship between the two tables. If the selected columns of the two tables have the same names and data types, those columns are used for a natural join. In a Natural Join, the duplicate columns are removed and it selects records having the same values in both tables.\n",
    "\n"
   ]
  },
  {
   "cell_type": "code",
   "execution_count": null,
   "metadata": {
    "vscode": {
     "languageId": "sql"
    }
   },
   "outputs": [],
   "source": [
    "SELECT *\n",
    "FROM table1\n",
    "NATURAL JOIN table2;"
   ]
  },
  {
   "cell_type": "markdown",
   "metadata": {},
   "source": [
    "\n",
    "\n",
    "2. **Cross Join**: A Cross Join returns the Cartesian product of rows from the joined tables. That means it will return all possible combinations of rows from the two tables. If table1 has 'n' rows and table2 has 'm' rows, the result will have 'n*m' rows. It doesn't require any condition to join.\n",
    "\n"
   ]
  },
  {
   "cell_type": "code",
   "execution_count": null,
   "metadata": {
    "vscode": {
     "languageId": "sql"
    }
   },
   "outputs": [],
   "source": [
    "SELECT *\n",
    "FROM table1\n",
    "CROSS JOIN table2;"
   ]
  },
  {
   "cell_type": "markdown",
   "metadata": {},
   "source": [
    "\n",
    "\n",
    "In general, you would use a Natural Join when you want to combine rows that have matching values in matching columns, and a Cross Join when you want to combine all rows from two tables regardless of any matching criteria."
   ]
  },
  {
   "cell_type": "markdown",
   "metadata": {},
   "source": [
    "# 24. What is a subquery in SQL?"
   ]
  },
  {
   "cell_type": "markdown",
   "metadata": {},
   "source": [
    "A subquery in SQL is a query that is embedded within another query. The outer query is called the main query, and the query within the main query is called the subquery. Subqueries can return individual values or a list of records; these returned values are then used by the main query.\n",
    "\n",
    "Subqueries can be used in various places within a main query: in the SELECT, WHERE, and FROM clauses, among others.\n",
    "\n",
    "Here's an example of a subquery in a WHERE clause:\n",
    "\n"
   ]
  },
  {
   "cell_type": "code",
   "execution_count": null,
   "metadata": {
    "vscode": {
     "languageId": "sql"
    }
   },
   "outputs": [],
   "source": [
    "SELECT employee_name \n",
    "FROM employees \n",
    "WHERE salary > (SELECT AVG(salary) FROM employees);"
   ]
  },
  {
   "cell_type": "markdown",
   "metadata": {},
   "source": [
    "\n",
    "\n",
    "In this example, the subquery `(SELECT AVG(salary) FROM employees)` calculates the average salary of all employees. The main query then returns the names of employees who earn more than this average salary.\n",
    "\n",
    "Subqueries can be nested at various levels and can get quite complex. They are a powerful tool in SQL, allowing you to perform operations that cannot be done with a single query. However, they can also be more difficult to read and understand than joins or other methods of combining data, so they should be used judiciously."
   ]
  },
  {
   "cell_type": "markdown",
   "metadata": {},
   "source": [
    "# 25. What are the various forms of subqueries?"
   ]
  },
  {
   "cell_type": "markdown",
   "metadata": {},
   "source": [
    "Subqueries in SQL can be categorized based on their position in the main query or based on the number of values they return. Here are the various forms of subqueries:\n",
    "\n",
    "1. **Scalar Subquery**: This type of subquery returns a single value. It can be used anywhere in the main query where an expression returning a single value is allowed.\n",
    "\n",
    "2. **Row Subquery**: This type of subquery returns a single row of one or more columns. It is often used in comparison operations with operators that compare an entire row of data, such as `=` or `<>`.\n",
    "\n",
    "3. **Column Subquery**: This type of subquery returns a single column of one or more rows. It is often used with operators that work on a set of values, such as `IN` or `NOT IN`.\n",
    "\n",
    "4. **Table Subquery**: This type of subquery returns a table (i.e., multiple rows and multiple columns). It is often used in the `FROM` clause of a SQL statement.\n",
    "\n",
    "Based on their position in the main query, subqueries can be further categorized as:\n",
    "\n",
    "1. **Subqueries in the SELECT clause**: These subqueries are used in the SELECT clause to form a column of the result set.\n",
    "\n",
    "2. **Subqueries in the FROM clause**: These subqueries are used to form a temporary table that can be used in the FROM clause.\n",
    "\n",
    "3. **Subqueries in the WHERE clause**: These subqueries are used to filter the rows for the result set.\n",
    "\n",
    "4. **Subqueries in the HAVING clause**: These subqueries are used to filter the groups in the result set.\n",
    "\n",
    "5. **Correlated Subqueries**: These are a type of subquery where the inner query depends on the outer query for its values. This means that the inner query is executed once for each row processed by the outer query.\n",
    "\n",
    "Each type of subquery is used in different scenarios and can be used to solve complex problems in SQL."
   ]
  },
  {
   "cell_type": "markdown",
   "metadata": {},
   "source": [
    "# **Thank You!**"
   ]
  }
 ],
 "metadata": {
  "language_info": {
   "name": "python"
  }
 },
 "nbformat": 4,
 "nbformat_minor": 2
}
