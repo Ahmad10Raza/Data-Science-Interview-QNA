{
 "cells": [
  {
   "cell_type": "markdown",
   "metadata": {},
   "source": [
    "# MYSQL\n",
    "MySQL is a relational database management system that is free and open-\n",
    "source (RDBMS). It works both on the web and on the server. MySQL is a\n",
    "fast, dependable, and simple database, and it's a free and open-source\n",
    "program. MySQL is a database management system that runs on many\n",
    "systems and employs standard SQL. It's a SQL database management\n",
    "system that's multithreaded and multi-user.\n",
    "\n",
    "Tables are used to store information in a MySQL database. A table is a set\n",
    "of columns and rows that hold linked information.\n",
    "\n",
    "MySQL includes standalone clients that allow users to communicate\n",
    "directly with a MySQL database using SQL. Still, MySQL is more common\n",
    "to be used in conjunction with other programs to create applications that\n",
    "require relational database functionality."
   ]
  }
 ],
 "metadata": {
  "language_info": {
   "name": "python"
  }
 },
 "nbformat": 4,
 "nbformat_minor": 2
}
