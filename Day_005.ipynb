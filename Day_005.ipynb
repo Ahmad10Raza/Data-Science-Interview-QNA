{
 "cells": [
  {
   "cell_type": "markdown",
   "metadata": {},
   "source": [
    "# Interview Questions on Linear Algebra"
   ]
  },
  {
   "cell_type": "markdown",
   "metadata": {},
   "source": [
    "# 1. Under what circumstances does the inverse of a diagonal matrix exist?\n",
    "If all diagonal elements are non-zero, the inversion of a square diagonal\n",
    "matrix exists. If this is the case, the inverse is derived by substituting the\n",
    "reciprocal of each diagonal element."
   ]
  },
  {
   "cell_type": "markdown",
   "metadata": {},
   "source": [
    "# 2. What does Ax = bAx=b stand for? When does Ax = b have aunique solution?\n",
    "Ax = b is a set of linear equations written in matrix form, in which:\n",
    "\n",
    "A is the order m x n coefficient matrix, and x is the order n x 1 incognite\n",
    "variables vector.\n",
    "\n",
    "The constants create the vector b, which has the order m x 1.\n",
    "\n",
    "If and only if the system Ax = b has a unique solution.\n",
    "\n",
    "n rank[A|b] = n rank[A|b] = n\n",
    "\n",
    "n rank[A|b] = n rank[A|b] = n\n",
    "\n",
    "The matrix A|b is matrix A with b attached as an additional column, hence\n",
    "rank[A]=rank[Ab]=n."
   ]
  },
  {
   "cell_type": "markdown",
   "metadata": {},
   "source": [
    "# 3. What is the process for diagonalizing a matrix?\n",
    "To obtain the diagonal matrix D of an nxn matrix A, we must do the\n",
    "following:\n",
    "\n",
    "* Determine A's characteristic polynomial.\n",
    "* To get the eigenvalues of A, find the roots of the characteristic polynomial.\n",
    "* Find the corresponding eigenvectors for each of A's eigenvalues.\n",
    "\n",
    "The matrix is not diagonalizable if the total number of eigenvectors m\n",
    "determined in step 3 does not equal n (the number of rows and columns in\n",
    "A), but if m = n, the diagonal matrix D is provided by: bf D = P-1 A P, D=P\n",
    "1 AP, where P is defined as a matrix whose columns are the eigenvectors of\n",
    "the matrix A."
   ]
  },
  {
   "cell_type": "markdown",
   "metadata": {},
   "source": [
    "# 4. Find the definition of positive definite, negative definite, positive semi-definite, and negative semi-definite matrices?\n",
    "A positive definite matrix (PsDM) is a symmetric matrix M in which the\n",
    "number ztMz is positive for each non-zero column vector z.\n",
    "\n",
    "A symmetric matrix M is a positive semi-definite matrix if the number\n",
    "ztMz is positive or zero for every non-zero column vector z. Negative semi-\n",
    "definite matrices and negative definite matrices are defined in the same\n",
    "way.\n",
    "\n",
    "Because each matrix may be linked to the quadratic equation ztMz, these\n",
    "matrices aid in solving optimization issues, a positive definite matrix M, for\n",
    "example, implies a convex function, ensuring the existence of the global\n",
    "minimum. This allows us to solve the optimization issue with the Hessian\n",
    "matrix, and negative definite matrices are subject to the same\n",
    "considerations."
   ]
  },
  {
   "cell_type": "markdown",
   "metadata": {},
   "source": [
    "# 5. How does Linear Algebra relate to broadcasting?\n",
    "Broadcasting is a technique for easing element-by-element operations based\n",
    "on dimension constraints. If the relevant dimensions in each matrix (rows\n",
    "versus rows, columns versus columns) match the following conditions, we\n",
    "say two matrices are compatible for broadcasting.\n",
    "\n",
    "The measurements are the same, or one of the dimensions is the same size.\n",
    "Broadcasting works by duplicating the smaller array to make it the same\n",
    "size and dimensions as the bigger array. This approach was initially created\n",
    "for NumPy, but it has now been adopted by some other numerical\n",
    "computing libraries, including Theano, TensorFlow, and Octave."
   ]
  },
  {
   "cell_type": "markdown",
   "metadata": {},
   "source": [
    "# 6. What is an Orthogonal Matrix?\n",
    "An orthogonal matrix is a square matrix with columns and rows of\n",
    "orthonormal unit vectors, such as perpendicular and length or magnitude.\n",
    "\n",
    "It's formally defined as follows:\n",
    "Q^t Q = Q Q^t = I\n",
    "\n",
    "Qt, Q=QQ, t=I\n",
    "\n",
    "Where Q stands for the orthogonal matrix, Qt for the transpose of Q, and I\n",
    "for the identity matrix. We can observe from the definition above that\n",
    "\n",
    "Q^{-1} = Q^t\n",
    "\n",
    "Q−1 =Qt\n",
    "\n",
    "As a result, the orthogonal matrix is favored since its inverse is computed as\n",
    "merely its transpose, computationally inexpensive, and stable. Then you'll\n",
    "need to recall that the binomial distribution's standard deviation is sqrt(n*p*(1-p))."
   ]
  },
  {
   "cell_type": "markdown",
   "metadata": {},
   "source": [
    "# **Thank You!**"
   ]
  }
 ],
 "metadata": {
  "kernelspec": {
   "display_name": "Python 3",
   "language": "python",
   "name": "python3"
  },
  "language_info": {
   "name": "python",
   "version": "3.10.12"
  }
 },
 "nbformat": 4,
 "nbformat_minor": 2
}
