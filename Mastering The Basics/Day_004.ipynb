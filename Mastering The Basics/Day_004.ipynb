{
 "cells": [
  {
   "cell_type": "markdown",
   "metadata": {},
   "source": [
    "# Interview Questions on Probability Concepts"
   ]
  },
  {
   "cell_type": "markdown",
   "metadata": {},
   "source": [
    "# 1. How do you distinguish between the Bernoulli and binomial distributions?\n",
    "The Bernoulli distribution simulates one trial of an experiment with just two\n",
    "possible outcomes, whereas the binomial distribution simulates n trials."
   ]
  },
  {
   "cell_type": "markdown",
   "metadata": {},
   "source": [
    "The Bernoulli distribution simulates one trial of an experiment with just two possible outcomes, typically represented as success (1) or failure (0). It is a discrete probability distribution.\n",
    "\n",
    "On the other hand, the binomial distribution simulates a fixed number of independent Bernoulli trials. It represents the number of successes in a fixed number of trials. The binomial distribution is also discrete and characterized by two parameters: the number of trials (n) and the probability of success in each trial (p).\n",
    "\n",
    "In summary, the main distinction between the Bernoulli and binomial distributions is that the Bernoulli distribution models a single trial, while the binomial distribution models multiple trials with a fixed number of successes."
   ]
  },
  {
   "cell_type": "markdown",
   "metadata": {},
   "source": [
    "# 2. Describe how a probability distribution might be non-normal and provide an example.\n",
    "The probability distribution is not normal if most observations do not\n",
    "cluster around the mean, creating the bell curve. A uniform probability\n",
    "distribution is an example of a non-normal probability distribution, in which\n",
    "all values are equally likely to occur within a particular range."
   ]
  },
  {
   "cell_type": "markdown",
   "metadata": {},
   "source": [
    "A probability distribution can be non-normal if the observations do not cluster around the mean, resulting in a distribution that does not follow a bell curve. One example of a non-normal probability distribution is a uniform distribution. In a uniform distribution, all values within a specific range are equally likely to occur, without any clustering or preference towards certain values."
   ]
  },
  {
   "cell_type": "markdown",
   "metadata": {},
   "source": [
    "# 4. How can you tell the difference between correlation and covariance? Give a specific example.\n",
    "Covariance can be any numeric value, but correlation can only be between\n",
    "-1 (strong negative correlation) and 1 (strong positive correlation) (strong\n",
    "direct correlation). As a result, a link between two variables may appear to\n",
    "have a high covariance but a low correlation value."
   ]
  },
  {
   "cell_type": "markdown",
   "metadata": {},
   "source": [
    "Covariance measures the linear relationship between two variables, while correlation measures both the strength and direction of the linear relationship between two variables.\n",
    "\n",
    "For example, let's consider two variables: the number of hours studied and the exam score. If we calculate the covariance between these two variables, we will get a numeric value that represents the extent to which the variables vary together. A positive covariance indicates that as the number of hours studied increases, the exam score tends to increase as well. However, the magnitude of the covariance does not provide information about the strength or direction of the relationship.\n",
    "\n",
    "On the other hand, if we calculate the correlation between the number of hours studied and the exam score, we will get a value between -1 and 1. A positive correlation close to 1 indicates a strong positive linear relationship, meaning that as the number of hours studied increases, the exam score also increases. A negative correlation close to -1 indicates a strong negative linear relationship, meaning that as the number of hours studied increases, the exam score decreases. A correlation close to 0 indicates a weak or no linear relationship between the variables.\n",
    "\n",
    "In summary, covariance measures the extent to which two variables vary together, while correlation measures the strength and direction of the linear relationship between two variables."
   ]
  },
  {
   "cell_type": "markdown",
   "metadata": {},
   "source": [
    "# 5. How are the Central Limit Theorem and the Law of Large Numbers different?\n",
    "The Law of Large Numbers states that a \"sample mean\" is an unbiased\n",
    "estimator of the population mean and that the error of that mean decreases\n",
    "as the sample size grows. In contrast, the Central Limit Theorem states that\n",
    "as a sample size n grows large, the normal distribution can approximate its\n",
    "distribution."
   ]
  },
  {
   "cell_type": "markdown",
   "metadata": {},
   "source": [
    "The Law of Large Numbers states that as the sample size increases, the sample mean becomes a more accurate estimator of the population mean, and the error of the mean decreases. It focuses on the behavior of sample means.\n",
    "\n",
    "On the other hand, the Central Limit Theorem states that as the sample size increases, the distribution of the sample means approaches a normal distribution, regardless of the shape of the population distribution. It focuses on the distribution of sample means.\n",
    "\n",
    "In summary, the Law of Large Numbers deals with the accuracy of the sample mean as an estimator of the population mean, while the Central Limit Theorem deals with the distribution of sample means as the sample size increases."
   ]
  },
  {
   "cell_type": "markdown",
   "metadata": {},
   "source": [
    "# 6. What is the definition of an unbiased estimator? Give a layperson an example.\n",
    "An accurate statistic used to estimate a population parameter is an unbiased\n",
    "estimator. An example is using a sample of 1000 voters in a political poll to\n",
    "assess the overall voting population, and there is nothing like an utterly\n",
    "objective estimator."
   ]
  },
  {
   "cell_type": "markdown",
   "metadata": {},
   "source": [
    "An unbiased estimator is a statistic that accurately estimates a population parameter without any systematic overestimation or underestimation. In simpler terms, it provides an estimate that is on average equal to the true value of the parameter.\n",
    "\n",
    "For example, let's say we want to estimate the average height of all adults in a country. We take a random sample of 1000 adults and calculate their average height. If this sample average is unbiased, it means that, on average, it will be equal to the true average height of all adults in the country. This allows us to make reliable inferences about the population without any significant bias in our estimation."
   ]
  },
  {
   "cell_type": "markdown",
   "metadata": {},
   "source": [
    "# 7. Assume that the chance of finding a particular object X at location A is 0.6 and that finding it at location B is 0.8. What is the likelihood of finding item X in places A or B?\n",
    "Let us begin by defining our probabilities:\n",
    "P(Item at location A) = P(A) = 0.6\n",
    "P(Item at location B) = P(B) = 0.8\n",
    "We want to understand how likely it is that item X will be found on the\n",
    "internet in this city. The likelihood that item X is at location A or location B\n",
    "may be calculated from the question. We can describe this probability in\n",
    "equation form since our occurrences are not mutually exclusive: P(A or B)\n",
    "= P(A or B) (AUB)"
   ]
  },
  {
   "cell_type": "markdown",
   "metadata": {},
   "source": [
    "# 8. Assume you have a deck of 500 cards with numbers ranging from 1 to 500. What is the likelihood of each following card being larger than the previously drawn card if all the cards are mixed randomly, and you are asked to choose three cards one at a time?\n",
    "Consider this a sample space problem, with all other specifics ignored. We\n",
    "may suppose that if someone selects three distinct numbered unique cards at\n",
    "random without replacement, there will be low, medium, and high cards.\n",
    "Let's pretend we drew the numbers 1, 2, and 3 to make things easier. In our\n",
    "case, the winning scenario would be if we pulled (1,2,3) in that precise\n",
    "order. But what is the complete spectrum of possible outcomes?"
   ]
  },
  {
   "cell_type": "markdown",
   "metadata": {},
   "source": [
    "# 9. Assume you have one function, which gives a random number between a minimum and maximum value, N and M. Then take the output of that function and use it to calculate the total value of another random number generator with the same minimum value N. How would the resulting sample distribution be spread? What would the second function's anticipated value be?\n",
    "Let X be the first run's outcome, and Y be the second run's result. Because\n",
    "the integer output is \"random\" and no other information is provided, we\n",
    "may infer that any integers between N and M have an equal chance of being\n",
    "chosen. As a result, X and Y are discrete uniform random variables with N\n",
    "& M and N & X limits, respectively."
   ]
  },
  {
   "cell_type": "markdown",
   "metadata": {},
   "source": [
    "# 10. An equilateral triangle has three zebras seated on each corner. Each zebra chooses a direction at random and only sprints along the triangle's outline to either of the triangle's opposing edges. Is there a chance that none of the zebras will collide?\n",
    "Assume that all of the zebras are arranged in an equilateral triangle. If\n",
    "they're sprinting down the outline to either edge, they have two alternatives\n",
    "for going in. Let's compute the chances that they won't collide, given that\n",
    "the scenario is random. In reality, there are only two options. The zebras\n",
    "will run in either a clockwise or counter-clockwise motion.\n",
    "Let's see what the probability is for each one. The likelihood that each zebra\n",
    "will choose to go clockwise is the product of the number of zebras who opt\n",
    "to travel clockwise. Given two options (clockwise or counter-clockwise),\n",
    "that would be 1/2 * 1/2 * 1/2 = 1/8.\n",
    "Every zebra has the same 1/8 chance of traveling counter-clockwise. As a\n",
    "result, we obtain the proper probability of 1/4 or 25% if we add the\n",
    "probabilities together."
   ]
  },
  {
   "cell_type": "markdown",
   "metadata": {},
   "source": [
    "# 11. You contact three random pals in Seattle and ask them if it's raining on their own. Each of your pals has a two-thirds probability of giving you the truth and a one-third risk of deceiving you by lying. \"Yes,\" all three of your buddies agree, it is raining. What are the chances that it's raining in Seattle right now?\n",
    "According to the outcome of the Frequentist method, if you repeat the trials\n",
    "with your friends, there is one occurrence in which all three of your friends\n",
    "lied inside those 27 trials.\n",
    "However, because your friends all provided the same response, you're not\n",
    "interested in all 27 trials, which would include occurrences when your\n",
    "friends' replies differed."
   ]
  },
  {
   "cell_type": "markdown",
   "metadata": {},
   "source": [
    "# 12. You have 576 times to flip a fair coin. Calculate the chance of flipping at least 312 heads without using a calculator.\n",
    "This question needs a little memory. Given that we have to predict the\n",
    "number of heads out of some trials, we may deduce that it's a binomial\n",
    "distribution problem at first look. As a result, for each test, we'll employ a\n",
    "binomial distribution with n trials and a probability of success of p. The\n",
    "probability for success (a fair coin has a 0.5 chance of landing heads or\n",
    "tails) multiplied by the total number of trials is the anticipated number of\n",
    "heads for a binomial distribution (576). As a result, our coin flips are\n",
    "projected to turn up heads 288 times."
   ]
  },
  {
   "cell_type": "markdown",
   "metadata": {},
   "source": [
    "# 13. You are handed a neutral coin, and you are to toss the coin until it lands on either Heads Heads Tails (HHT) or Heads Tails Tails (HTT). Is it more probable that one will appear first? If so, which one and how likely is it?\n",
    "Given the two circumstances, we may conclude that both sequences need H\n",
    "to come first. The chance of HHT is now equal to 1/2 after H occurs. What\n",
    "is the reason behind this? Because all you need for HHT in this\n",
    "circumstance is one H. Because we are flipping the coin in series until we\n",
    "observe a string of HHT or HTT in a row, the coin does not reset. The fact\n",
    "that the initial letter is H enhances the likelihood of HHT rather than HTT."
   ]
  },
  {
   "cell_type": "markdown",
   "metadata": {},
   "source": [
    "# **Thank You!**"
   ]
  }
 ],
 "metadata": {
  "kernelspec": {
   "display_name": "Python 3",
   "language": "python",
   "name": "python3"
  },
  "language_info": {
   "name": "python",
   "version": "3.10.12"
  }
 },
 "nbformat": 4,
 "nbformat_minor": 2
}
