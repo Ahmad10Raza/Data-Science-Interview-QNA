{
 "cells": [
  {
   "cell_type": "markdown",
   "metadata": {},
   "source": [
    "# PANDA"
   ]
  },
  {
   "cell_type": "markdown",
   "metadata": {},
   "source": [
    "Pandas is a powerful open-source data analysis and manipulation library for Python. It provides data structures and functions needed to manipulate structured data, including functions for reading and writing data in a variety of formats.\n",
    "\n",
    "Advantages of Pandas compared to other libraries:\n",
    "\n",
    "1. **Data Structures**: Pandas provides two flexible data structures - DataFrame and Series - that can handle a wide variety of data types.\n",
    "\n",
    "2. **Handling Missing Data**: Pandas can easily handle missing data and provides functions to fill, drop, replace, and interpolate missing values.\n",
    "\n",
    "3. **Data Alignment**: Automatic data alignment according to labels is a powerful feature of Pandas. It aligns data for you and makes operations on data easy and intuitive.\n",
    "\n",
    "4. **Easy Data Manipulation**: Pandas provides a wide range of functions for data manipulation, including filtering, grouping, merging, reshaping, and more.\n",
    "\n",
    "5. **Performance**: Pandas is built on top of NumPy, making it fast for data analysis tasks. It also provides a flexible group by functionality to perform split-apply-combine operations on data sets.\n",
    "\n",
    "6. **Integration with Other Libraries**: Pandas integrates well with many other data science libraries, such as Matplotlib for data visualization and Scikit-learn for machine learning.\n",
    "\n",
    "7. **Time Series Functionality**: Pandas provides extensive capabilities for time series data, including date range generation, frequency conversion, moving window statistics, date shifting, and lagging.\n",
    "\n",
    "Compared to other data analysis libraries, Pandas is more high-level, flexible, and provides a richer set of data analysis functions. It's designed to make real-world data analysis significantly easier."
   ]
  },
  {
   "cell_type": "markdown",
   "metadata": {},
   "source": [
    "# 1. What exactly are Pandas/Python Pandas?\n",
    "\n",
    "Pandas are a Python open-source toolkit that allows for high-performance\n",
    "data manipulation. Pandas get its name from \"panel data,\" which refers to\n",
    "econometrics based on multidimensional data. It was created by Wes\n",
    "McKinney in 2008 and may be used for data analysis in Python. It can\n",
    "conduct the five major processes necessary for data processing and analysis,\n",
    "regardless of the data's origin, namely load, manipulate, prepare, model, and\n",
    "analyze."
   ]
  },
  {
   "cell_type": "markdown",
   "metadata": {},
   "source": [
    "# 2. What are the different sorts of Pandas Data Structures?\n",
    "Pandas provide two data structures, Series and DataFrames, which the\n",
    "panda's library supports. Both of these data structures are based on the\n",
    "NumPy framework. A series is a one-dimensional data structure in pandas,\n",
    "whereas a DataFrame is two-dimensional."
   ]
  },
  {
   "cell_type": "markdown",
   "metadata": {},
   "source": [
    "# 3. How do you define a series in Pandas?"
   ]
  }
 ],
 "metadata": {
  "language_info": {
   "name": "python"
  }
 },
 "nbformat": 4,
 "nbformat_minor": 2
}
